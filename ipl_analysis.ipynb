{
  "nbformat": 4,
  "nbformat_minor": 0,
  "metadata": {
    "colab": {
      "name": "ipl_analysis.ipynb",
      "version": "0.3.2",
      "provenance": [],
      "include_colab_link": true
    },
    "kernelspec": {
      "name": "python3",
      "display_name": "Python 3"
    },
    "accelerator": "GPU"
  },
  "cells": [
    {
      "cell_type": "markdown",
      "metadata": {
        "id": "view-in-github",
        "colab_type": "text"
      },
      "source": [
        "<a href=\"https://colab.research.google.com/github/ravi-gopalan/ipl_analysis/blob/master/ipl_analysis.ipynb\" target=\"_parent\"><img src=\"https://colab.research.google.com/assets/colab-badge.svg\" alt=\"Open In Colab\"/></a>"
      ]
    },
    {
      "cell_type": "code",
      "metadata": {
        "id": "RrkZVr6GydyX",
        "colab_type": "code",
        "colab": {
          "base_uri": "https://localhost:8080/",
          "height": 104
        },
        "outputId": "357f59b6-722a-4ff3-d25f-5b3450f4c107"
      },
      "source": [
        "!ls -la"
      ],
      "execution_count": 1,
      "outputs": [
        {
          "output_type": "stream",
          "text": [
            "total 16\n",
            "drwxr-xr-x 1 root root 4096 May 31 16:17 .\n",
            "drwxr-xr-x 1 root root 4096 Jun  4 04:28 ..\n",
            "drwxr-xr-x 1 root root 4096 May 31 16:17 .config\n",
            "drwxr-xr-x 1 root root 4096 May 31 16:17 sample_data\n"
          ],
          "name": "stdout"
        }
      ]
    },
    {
      "cell_type": "code",
      "metadata": {
        "id": "0DGs-VctylRX",
        "colab_type": "code",
        "colab": {
          "base_uri": "https://localhost:8080/",
          "height": 124
        },
        "outputId": "766bc8e3-2d29-4ea8-ce54-809a66e99146"
      },
      "source": [
        "from google.colab import drive\n",
        "drive.mount('/content/gdrive')"
      ],
      "execution_count": 2,
      "outputs": [
        {
          "output_type": "stream",
          "text": [
            "Go to this URL in a browser: https://accounts.google.com/o/oauth2/auth?client_id=947318989803-6bn6qk8qdgf4n4g3pfee6491hc0brc4i.apps.googleusercontent.com&redirect_uri=urn%3Aietf%3Awg%3Aoauth%3A2.0%3Aoob&scope=email%20https%3A%2F%2Fwww.googleapis.com%2Fauth%2Fdocs.test%20https%3A%2F%2Fwww.googleapis.com%2Fauth%2Fdrive%20https%3A%2F%2Fwww.googleapis.com%2Fauth%2Fdrive.photos.readonly%20https%3A%2F%2Fwww.googleapis.com%2Fauth%2Fpeopleapi.readonly&response_type=code\n",
            "\n",
            "Enter your authorization code:\n",
            "··········\n",
            "Mounted at /content/gdrive\n"
          ],
          "name": "stdout"
        }
      ]
    },
    {
      "cell_type": "code",
      "metadata": {
        "id": "54FxMpK1y9qD",
        "colab_type": "code",
        "colab": {
          "base_uri": "https://localhost:8080/",
          "height": 34
        },
        "outputId": "a476b8b2-d899-42ed-d90b-4fe0532634b4"
      },
      "source": [
        "cd /root"
      ],
      "execution_count": 3,
      "outputs": [
        {
          "output_type": "stream",
          "text": [
            "/root\n"
          ],
          "name": "stdout"
        }
      ]
    },
    {
      "cell_type": "code",
      "metadata": {
        "id": "zMJZuf2sy_JU",
        "colab_type": "code",
        "colab": {}
      },
      "source": [
        "!mkdir .kaggle"
      ],
      "execution_count": 0,
      "outputs": []
    },
    {
      "cell_type": "code",
      "metadata": {
        "id": "9Ozovm2azBd9",
        "colab_type": "code",
        "colab": {}
      },
      "source": [
        "!cp '/content/gdrive/My Drive/Colab_stuff/kaggle.json' /root/.kaggle/kaggle.json\n",
        "!chmod 600 /root/.kaggle/kaggle.json"
      ],
      "execution_count": 0,
      "outputs": []
    },
    {
      "cell_type": "code",
      "metadata": {
        "id": "AqxY27RGzNp8",
        "colab_type": "code",
        "colab": {
          "base_uri": "https://localhost:8080/",
          "height": 34
        },
        "outputId": "caac6a12-0380-4202-c106-c7c751b2fd11"
      },
      "source": [
        "cd /content"
      ],
      "execution_count": 6,
      "outputs": [
        {
          "output_type": "stream",
          "text": [
            "/content\n"
          ],
          "name": "stdout"
        }
      ]
    },
    {
      "cell_type": "code",
      "metadata": {
        "id": "JXm7VGDXzRSO",
        "colab_type": "code",
        "colab": {}
      },
      "source": [
        "!mkdir ipl"
      ],
      "execution_count": 0,
      "outputs": []
    },
    {
      "cell_type": "code",
      "metadata": {
        "id": "pBhsAYl8zWG3",
        "colab_type": "code",
        "colab": {
          "base_uri": "https://localhost:8080/",
          "height": 34
        },
        "outputId": "7d7b5aa3-8d64-41dc-d059-ee1f7ff4b362"
      },
      "source": [
        "cd /content/ipl"
      ],
      "execution_count": 8,
      "outputs": [
        {
          "output_type": "stream",
          "text": [
            "/content/ipl\n"
          ],
          "name": "stdout"
        }
      ]
    },
    {
      "cell_type": "code",
      "metadata": {
        "id": "hkegjK_dzEYN",
        "colab_type": "code",
        "colab": {
          "base_uri": "https://localhost:8080/",
          "height": 69
        },
        "outputId": "27d7a2d8-d2ef-4713-b39b-c72e86ce2a26"
      },
      "source": [
        "!kaggle datasets download -d divjain/ipl_data_till_2019"
      ],
      "execution_count": 9,
      "outputs": [
        {
          "output_type": "stream",
          "text": [
            "Downloading ipl_data_till_2019.zip to /content/ipl\n",
            "\r  0% 0.00/1.32M [00:00<?, ?B/s]\n",
            "\r100% 1.32M/1.32M [00:00<00:00, 87.5MB/s]\n"
          ],
          "name": "stdout"
        }
      ]
    },
    {
      "cell_type": "code",
      "metadata": {
        "id": "IEiUGmHlzfFU",
        "colab_type": "code",
        "colab": {
          "base_uri": "https://localhost:8080/",
          "height": 86
        },
        "outputId": "f8b4f7e1-5af9-4a87-b7b4-7979b39d3791"
      },
      "source": [
        "!ls -la"
      ],
      "execution_count": 10,
      "outputs": [
        {
          "output_type": "stream",
          "text": [
            "total 1364\n",
            "drwxr-xr-x 2 root root    4096 Jun  4 04:45 .\n",
            "drwxr-xr-x 1 root root    4096 Jun  4 04:44 ..\n",
            "-rw-r--r-- 1 root root 1385168 Jun  4 04:45 ipl_data_till_2019.zip\n"
          ],
          "name": "stdout"
        }
      ]
    },
    {
      "cell_type": "code",
      "metadata": {
        "id": "l-I_DoAUzkq0",
        "colab_type": "code",
        "colab": {
          "base_uri": "https://localhost:8080/",
          "height": 69
        },
        "outputId": "4d4a5481-6f78-49d1-a842-7a34e4b23712"
      },
      "source": [
        "!unzip ipl_data_till_2019.zip"
      ],
      "execution_count": 11,
      "outputs": [
        {
          "output_type": "stream",
          "text": [
            "Archive:  ipl_data_till_2019.zip\n",
            "  inflating: innings_data.csv        \n",
            "  inflating: match_data.csv          \n"
          ],
          "name": "stdout"
        }
      ]
    },
    {
      "cell_type": "code",
      "metadata": {
        "id": "2kPG2EhAzn8x",
        "colab_type": "code",
        "colab": {
          "base_uri": "https://localhost:8080/",
          "height": 121
        },
        "outputId": "5976fe25-6e75-4180-e27c-601c702a12ce"
      },
      "source": [
        "!ls -la"
      ],
      "execution_count": 12,
      "outputs": [
        {
          "output_type": "stream",
          "text": [
            "total 18080\n",
            "drwxr-xr-x 2 root root     4096 Jun  4 04:45 .\n",
            "drwxr-xr-x 1 root root     4096 Jun  4 04:44 ..\n",
            "---------- 1 root root 16937599 May  5 08:51 innings_data.csv\n",
            "-rw-r--r-- 1 root root  1385168 Jun  4 04:45 ipl_data_till_2019.zip\n",
            "---------- 1 root root   173805 May  5 08:51 match_data.csv\n"
          ],
          "name": "stdout"
        }
      ]
    },
    {
      "cell_type": "code",
      "metadata": {
        "id": "Dd-Sjf3hzwLs",
        "colab_type": "code",
        "colab": {}
      },
      "source": [
        "import pandas as pd\n",
        "import numpy as np\n",
        "import matplotlib.pyplot as plt\n",
        "import seaborn as sns"
      ],
      "execution_count": 0,
      "outputs": []
    },
    {
      "cell_type": "code",
      "metadata": {
        "id": "XgPPWcDqzqFM",
        "colab_type": "code",
        "colab": {}
      },
      "source": [
        "df_innings = pd.read_csv('innings_data.csv',sep=',')"
      ],
      "execution_count": 0,
      "outputs": []
    },
    {
      "cell_type": "code",
      "metadata": {
        "id": "c4jgAZoJ0BJh",
        "colab_type": "code",
        "colab": {
          "base_uri": "https://localhost:8080/",
          "height": 452
        },
        "outputId": "31c68d48-8d32-4400-f6d7-f6afebe2992c"
      },
      "source": [
        "df_innings.info()"
      ],
      "execution_count": 20,
      "outputs": [
        {
          "output_type": "stream",
          "text": [
            "<class 'pandas.core.frame.DataFrame'>\n",
            "RangeIndex: 176573 entries, 0 to 176572\n",
            "Data columns (total 20 columns):\n",
            "id                    176573 non-null int64\n",
            "season                176573 non-null int64\n",
            "batsman               176573 non-null object\n",
            "bowler                176573 non-null object\n",
            "innings               176573 non-null object\n",
            "non_striker           176573 non-null object\n",
            "replacements          30 non-null object\n",
            "bowled_over           176573 non-null float64\n",
            "batsman_team          176573 non-null object\n",
            "player_out            176573 non-null object\n",
            "fielder_caught_out    176573 non-null object\n",
            "type_out              176573 non-null object\n",
            "extras_wides          176573 non-null int64\n",
            "extras_legbyes        176573 non-null int64\n",
            "extras_noballs        176573 non-null int64\n",
            "extras_byes           176573 non-null int64\n",
            "extras_penalty        176573 non-null int64\n",
            "total_extras_runs     176573 non-null int64\n",
            "batsman_runs          176573 non-null int64\n",
            "total_runs            176573 non-null int64\n",
            "dtypes: float64(1), int64(10), object(9)\n",
            "memory usage: 26.9+ MB\n"
          ],
          "name": "stdout"
        }
      ]
    },
    {
      "cell_type": "code",
      "metadata": {
        "id": "11YEDPXT0pXF",
        "colab_type": "code",
        "colab": {
          "base_uri": "https://localhost:8080/",
          "height": 34
        },
        "outputId": "ebff5149-308d-40d3-d829-00e983b421b7"
      },
      "source": [
        "df_innings.groupby(['batsman_team','batsman'],axis=1)['batsman_runs']"
      ],
      "execution_count": 25,
      "outputs": [
        {
          "output_type": "execute_result",
          "data": {
            "text/plain": [
              "<pandas.core.groupby.generic.SeriesGroupBy object at 0x7fc241ecb550>"
            ]
          },
          "metadata": {
            "tags": []
          },
          "execution_count": 25
        }
      ]
    },
    {
      "cell_type": "code",
      "metadata": {
        "id": "-_aLGOsi0xS_",
        "colab_type": "code",
        "colab": {}
      },
      "source": [
        ""
      ],
      "execution_count": 0,
      "outputs": []
    }
  ]
}