{
  "nbformat": 4,
  "nbformat_minor": 0,
  "metadata": {
    "colab": {
      "name": "ipl_analysis.ipynb",
      "version": "0.3.2",
      "provenance": [],
      "collapsed_sections": [],
      "toc_visible": true,
      "include_colab_link": true
    },
    "kernelspec": {
      "name": "python3",
      "display_name": "Python 3"
    },
    "accelerator": "GPU"
  },
  "cells": [
    {
      "cell_type": "markdown",
      "metadata": {
        "id": "view-in-github",
        "colab_type": "text"
      },
      "source": [
        "<a href=\"https://colab.research.google.com/github/ravi-gopalan/ipl_analysis/blob/master/ipl_analysis_yaml_data_processing.ipynb\" target=\"_parent\"><img src=\"https://colab.research.google.com/assets/colab-badge.svg\" alt=\"Open In Colab\"/></a>"
      ]
    },
    {
      "cell_type": "code",
      "metadata": {
        "id": "RrkZVr6GydyX",
        "colab_type": "code",
        "outputId": "b78726ab-0f2a-4045-cb63-134a8591c4b3",
        "colab": {
          "base_uri": "https://localhost:8080/",
          "height": 104
        }
      },
      "source": [
        "!ls -la"
      ],
      "execution_count": 2,
      "outputs": [
        {
          "output_type": "stream",
          "text": [
            "total 16\n",
            "drwxr-xr-x 1 root root 4096 May 31 16:17 .\n",
            "drwxr-xr-x 1 root root 4096 Jun 17 21:24 ..\n",
            "drwxr-xr-x 1 root root 4096 Jun 14 16:05 .config\n",
            "drwxr-xr-x 1 root root 4096 May 31 16:17 sample_data\n"
          ],
          "name": "stdout"
        }
      ]
    },
    {
      "cell_type": "code",
      "metadata": {
        "id": "0DGs-VctylRX",
        "colab_type": "code",
        "outputId": "2bd62b85-5985-4ba4-9536-db99ca856790",
        "colab": {
          "base_uri": "https://localhost:8080/",
          "height": 124
        }
      },
      "source": [
        "from google.colab import drive\n",
        "drive.mount('/content/gdrive')"
      ],
      "execution_count": 3,
      "outputs": [
        {
          "output_type": "stream",
          "text": [
            "Go to this URL in a browser: https://accounts.google.com/o/oauth2/auth?client_id=947318989803-6bn6qk8qdgf4n4g3pfee6491hc0brc4i.apps.googleusercontent.com&redirect_uri=urn%3Aietf%3Awg%3Aoauth%3A2.0%3Aoob&scope=email%20https%3A%2F%2Fwww.googleapis.com%2Fauth%2Fdocs.test%20https%3A%2F%2Fwww.googleapis.com%2Fauth%2Fdrive%20https%3A%2F%2Fwww.googleapis.com%2Fauth%2Fdrive.photos.readonly%20https%3A%2F%2Fwww.googleapis.com%2Fauth%2Fpeopleapi.readonly&response_type=code\n",
            "\n",
            "Enter your authorization code:\n",
            "··········\n",
            "Mounted at /content/gdrive\n"
          ],
          "name": "stdout"
        }
      ]
    },
    {
      "cell_type": "code",
      "metadata": {
        "id": "AqxY27RGzNp8",
        "colab_type": "code",
        "outputId": "ea1d882e-dedd-473e-94ca-2407975ccd28",
        "colab": {
          "base_uri": "https://localhost:8080/",
          "height": 34
        }
      },
      "source": [
        "cd /content"
      ],
      "execution_count": 2,
      "outputs": [
        {
          "output_type": "stream",
          "text": [
            "/content\n"
          ],
          "name": "stdout"
        }
      ]
    },
    {
      "cell_type": "code",
      "metadata": {
        "id": "JXm7VGDXzRSO",
        "colab_type": "code",
        "colab": {}
      },
      "source": [
        "!mkdir ipl"
      ],
      "execution_count": 0,
      "outputs": []
    },
    {
      "cell_type": "code",
      "metadata": {
        "id": "pBhsAYl8zWG3",
        "colab_type": "code",
        "outputId": "be2446d5-d705-4b7b-f257-9095004d480f",
        "colab": {
          "base_uri": "https://localhost:8080/",
          "height": 34
        }
      },
      "source": [
        "cd /content/ipl"
      ],
      "execution_count": 6,
      "outputs": [
        {
          "output_type": "stream",
          "text": [
            "/content/ipl\n"
          ],
          "name": "stdout"
        }
      ]
    },
    {
      "cell_type": "code",
      "metadata": {
        "id": "TSoGmc0cmDUX",
        "colab_type": "code",
        "outputId": "128b943f-1ba3-408a-e189-8636b8a9e6c8",
        "colab": {
          "base_uri": "https://localhost:8080/",
          "height": 34
        }
      },
      "source": [
        "cd /root"
      ],
      "execution_count": 3,
      "outputs": [
        {
          "output_type": "stream",
          "text": [
            "/root\n"
          ],
          "name": "stdout"
        }
      ]
    },
    {
      "cell_type": "code",
      "metadata": {
        "id": "uMdNkWFEmHE-",
        "colab_type": "code",
        "colab": {}
      },
      "source": [
        "!mkdir .kaggle"
      ],
      "execution_count": 0,
      "outputs": []
    },
    {
      "cell_type": "code",
      "metadata": {
        "id": "CRAshjcJmMuN",
        "colab_type": "code",
        "colab": {}
      },
      "source": [
        "!cp '/content/gdrive/My Drive/Colab_stuff/kaggle.json' /root/.kaggle/kaggle.json\n",
        "!chmod 600 /root/.kaggle/kaggle.json"
      ],
      "execution_count": 0,
      "outputs": []
    },
    {
      "cell_type": "code",
      "metadata": {
        "id": "VmGVUrUBouC0",
        "colab_type": "code",
        "outputId": "0603e364-2189-479a-9565-f186833bc2b8",
        "colab": {
          "base_uri": "https://localhost:8080/",
          "height": 34
        }
      },
      "source": [
        "cd /content/ipl"
      ],
      "execution_count": 7,
      "outputs": [
        {
          "output_type": "stream",
          "text": [
            "/content/ipl\n"
          ],
          "name": "stdout"
        }
      ]
    },
    {
      "cell_type": "code",
      "metadata": {
        "id": "ImG8LhjRo1re",
        "colab_type": "code",
        "outputId": "0b64f23b-eb66-4ef3-8e34-089f19b32676",
        "colab": {
          "base_uri": "https://localhost:8080/",
          "height": 34
        }
      },
      "source": [
        "!kaggle datasets download -d ravijee/ipl-2008-to-2019 -p /content/ipl"
      ],
      "execution_count": 8,
      "outputs": [
        {
          "output_type": "stream",
          "text": [
            "ipl-2008-to-2019.zip: Skipping, found more recently modified local copy (use --force to force download)\n"
          ],
          "name": "stdout"
        }
      ]
    },
    {
      "cell_type": "code",
      "metadata": {
        "id": "IEiUGmHlzfFU",
        "colab_type": "code",
        "outputId": "8789c119-b8d1-47ad-b493-9666d285cb5a",
        "colab": {
          "base_uri": "https://localhost:8080/",
          "height": 156
        }
      },
      "source": [
        "!ls -la"
      ],
      "execution_count": 9,
      "outputs": [
        {
          "output_type": "stream",
          "text": [
            "total 60904\n",
            "drwxr-xr-x 3 root root     4096 Jun 18 00:09 .\n",
            "drwxr-xr-x 1 root root     4096 Jun 18 00:07 ..\n",
            "---------- 1 root root 55848185 Jun 18 00:03 ball_by_ball_details.csv\n",
            "-rw-r--r-- 1 root root  4268491 Jun 18 00:09 ipl-2008-to-2019.zip\n",
            "---------- 1 root root   166455 Jun 18 00:03 ipl_summary.csv\n",
            "---------- 1 root root  2060580 Jun 18 00:03 ipl.zip\n",
            "drwxr-xr-x 2 root root     4096 Jun 18 00:08 .kaggle\n"
          ],
          "name": "stdout"
        }
      ]
    },
    {
      "cell_type": "code",
      "metadata": {
        "id": "HnrTkHpeL6iM",
        "colab_type": "code",
        "outputId": "4d55ca09-15f9-40ea-d12c-badb6196b2f7",
        "colab": {
          "base_uri": "https://localhost:8080/",
          "height": 34
        }
      },
      "source": [
        "pwd"
      ],
      "execution_count": 13,
      "outputs": [
        {
          "output_type": "execute_result",
          "data": {
            "text/plain": [
              "'/content/ipl'"
            ]
          },
          "metadata": {
            "tags": []
          },
          "execution_count": 13
        }
      ]
    },
    {
      "cell_type": "code",
      "metadata": {
        "id": "GbfiXimFL8WX",
        "colab_type": "code",
        "colab": {
          "base_uri": "https://localhost:8080/",
          "height": 69
        },
        "outputId": "af4693a7-8067-4bb6-b346-b47d570ff98a"
      },
      "source": [
        "!unzip -q /content/ipl/ipl-2008-to-2019.zip"
      ],
      "execution_count": 10,
      "outputs": [
        {
          "output_type": "stream",
          "text": [
            "replace ipl_summary.csv? [y]es, [n]o, [A]ll, [N]one, [r]ename: n\n",
            "replace ipl.zip? [y]es, [n]o, [A]ll, [N]one, [r]ename: n\n",
            "replace ball_by_ball_details.csv? [y]es, [n]o, [A]ll, [N]one, [r]ename: n\n"
          ],
          "name": "stdout"
        }
      ]
    },
    {
      "cell_type": "code",
      "metadata": {
        "id": "i6duOUl1ShQx",
        "colab_type": "code",
        "outputId": "af0766e9-209d-4b48-db8c-96028d833484",
        "colab": {
          "base_uri": "https://localhost:8080/",
          "height": 104
        }
      },
      "source": [
        "!pip install ruamel.yaml"
      ],
      "execution_count": 11,
      "outputs": [
        {
          "output_type": "stream",
          "text": [
            "Collecting ruamel.yaml\n",
            "\u001b[?25l  Downloading https://files.pythonhosted.org/packages/44/5f/57033d598ba3c2685eaac2f7e4860e511a8b5d1d408f3b299e63596bc53d/ruamel.yaml-0.15.97-cp36-cp36m-manylinux1_x86_64.whl (655kB)\n",
            "\u001b[K     |████████████████████████████████| 665kB 3.5MB/s \n",
            "\u001b[?25hInstalling collected packages: ruamel.yaml\n",
            "Successfully installed ruamel.yaml-0.15.97\n"
          ],
          "name": "stdout"
        }
      ]
    },
    {
      "cell_type": "code",
      "metadata": {
        "id": "Dd-Sjf3hzwLs",
        "colab_type": "code",
        "colab": {}
      },
      "source": [
        "import pandas as pd\n",
        "import numpy as np\n",
        "import matplotlib.pyplot as plt\n",
        "import seaborn as sns\n",
        "from pathlib import Path\n",
        "from ruamel.yaml import YAML\n",
        "import json\n",
        "import datetime as dt"
      ],
      "execution_count": 0,
      "outputs": []
    },
    {
      "cell_type": "code",
      "metadata": {
        "id": "QV2NGhe7MZw4",
        "colab_type": "code",
        "colab": {}
      },
      "source": [
        "base_dir = Path('/content/ipl')"
      ],
      "execution_count": 0,
      "outputs": []
    },
    {
      "cell_type": "code",
      "metadata": {
        "id": "xazDIHuWhzbU",
        "colab_type": "code",
        "outputId": "2313eda5-6ab0-46b9-c507-0693a75565b3",
        "colab": {
          "base_uri": "https://localhost:8080/",
          "height": 156
        }
      },
      "source": [
        "!ls -la"
      ],
      "execution_count": 14,
      "outputs": [
        {
          "output_type": "stream",
          "text": [
            "total 60904\n",
            "drwxr-xr-x 3 root root     4096 Jun 18 00:09 .\n",
            "drwxr-xr-x 1 root root     4096 Jun 18 00:07 ..\n",
            "---------- 1 root root 55848185 Jun 18 00:03 ball_by_ball_details.csv\n",
            "-rw-r--r-- 1 root root  4268491 Jun 18 00:09 ipl-2008-to-2019.zip\n",
            "---------- 1 root root   166455 Jun 18 00:03 ipl_summary.csv\n",
            "---------- 1 root root  2060580 Jun 18 00:03 ipl.zip\n",
            "drwxr-xr-x 2 root root     4096 Jun 18 00:08 .kaggle\n"
          ],
          "name": "stdout"
        }
      ]
    },
    {
      "cell_type": "code",
      "metadata": {
        "id": "u4PX2k49h7Pv",
        "colab_type": "code",
        "colab": {}
      },
      "source": [
        "!unzip -q /content/ipl/ipl.zip"
      ],
      "execution_count": 0,
      "outputs": []
    },
    {
      "cell_type": "code",
      "metadata": {
        "id": "XldTSeBBPHdU",
        "colab_type": "code",
        "colab": {}
      },
      "source": [
        "yaml_file_list = list(Path(base_dir).glob('*.yaml'))"
      ],
      "execution_count": 0,
      "outputs": []
    },
    {
      "cell_type": "code",
      "metadata": {
        "id": "MGWeLykopXJ1",
        "colab_type": "code",
        "colab": {}
      },
      "source": [
        "def myconverter(o):\n",
        "    if isinstance(o, dt.date):\n",
        "        return o.__str__()"
      ],
      "execution_count": 0,
      "outputs": []
    },
    {
      "cell_type": "code",
      "metadata": {
        "id": "Tz-G0fSS4hZQ",
        "colab_type": "code",
        "colab": {}
      },
      "source": [
        "def create_data_frame_from_innings_dict(datafile_json, inning_number, innings_dict):\n",
        "  df_innings=pd.DataFrame({'col':datafile_json['innings'][inning_number][innings_dict]['deliveries']})\n",
        "  df_T = df_innings['col'].apply(pd.Series).T\n",
        "  df_T['main'] = df_T[df_T.columns].apply(lambda x: ','.join(x.dropna().astype(str)),axis=1)\n",
        "  df_next = df_T.filter(['main'])\n",
        "  df_next['main'] = df_next['main'].apply(lambda x : eval(x)) \n",
        "  df_next_2 = df_next['main'].apply(pd.Series)\n",
        "  df_next_try = df_next_2.filter(['batsman','bowler','non_striker','runs','wicket','extras'])\n",
        "\n",
        "  df_runs = df_next_try[['runs']]\n",
        "  df_run_details = df_runs['runs'].apply(pd.Series)\n",
        "  \n",
        "  if 'wicket' in df_next_try.columns:\n",
        "    df_wickets = df_next_try[['wicket']]\n",
        "    df_wicket_details = df_wickets['wicket'].apply(pd.Series)\n",
        "  else:\n",
        "    df_wicket_details = pd.DataFrame(columns=['fielders', 'kind', 'player_out'])   \n",
        "         \n",
        "  if 'extras' in df_next_try.columns:\n",
        "    df_extras = df_next_try[['extras']]\n",
        "    df_extras_details = df_extras['extras'].apply(pd.Series)\n",
        "  else:\n",
        "    df_extras_details = pd.DataFrame(columns=['0', 'wides', 'legbyes'])\n",
        "    \n",
        "  drop_column_list = ['runs']\n",
        "\n",
        "  if 'wicket' in df_next_try.columns:\n",
        "    drop_column_list.append('wicket')\n",
        "\n",
        "  if 'extras' in df_next_try.columns:\n",
        "    drop_column_list.append('extras')\n",
        "  \n",
        "  df = df_next_try.join(df_run_details,rsuffix='_runs').join(df_wicket_details,rsuffix='_wickets').join(df_extras_details,rsuffix='_extras').drop(columns=drop_column_list)\n",
        "  df['batting_team'] = datafile_json['innings'][inning_number][innings_dict]['team']\n",
        "  \n",
        "  return df\n"
      ],
      "execution_count": 0,
      "outputs": []
    },
    {
      "cell_type": "code",
      "metadata": {
        "id": "ZPGhxeVmB84g",
        "colab_type": "code",
        "colab": {}
      },
      "source": [
        "def create_data_frame_from_info_dict(datafile_json):\n",
        "  info = pd.DataFrame({'info':datafile_json['info']}).T\n",
        "  outcome = info['outcome'].apply(pd.Series)\n",
        "  toss = info['toss'].apply(pd.Series)\n",
        "  match_summary = info.join(outcome,rsuffix='_outcome').join(toss, rsuffix='_toss').drop(columns=['outcome','toss'])\n",
        "  return match_summary"
      ],
      "execution_count": 0,
      "outputs": []
    },
    {
      "cell_type": "code",
      "metadata": {
        "id": "_fB1h09GHTJm",
        "colab_type": "code",
        "outputId": "20242a23-af9e-4524-c6ff-4d9a398f1038",
        "colab": {
          "base_uri": "https://localhost:8080/",
          "height": 34
        }
      },
      "source": [
        "len(yaml_file_list)"
      ],
      "execution_count": 20,
      "outputs": [
        {
          "output_type": "execute_result",
          "data": {
            "text/plain": [
              "756"
            ]
          },
          "metadata": {
            "tags": []
          },
          "execution_count": 20
        }
      ]
    },
    {
      "cell_type": "code",
      "metadata": {
        "id": "kg7x1iAhWovq",
        "colab_type": "code",
        "outputId": "e00e6c48-57ca-40c5-edb6-540eba35778b",
        "colab": {
          "base_uri": "https://localhost:8080/",
          "height": 643
        }
      },
      "source": [
        "counter = 0\n",
        "info_list = []\n",
        "ball_by_ball_details = []\n",
        "for each_file in range(len(yaml_file_list)):\n",
        "  in_file = yaml_file_list[each_file]\n",
        "  out_file = 'output.json'\n",
        "\n",
        "\n",
        "  tyaml = YAML(typ='safe')\n",
        "  with open(in_file) as fpi:\n",
        "      data_yaml = tyaml.load(fpi)\n",
        "  with open(out_file, 'w') as fpo:\n",
        "      json.dump(data_yaml, fpo, default=myconverter)\n",
        "    \n",
        "  with open(out_file, 'r') as f:\n",
        "      json_file = json.load(f)\n",
        "      \n",
        "      \n",
        "  if len(json_file['innings']) == 2:\n",
        "    d1 = create_data_frame_from_innings_dict(datafile_json=json_file, inning_number=0, innings_dict='1st innings')\n",
        "    d2 = create_data_frame_from_innings_dict(datafile_json=json_file, inning_number=1, innings_dict='2nd innings')\n",
        "    df_match = pd.concat([d1, d2], keys=['inning_1', 'inning_2']).reset_index()\n",
        "  elif len(json_file['innings']) == 1:\n",
        "    d1 = create_data_frame_from_innings_dict(datafile_json=json_file, inning_number=0, innings_dict='1st innings')\n",
        "    d2 = pd.DataFrame()\n",
        "    df_match = pd.concat([d1, d2], keys=['inning_1', 'inning_2']).reset_index()\n",
        "  elif len(json_file['innings']) == 4:\n",
        "    d1 = create_data_frame_from_innings_dict(datafile_json=json_file, inning_number=0, innings_dict='1st innings')\n",
        "    d2 = create_data_frame_from_innings_dict(datafile_json=json_file, inning_number=1, innings_dict='2nd innings')    \n",
        "    df_match = pd.concat([d1, d2], keys=['inning_1', 'inning_2']).reset_index()\n",
        "  else:\n",
        "    df_match = pd.DataFrame()\n",
        "  \n",
        "  df_match['match_id'] = yaml_file_list[each_file].stem\n",
        "  match_info_summary = create_data_frame_from_info_dict(datafile_json=json_file)\n",
        "  \n",
        "  match_info_summary['match_id'] = yaml_file_list[each_file].stem\n",
        "\n",
        "  \n",
        "  ball_by_ball_details.append(df_match)\n",
        "  info_list.append(match_info_summary)\n",
        "  counter += 1\n",
        "  if counter % 50 == 0:\n",
        "    print(counter,' files completed')\n",
        "#  print(counter,':' ,yaml_file_list[each_file].stem)\n",
        "  "
      ],
      "execution_count": 21,
      "outputs": [
        {
          "output_type": "stream",
          "text": [
            "/usr/local/lib/python3.6/dist-packages/ipykernel_launcher.py:22: FutureWarning: Sorting because non-concatenation axis is not aligned. A future version\n",
            "of pandas will change to not sort by default.\n",
            "\n",
            "To accept the future behavior, pass 'sort=False'.\n",
            "\n",
            "To retain the current behavior and silence the warning, pass 'sort=True'.\n",
            "\n",
            "/usr/local/lib/python3.6/dist-packages/ipykernel_launcher.py:30: FutureWarning: Sorting because non-concatenation axis is not aligned. A future version\n",
            "of pandas will change to not sort by default.\n",
            "\n",
            "To accept the future behavior, pass 'sort=False'.\n",
            "\n",
            "To retain the current behavior and silence the warning, pass 'sort=True'.\n",
            "\n",
            "/usr/local/lib/python3.6/dist-packages/ipykernel_launcher.py:26: FutureWarning: Sorting because non-concatenation axis is not aligned. A future version\n",
            "of pandas will change to not sort by default.\n",
            "\n",
            "To accept the future behavior, pass 'sort=False'.\n",
            "\n",
            "To retain the current behavior and silence the warning, pass 'sort=True'.\n",
            "\n"
          ],
          "name": "stderr"
        },
        {
          "output_type": "stream",
          "text": [
            "50  files completed\n",
            "100  files completed\n",
            "150  files completed\n",
            "200  files completed\n",
            "250  files completed\n",
            "300  files completed\n",
            "350  files completed\n",
            "400  files completed\n",
            "450  files completed\n",
            "500  files completed\n",
            "550  files completed\n",
            "600  files completed\n",
            "650  files completed\n",
            "700  files completed\n",
            "750  files completed\n"
          ],
          "name": "stdout"
        }
      ]
    },
    {
      "cell_type": "code",
      "metadata": {
        "id": "dw09szHLH77k",
        "colab_type": "code",
        "outputId": "4d3221f4-fb66-4114-d1ea-d54433f63899",
        "colab": {
          "base_uri": "https://localhost:8080/",
          "height": 156
        }
      },
      "source": [
        "df_match_summary = pd.concat(info_list)"
      ],
      "execution_count": 22,
      "outputs": [
        {
          "output_type": "stream",
          "text": [
            "/usr/local/lib/python3.6/dist-packages/ipykernel_launcher.py:1: FutureWarning: Sorting because non-concatenation axis is not aligned. A future version\n",
            "of pandas will change to not sort by default.\n",
            "\n",
            "To accept the future behavior, pass 'sort=False'.\n",
            "\n",
            "To retain the current behavior and silence the warning, pass 'sort=True'.\n",
            "\n",
            "  \"\"\"Entry point for launching an IPython kernel.\n"
          ],
          "name": "stderr"
        }
      ]
    },
    {
      "cell_type": "code",
      "metadata": {
        "id": "o7ISNE0X6JiD",
        "colab_type": "code",
        "colab": {}
      },
      "source": [
        "df_match_summary = df_match_summary.set_index('match_id')"
      ],
      "execution_count": 0,
      "outputs": []
    },
    {
      "cell_type": "code",
      "metadata": {
        "id": "PXbZKpGz1-1o",
        "colab_type": "code",
        "outputId": "5a782333-c373-44b6-a359-648985b1efb6",
        "colab": {
          "base_uri": "https://localhost:8080/",
          "height": 583
        }
      },
      "source": [
        "df_match_summary.head()"
      ],
      "execution_count": 24,
      "outputs": [
        {
          "output_type": "execute_result",
          "data": {
            "text/html": [
              "<div>\n",
              "<style scoped>\n",
              "    .dataframe tbody tr th:only-of-type {\n",
              "        vertical-align: middle;\n",
              "    }\n",
              "\n",
              "    .dataframe tbody tr th {\n",
              "        vertical-align: top;\n",
              "    }\n",
              "\n",
              "    .dataframe thead th {\n",
              "        text-align: right;\n",
              "    }\n",
              "</style>\n",
              "<table border=\"1\" class=\"dataframe\">\n",
              "  <thead>\n",
              "    <tr style=\"text-align: right;\">\n",
              "      <th></th>\n",
              "      <th>by</th>\n",
              "      <th>city</th>\n",
              "      <th>competition</th>\n",
              "      <th>dates</th>\n",
              "      <th>decision</th>\n",
              "      <th>eliminator</th>\n",
              "      <th>gender</th>\n",
              "      <th>match_type</th>\n",
              "      <th>method</th>\n",
              "      <th>neutral_venue</th>\n",
              "      <th>overs</th>\n",
              "      <th>player_of_match</th>\n",
              "      <th>result</th>\n",
              "      <th>teams</th>\n",
              "      <th>umpires</th>\n",
              "      <th>venue</th>\n",
              "      <th>winner</th>\n",
              "      <th>winner_toss</th>\n",
              "    </tr>\n",
              "    <tr>\n",
              "      <th>match_id</th>\n",
              "      <th></th>\n",
              "      <th></th>\n",
              "      <th></th>\n",
              "      <th></th>\n",
              "      <th></th>\n",
              "      <th></th>\n",
              "      <th></th>\n",
              "      <th></th>\n",
              "      <th></th>\n",
              "      <th></th>\n",
              "      <th></th>\n",
              "      <th></th>\n",
              "      <th></th>\n",
              "      <th></th>\n",
              "      <th></th>\n",
              "      <th></th>\n",
              "      <th></th>\n",
              "      <th></th>\n",
              "    </tr>\n",
              "  </thead>\n",
              "  <tbody>\n",
              "    <tr>\n",
              "      <th>548314</th>\n",
              "      <td>{'wickets': 5}</td>\n",
              "      <td>Visakhapatnam</td>\n",
              "      <td>IPL</td>\n",
              "      <td>[2012-04-09]</td>\n",
              "      <td>bat</td>\n",
              "      <td>NaN</td>\n",
              "      <td>male</td>\n",
              "      <td>T20</td>\n",
              "      <td>NaN</td>\n",
              "      <td>NaN</td>\n",
              "      <td>20</td>\n",
              "      <td>[RG Sharma]</td>\n",
              "      <td>NaN</td>\n",
              "      <td>[Deccan Chargers, Mumbai Indians]</td>\n",
              "      <td>[AK Chaudhary, JD Cloete]</td>\n",
              "      <td>Dr. Y.S. Rajasekhara Reddy ACA-VDCA Cricket St...</td>\n",
              "      <td>Mumbai Indians</td>\n",
              "      <td>Deccan Chargers</td>\n",
              "    </tr>\n",
              "    <tr>\n",
              "      <th>1178429</th>\n",
              "      <td>{'wickets': 4}</td>\n",
              "      <td>Bengaluru</td>\n",
              "      <td>IPL</td>\n",
              "      <td>[2019-05-04]</td>\n",
              "      <td>field</td>\n",
              "      <td>NaN</td>\n",
              "      <td>male</td>\n",
              "      <td>T20</td>\n",
              "      <td>NaN</td>\n",
              "      <td>NaN</td>\n",
              "      <td>20</td>\n",
              "      <td>[SO Hetmyer]</td>\n",
              "      <td>NaN</td>\n",
              "      <td>[Royal Challengers Bangalore, Sunrisers Hydera...</td>\n",
              "      <td>[NJ Llong, AK Chaudhary]</td>\n",
              "      <td>M.Chinnaswamy Stadium</td>\n",
              "      <td>Royal Challengers Bangalore</td>\n",
              "      <td>Royal Challengers Bangalore</td>\n",
              "    </tr>\n",
              "    <tr>\n",
              "      <th>419157</th>\n",
              "      <td>{'runs': 57}</td>\n",
              "      <td>Bangalore</td>\n",
              "      <td>IPL</td>\n",
              "      <td>[2010-04-17]</td>\n",
              "      <td>field</td>\n",
              "      <td>NaN</td>\n",
              "      <td>male</td>\n",
              "      <td>T20</td>\n",
              "      <td>NaN</td>\n",
              "      <td>NaN</td>\n",
              "      <td>20</td>\n",
              "      <td>[R McLaren]</td>\n",
              "      <td>NaN</td>\n",
              "      <td>[Royal Challengers Bangalore, Mumbai Indians]</td>\n",
              "      <td>[HDPK Dharmasena, SJA Taufel]</td>\n",
              "      <td>M Chinnaswamy Stadium</td>\n",
              "      <td>Mumbai Indians</td>\n",
              "      <td>Royal Challengers Bangalore</td>\n",
              "    </tr>\n",
              "    <tr>\n",
              "      <th>548375</th>\n",
              "      <td>{'runs': 34}</td>\n",
              "      <td>Pune</td>\n",
              "      <td>IPL</td>\n",
              "      <td>[2012-05-19]</td>\n",
              "      <td>bat</td>\n",
              "      <td>NaN</td>\n",
              "      <td>male</td>\n",
              "      <td>T20</td>\n",
              "      <td>NaN</td>\n",
              "      <td>NaN</td>\n",
              "      <td>20</td>\n",
              "      <td>[Shakib Al Hasan]</td>\n",
              "      <td>NaN</td>\n",
              "      <td>[Pune Warriors, Kolkata Knight Riders]</td>\n",
              "      <td>[S Asnani, BR Doctrove]</td>\n",
              "      <td>Subrata Roy Sahara Stadium</td>\n",
              "      <td>Kolkata Knight Riders</td>\n",
              "      <td>Kolkata Knight Riders</td>\n",
              "    </tr>\n",
              "    <tr>\n",
              "      <th>392234</th>\n",
              "      <td>{'runs': 24}</td>\n",
              "      <td>Durban</td>\n",
              "      <td>IPL</td>\n",
              "      <td>[2009-05-20]</td>\n",
              "      <td>bat</td>\n",
              "      <td>NaN</td>\n",
              "      <td>male</td>\n",
              "      <td>T20</td>\n",
              "      <td>NaN</td>\n",
              "      <td>1</td>\n",
              "      <td>20</td>\n",
              "      <td>[M Muralitharan]</td>\n",
              "      <td>NaN</td>\n",
              "      <td>[Chennai Super Kings, Kings XI Punjab]</td>\n",
              "      <td>[BG Jerling, SJA Taufel]</td>\n",
              "      <td>Kingsmead</td>\n",
              "      <td>Chennai Super Kings</td>\n",
              "      <td>Chennai Super Kings</td>\n",
              "    </tr>\n",
              "  </tbody>\n",
              "</table>\n",
              "</div>"
            ],
            "text/plain": [
              "                      by  ...                  winner_toss\n",
              "match_id                  ...                             \n",
              "548314    {'wickets': 5}  ...              Deccan Chargers\n",
              "1178429   {'wickets': 4}  ...  Royal Challengers Bangalore\n",
              "419157      {'runs': 57}  ...  Royal Challengers Bangalore\n",
              "548375      {'runs': 34}  ...        Kolkata Knight Riders\n",
              "392234      {'runs': 24}  ...          Chennai Super Kings\n",
              "\n",
              "[5 rows x 18 columns]"
            ]
          },
          "metadata": {
            "tags": []
          },
          "execution_count": 24
        }
      ]
    },
    {
      "cell_type": "code",
      "metadata": {
        "id": "aiNxtp5ULdgS",
        "colab_type": "code",
        "outputId": "de14ff24-a96b-4310-f32d-96d2e35af8d8",
        "colab": {
          "base_uri": "https://localhost:8080/",
          "height": 156
        }
      },
      "source": [
        "df_details = pd.concat(ball_by_ball_details)"
      ],
      "execution_count": 30,
      "outputs": [
        {
          "output_type": "stream",
          "text": [
            "/usr/local/lib/python3.6/dist-packages/ipykernel_launcher.py:1: FutureWarning: Sorting because non-concatenation axis is not aligned. A future version\n",
            "of pandas will change to not sort by default.\n",
            "\n",
            "To accept the future behavior, pass 'sort=False'.\n",
            "\n",
            "To retain the current behavior and silence the warning, pass 'sort=True'.\n",
            "\n",
            "  \"\"\"Entry point for launching an IPython kernel.\n"
          ],
          "name": "stderr"
        }
      ]
    },
    {
      "cell_type": "code",
      "metadata": {
        "id": "LvsEh5HkuVXh",
        "colab_type": "code",
        "outputId": "b294aa57-d21f-412a-b9b6-b5d3fc631d17",
        "colab": {
          "base_uri": "https://localhost:8080/",
          "height": 301
        }
      },
      "source": [
        "df_details.head()"
      ],
      "execution_count": 31,
      "outputs": [
        {
          "output_type": "execute_result",
          "data": {
            "text/html": [
              "<div>\n",
              "<style scoped>\n",
              "    .dataframe tbody tr th:only-of-type {\n",
              "        vertical-align: middle;\n",
              "    }\n",
              "\n",
              "    .dataframe tbody tr th {\n",
              "        vertical-align: top;\n",
              "    }\n",
              "\n",
              "    .dataframe thead th {\n",
              "        text-align: right;\n",
              "    }\n",
              "</style>\n",
              "<table border=\"1\" class=\"dataframe\">\n",
              "  <thead>\n",
              "    <tr style=\"text-align: right;\">\n",
              "      <th></th>\n",
              "      <th>0</th>\n",
              "      <th>0_extras</th>\n",
              "      <th>0_wickets</th>\n",
              "      <th>batsman</th>\n",
              "      <th>batsman_runs</th>\n",
              "      <th>batting_team</th>\n",
              "      <th>bowler</th>\n",
              "      <th>byes</th>\n",
              "      <th>extras_runs</th>\n",
              "      <th>fielders</th>\n",
              "      <th>kind</th>\n",
              "      <th>legbyes</th>\n",
              "      <th>level_0</th>\n",
              "      <th>level_1</th>\n",
              "      <th>match_id</th>\n",
              "      <th>noballs</th>\n",
              "      <th>non_striker</th>\n",
              "      <th>player_out</th>\n",
              "      <th>total</th>\n",
              "      <th>wides</th>\n",
              "      <th>0</th>\n",
              "      <th>non_boundary</th>\n",
              "      <th>penalty</th>\n",
              "      <th>extras</th>\n",
              "    </tr>\n",
              "  </thead>\n",
              "  <tbody>\n",
              "    <tr>\n",
              "      <th>0</th>\n",
              "      <td>NaN</td>\n",
              "      <td>NaN</td>\n",
              "      <td>NaN</td>\n",
              "      <td>PA Patel</td>\n",
              "      <td>0.0</td>\n",
              "      <td>Deccan Chargers</td>\n",
              "      <td>Harbhajan Singh</td>\n",
              "      <td>NaN</td>\n",
              "      <td>0.0</td>\n",
              "      <td>NaN</td>\n",
              "      <td>NaN</td>\n",
              "      <td>NaN</td>\n",
              "      <td>inning_1</td>\n",
              "      <td>0.1</td>\n",
              "      <td>548314</td>\n",
              "      <td>NaN</td>\n",
              "      <td>S Dhawan</td>\n",
              "      <td>NaN</td>\n",
              "      <td>0.0</td>\n",
              "      <td>NaN</td>\n",
              "      <td>NaN</td>\n",
              "      <td>NaN</td>\n",
              "      <td>NaN</td>\n",
              "      <td>NaN</td>\n",
              "    </tr>\n",
              "    <tr>\n",
              "      <th>1</th>\n",
              "      <td>NaN</td>\n",
              "      <td>NaN</td>\n",
              "      <td>NaN</td>\n",
              "      <td>PA Patel</td>\n",
              "      <td>0.0</td>\n",
              "      <td>Deccan Chargers</td>\n",
              "      <td>Harbhajan Singh</td>\n",
              "      <td>NaN</td>\n",
              "      <td>0.0</td>\n",
              "      <td>NaN</td>\n",
              "      <td>NaN</td>\n",
              "      <td>NaN</td>\n",
              "      <td>inning_1</td>\n",
              "      <td>0.2</td>\n",
              "      <td>548314</td>\n",
              "      <td>NaN</td>\n",
              "      <td>S Dhawan</td>\n",
              "      <td>NaN</td>\n",
              "      <td>0.0</td>\n",
              "      <td>NaN</td>\n",
              "      <td>NaN</td>\n",
              "      <td>NaN</td>\n",
              "      <td>NaN</td>\n",
              "      <td>NaN</td>\n",
              "    </tr>\n",
              "    <tr>\n",
              "      <th>2</th>\n",
              "      <td>NaN</td>\n",
              "      <td>NaN</td>\n",
              "      <td>NaN</td>\n",
              "      <td>PA Patel</td>\n",
              "      <td>1.0</td>\n",
              "      <td>Deccan Chargers</td>\n",
              "      <td>Harbhajan Singh</td>\n",
              "      <td>NaN</td>\n",
              "      <td>0.0</td>\n",
              "      <td>NaN</td>\n",
              "      <td>NaN</td>\n",
              "      <td>NaN</td>\n",
              "      <td>inning_1</td>\n",
              "      <td>0.3</td>\n",
              "      <td>548314</td>\n",
              "      <td>NaN</td>\n",
              "      <td>S Dhawan</td>\n",
              "      <td>NaN</td>\n",
              "      <td>1.0</td>\n",
              "      <td>NaN</td>\n",
              "      <td>NaN</td>\n",
              "      <td>NaN</td>\n",
              "      <td>NaN</td>\n",
              "      <td>NaN</td>\n",
              "    </tr>\n",
              "    <tr>\n",
              "      <th>3</th>\n",
              "      <td>NaN</td>\n",
              "      <td>NaN</td>\n",
              "      <td>NaN</td>\n",
              "      <td>S Dhawan</td>\n",
              "      <td>0.0</td>\n",
              "      <td>Deccan Chargers</td>\n",
              "      <td>Harbhajan Singh</td>\n",
              "      <td>NaN</td>\n",
              "      <td>0.0</td>\n",
              "      <td>NaN</td>\n",
              "      <td>NaN</td>\n",
              "      <td>NaN</td>\n",
              "      <td>inning_1</td>\n",
              "      <td>0.4</td>\n",
              "      <td>548314</td>\n",
              "      <td>NaN</td>\n",
              "      <td>PA Patel</td>\n",
              "      <td>NaN</td>\n",
              "      <td>0.0</td>\n",
              "      <td>NaN</td>\n",
              "      <td>NaN</td>\n",
              "      <td>NaN</td>\n",
              "      <td>NaN</td>\n",
              "      <td>NaN</td>\n",
              "    </tr>\n",
              "    <tr>\n",
              "      <th>4</th>\n",
              "      <td>NaN</td>\n",
              "      <td>NaN</td>\n",
              "      <td>NaN</td>\n",
              "      <td>S Dhawan</td>\n",
              "      <td>0.0</td>\n",
              "      <td>Deccan Chargers</td>\n",
              "      <td>Harbhajan Singh</td>\n",
              "      <td>NaN</td>\n",
              "      <td>0.0</td>\n",
              "      <td>NaN</td>\n",
              "      <td>NaN</td>\n",
              "      <td>NaN</td>\n",
              "      <td>inning_1</td>\n",
              "      <td>0.5</td>\n",
              "      <td>548314</td>\n",
              "      <td>NaN</td>\n",
              "      <td>PA Patel</td>\n",
              "      <td>NaN</td>\n",
              "      <td>0.0</td>\n",
              "      <td>NaN</td>\n",
              "      <td>NaN</td>\n",
              "      <td>NaN</td>\n",
              "      <td>NaN</td>\n",
              "      <td>NaN</td>\n",
              "    </tr>\n",
              "  </tbody>\n",
              "</table>\n",
              "</div>"
            ],
            "text/plain": [
              "     0  0_extras  0_wickets   batsman  ...   0 non_boundary penalty  extras\n",
              "0  NaN       NaN        NaN  PA Patel  ... NaN          NaN     NaN     NaN\n",
              "1  NaN       NaN        NaN  PA Patel  ... NaN          NaN     NaN     NaN\n",
              "2  NaN       NaN        NaN  PA Patel  ... NaN          NaN     NaN     NaN\n",
              "3  NaN       NaN        NaN  S Dhawan  ... NaN          NaN     NaN     NaN\n",
              "4  NaN       NaN        NaN  S Dhawan  ... NaN          NaN     NaN     NaN\n",
              "\n",
              "[5 rows x 24 columns]"
            ]
          },
          "metadata": {
            "tags": []
          },
          "execution_count": 31
        }
      ]
    },
    {
      "cell_type": "code",
      "metadata": {
        "id": "0j0qC_p9_UJu",
        "colab_type": "code",
        "colab": {}
      },
      "source": [
        "df_details['wides'] = df_details['wides'].astype('float')\n",
        "df_details['noballs'] = df_details['noballs'].astype('float')\n",
        "df_details['legbyes'] = df_details['legbyes'].astype('float')\n"
      ],
      "execution_count": 0,
      "outputs": []
    },
    {
      "cell_type": "code",
      "metadata": {
        "id": "xAXMY0Cpfml9",
        "colab_type": "code",
        "colab": {
          "base_uri": "https://localhost:8080/",
          "height": 452
        },
        "outputId": "2768e65a-5dc8-4153-8894-eade8849b8c7"
      },
      "source": [
        "df_details.iloc[:,:].isna().mean()"
      ],
      "execution_count": 80,
      "outputs": [
        {
          "output_type": "execute_result",
          "data": {
            "text/plain": [
              "0               1.000000\n",
              "0_extras        1.000000\n",
              "0_wickets       1.000000\n",
              "batsman         0.000050\n",
              "batsman_runs    0.000050\n",
              "batting_team    0.000000\n",
              "bowler          0.000050\n",
              "byes            0.997318\n",
              "extras_runs     0.003632\n",
              "fielders        0.964582\n",
              "kind            0.950673\n",
              "legbyes         0.983610\n",
              "level_0         0.000000\n",
              "level_1         0.000000\n",
              "match_id        0.000000\n",
              "noballs         0.996021\n",
              "non_striker     0.000050\n",
              "player_out      0.950673\n",
              "total           0.000050\n",
              "wides           0.969796\n",
              "0               1.000000\n",
              "non_boundary    0.999922\n",
              "penalty         0.999989\n",
              "extras          0.996418\n",
              "dtype: float64"
            ]
          },
          "metadata": {
            "tags": []
          },
          "execution_count": 80
        }
      ]
    },
    {
      "cell_type": "code",
      "metadata": {
        "id": "g3H4fMuHf-6d",
        "colab_type": "code",
        "colab": {}
      },
      "source": [
        "df_details.drop(columns=['0','0_extras','0_wickets'], inplace=True, axis=1)\n",
        "df_details.drop(columns=[0], inplace=True, axis=1)"
      ],
      "execution_count": 0,
      "outputs": []
    },
    {
      "cell_type": "code",
      "metadata": {
        "id": "HknrmklChJIu",
        "colab_type": "code",
        "colab": {}
      },
      "source": [
        ""
      ],
      "execution_count": 0,
      "outputs": []
    },
    {
      "cell_type": "code",
      "metadata": {
        "id": "j9jf775JglNo",
        "colab_type": "code",
        "colab": {
          "base_uri": "https://localhost:8080/",
          "height": 382
        },
        "outputId": "95f91215-e3db-4017-9b3f-adf7b00d1c44"
      },
      "source": [
        "df_details.iloc[:,:].isna().mean()"
      ],
      "execution_count": 34,
      "outputs": [
        {
          "output_type": "execute_result",
          "data": {
            "text/plain": [
              "batsman         0.000050\n",
              "batsman_runs    0.000050\n",
              "batting_team    0.000000\n",
              "bowler          0.000050\n",
              "byes            0.997318\n",
              "extras_runs     0.003632\n",
              "fielders        0.964582\n",
              "kind            0.950673\n",
              "legbyes         0.983610\n",
              "level_0         0.000000\n",
              "level_1         0.000000\n",
              "match_id        0.000000\n",
              "noballs         0.996021\n",
              "non_striker     0.000050\n",
              "player_out      0.950673\n",
              "total           0.000050\n",
              "wides           0.969796\n",
              "non_boundary    0.999922\n",
              "penalty         0.999989\n",
              "extras          0.996418\n",
              "dtype: float64"
            ]
          },
          "metadata": {
            "tags": []
          },
          "execution_count": 34
        }
      ]
    },
    {
      "cell_type": "code",
      "metadata": {
        "id": "HgiwWcNzfr6I",
        "colab_type": "code",
        "outputId": "8bbfb11a-25df-408f-c109-a478ffa6760f",
        "colab": {
          "base_uri": "https://localhost:8080/",
          "height": 452
        }
      },
      "source": [
        "df_details.info()"
      ],
      "execution_count": 35,
      "outputs": [
        {
          "output_type": "stream",
          "text": [
            "<class 'pandas.core.frame.DataFrame'>\n",
            "Int64Index: 178949 entries, 0 to 222\n",
            "Data columns (total 20 columns):\n",
            "batsman         178940 non-null object\n",
            "batsman_runs    178940 non-null float64\n",
            "batting_team    178949 non-null object\n",
            "bowler          178940 non-null object\n",
            "byes            480 non-null float64\n",
            "extras_runs     178299 non-null float64\n",
            "fielders        6338 non-null object\n",
            "kind            8827 non-null object\n",
            "legbyes         2933 non-null float64\n",
            "level_0         178949 non-null object\n",
            "level_1         178949 non-null object\n",
            "match_id        178949 non-null object\n",
            "noballs         712 non-null float64\n",
            "non_striker     178940 non-null object\n",
            "player_out      8827 non-null object\n",
            "total           178940 non-null float64\n",
            "wides           5405 non-null float64\n",
            "non_boundary    14 non-null float64\n",
            "penalty         2 non-null float64\n",
            "extras          641 non-null float64\n",
            "dtypes: float64(10), object(10)\n",
            "memory usage: 28.7+ MB\n"
          ],
          "name": "stdout"
        }
      ]
    },
    {
      "cell_type": "code",
      "metadata": {
        "id": "oeQ8FJwKneai",
        "colab_type": "code",
        "colab": {}
      },
      "source": [
        "yaml_match_id_list = [i.stem for i in yaml_file_list]"
      ],
      "execution_count": 0,
      "outputs": []
    },
    {
      "cell_type": "code",
      "metadata": {
        "id": "FCLC_8YQnOW-",
        "colab_type": "code",
        "colab": {}
      },
      "source": [
        "unmatched_yaml = list(set(yaml_match_id_list) - set(df_details.match_id.unique()))"
      ],
      "execution_count": 0,
      "outputs": []
    },
    {
      "cell_type": "code",
      "metadata": {
        "id": "ph6ExCq7vc7v",
        "colab_type": "code",
        "colab": {}
      },
      "source": [
        "unmatched_yaml = [i+'.yaml' for i in unmatched_yaml]"
      ],
      "execution_count": 0,
      "outputs": []
    },
    {
      "cell_type": "code",
      "metadata": {
        "id": "RMUFSqLkwAqk",
        "colab_type": "code",
        "outputId": "fb24ba68-7a96-4c53-dd2d-b05071616d4c",
        "colab": {
          "base_uri": "https://localhost:8080/",
          "height": 34
        }
      },
      "source": [
        "unmatched_yaml"
      ],
      "execution_count": 98,
      "outputs": [
        {
          "output_type": "execute_result",
          "data": {
            "text/plain": [
              "[]"
            ]
          },
          "metadata": {
            "tags": []
          },
          "execution_count": 98
        }
      ]
    },
    {
      "cell_type": "code",
      "metadata": {
        "id": "46Pxzhm9xzds",
        "colab_type": "code",
        "outputId": "03b8b5ae-bad7-42f3-f2f1-d0f38fc630a6",
        "colab": {
          "base_uri": "https://localhost:8080/",
          "height": 34
        }
      },
      "source": [
        "len(json_file['innings'])"
      ],
      "execution_count": 99,
      "outputs": [
        {
          "output_type": "execute_result",
          "data": {
            "text/plain": [
              "2"
            ]
          },
          "metadata": {
            "tags": []
          },
          "execution_count": 99
        }
      ]
    },
    {
      "cell_type": "code",
      "metadata": {
        "id": "mrjIZiNB6fMH",
        "colab_type": "code",
        "colab": {}
      },
      "source": [
        "df_outcome = df_match_summary[['by']]\n",
        "df_outcome_details = df_outcome['by'].apply(pd.Series).drop(columns=[0])"
      ],
      "execution_count": 0,
      "outputs": []
    },
    {
      "cell_type": "code",
      "metadata": {
        "id": "9wsaRYb86msS",
        "colab_type": "code",
        "colab": {}
      },
      "source": [
        "df_ipl_summary = df_match_summary.join(df_outcome_details)"
      ],
      "execution_count": 0,
      "outputs": []
    },
    {
      "cell_type": "code",
      "metadata": {
        "id": "habe0spKho42",
        "colab_type": "code",
        "colab": {}
      },
      "source": [
        "df_ipl_summary.drop(columns=['by'],axis=1,inplace=True)"
      ],
      "execution_count": 0,
      "outputs": []
    },
    {
      "cell_type": "code",
      "metadata": {
        "id": "4WLce0_nh5MK",
        "colab_type": "code",
        "colab": {
          "base_uri": "https://localhost:8080/",
          "height": 583
        },
        "outputId": "65bb5ce8-e8b6-42b2-9242-e14c98be3896"
      },
      "source": [
        "df_ipl_summary=df_ipl_summary.rename(index=str, columns={\"runs\": \"outcome_by_runs\", \"wickets\": \"outcome_by_wickets\", \"overs\": \"#_of_overs\"})\n",
        "df_ipl_summary['match_date'] = df_ipl_summary['dates'].str[0]\n",
        "df_ipl_summary['match_date'] = pd.to_datetime(df_ipl_summary['match_date'])\n",
        "\n",
        "df_ipl_summary['season'] = df_ipl_summary['match_date'].dt.year\n",
        "df_ipl_summary.drop(columns=['dates'],axis=1,inplace=True)\n",
        "df_ipl_summary.head()"
      ],
      "execution_count": 28,
      "outputs": [
        {
          "output_type": "execute_result",
          "data": {
            "text/html": [
              "<div>\n",
              "<style scoped>\n",
              "    .dataframe tbody tr th:only-of-type {\n",
              "        vertical-align: middle;\n",
              "    }\n",
              "\n",
              "    .dataframe tbody tr th {\n",
              "        vertical-align: top;\n",
              "    }\n",
              "\n",
              "    .dataframe thead th {\n",
              "        text-align: right;\n",
              "    }\n",
              "</style>\n",
              "<table border=\"1\" class=\"dataframe\">\n",
              "  <thead>\n",
              "    <tr style=\"text-align: right;\">\n",
              "      <th></th>\n",
              "      <th>city</th>\n",
              "      <th>competition</th>\n",
              "      <th>decision</th>\n",
              "      <th>eliminator</th>\n",
              "      <th>gender</th>\n",
              "      <th>match_type</th>\n",
              "      <th>method</th>\n",
              "      <th>neutral_venue</th>\n",
              "      <th>#_of_overs</th>\n",
              "      <th>player_of_match</th>\n",
              "      <th>result</th>\n",
              "      <th>teams</th>\n",
              "      <th>umpires</th>\n",
              "      <th>venue</th>\n",
              "      <th>winner</th>\n",
              "      <th>winner_toss</th>\n",
              "      <th>outcome_by_runs</th>\n",
              "      <th>outcome_by_wickets</th>\n",
              "      <th>match_date</th>\n",
              "      <th>season</th>\n",
              "    </tr>\n",
              "    <tr>\n",
              "      <th>match_id</th>\n",
              "      <th></th>\n",
              "      <th></th>\n",
              "      <th></th>\n",
              "      <th></th>\n",
              "      <th></th>\n",
              "      <th></th>\n",
              "      <th></th>\n",
              "      <th></th>\n",
              "      <th></th>\n",
              "      <th></th>\n",
              "      <th></th>\n",
              "      <th></th>\n",
              "      <th></th>\n",
              "      <th></th>\n",
              "      <th></th>\n",
              "      <th></th>\n",
              "      <th></th>\n",
              "      <th></th>\n",
              "      <th></th>\n",
              "      <th></th>\n",
              "    </tr>\n",
              "  </thead>\n",
              "  <tbody>\n",
              "    <tr>\n",
              "      <th>548314</th>\n",
              "      <td>Visakhapatnam</td>\n",
              "      <td>IPL</td>\n",
              "      <td>bat</td>\n",
              "      <td>NaN</td>\n",
              "      <td>male</td>\n",
              "      <td>T20</td>\n",
              "      <td>NaN</td>\n",
              "      <td>NaN</td>\n",
              "      <td>20</td>\n",
              "      <td>[RG Sharma]</td>\n",
              "      <td>NaN</td>\n",
              "      <td>[Deccan Chargers, Mumbai Indians]</td>\n",
              "      <td>[AK Chaudhary, JD Cloete]</td>\n",
              "      <td>Dr. Y.S. Rajasekhara Reddy ACA-VDCA Cricket St...</td>\n",
              "      <td>Mumbai Indians</td>\n",
              "      <td>Deccan Chargers</td>\n",
              "      <td>NaN</td>\n",
              "      <td>5.0</td>\n",
              "      <td>2012-04-09</td>\n",
              "      <td>2012</td>\n",
              "    </tr>\n",
              "    <tr>\n",
              "      <th>1178429</th>\n",
              "      <td>Bengaluru</td>\n",
              "      <td>IPL</td>\n",
              "      <td>field</td>\n",
              "      <td>NaN</td>\n",
              "      <td>male</td>\n",
              "      <td>T20</td>\n",
              "      <td>NaN</td>\n",
              "      <td>NaN</td>\n",
              "      <td>20</td>\n",
              "      <td>[SO Hetmyer]</td>\n",
              "      <td>NaN</td>\n",
              "      <td>[Royal Challengers Bangalore, Sunrisers Hydera...</td>\n",
              "      <td>[NJ Llong, AK Chaudhary]</td>\n",
              "      <td>M.Chinnaswamy Stadium</td>\n",
              "      <td>Royal Challengers Bangalore</td>\n",
              "      <td>Royal Challengers Bangalore</td>\n",
              "      <td>NaN</td>\n",
              "      <td>4.0</td>\n",
              "      <td>2019-05-04</td>\n",
              "      <td>2019</td>\n",
              "    </tr>\n",
              "    <tr>\n",
              "      <th>419157</th>\n",
              "      <td>Bangalore</td>\n",
              "      <td>IPL</td>\n",
              "      <td>field</td>\n",
              "      <td>NaN</td>\n",
              "      <td>male</td>\n",
              "      <td>T20</td>\n",
              "      <td>NaN</td>\n",
              "      <td>NaN</td>\n",
              "      <td>20</td>\n",
              "      <td>[R McLaren]</td>\n",
              "      <td>NaN</td>\n",
              "      <td>[Royal Challengers Bangalore, Mumbai Indians]</td>\n",
              "      <td>[HDPK Dharmasena, SJA Taufel]</td>\n",
              "      <td>M Chinnaswamy Stadium</td>\n",
              "      <td>Mumbai Indians</td>\n",
              "      <td>Royal Challengers Bangalore</td>\n",
              "      <td>57.0</td>\n",
              "      <td>NaN</td>\n",
              "      <td>2010-04-17</td>\n",
              "      <td>2010</td>\n",
              "    </tr>\n",
              "    <tr>\n",
              "      <th>548375</th>\n",
              "      <td>Pune</td>\n",
              "      <td>IPL</td>\n",
              "      <td>bat</td>\n",
              "      <td>NaN</td>\n",
              "      <td>male</td>\n",
              "      <td>T20</td>\n",
              "      <td>NaN</td>\n",
              "      <td>NaN</td>\n",
              "      <td>20</td>\n",
              "      <td>[Shakib Al Hasan]</td>\n",
              "      <td>NaN</td>\n",
              "      <td>[Pune Warriors, Kolkata Knight Riders]</td>\n",
              "      <td>[S Asnani, BR Doctrove]</td>\n",
              "      <td>Subrata Roy Sahara Stadium</td>\n",
              "      <td>Kolkata Knight Riders</td>\n",
              "      <td>Kolkata Knight Riders</td>\n",
              "      <td>34.0</td>\n",
              "      <td>NaN</td>\n",
              "      <td>2012-05-19</td>\n",
              "      <td>2012</td>\n",
              "    </tr>\n",
              "    <tr>\n",
              "      <th>392234</th>\n",
              "      <td>Durban</td>\n",
              "      <td>IPL</td>\n",
              "      <td>bat</td>\n",
              "      <td>NaN</td>\n",
              "      <td>male</td>\n",
              "      <td>T20</td>\n",
              "      <td>NaN</td>\n",
              "      <td>1</td>\n",
              "      <td>20</td>\n",
              "      <td>[M Muralitharan]</td>\n",
              "      <td>NaN</td>\n",
              "      <td>[Chennai Super Kings, Kings XI Punjab]</td>\n",
              "      <td>[BG Jerling, SJA Taufel]</td>\n",
              "      <td>Kingsmead</td>\n",
              "      <td>Chennai Super Kings</td>\n",
              "      <td>Chennai Super Kings</td>\n",
              "      <td>24.0</td>\n",
              "      <td>NaN</td>\n",
              "      <td>2009-05-20</td>\n",
              "      <td>2009</td>\n",
              "    </tr>\n",
              "  </tbody>\n",
              "</table>\n",
              "</div>"
            ],
            "text/plain": [
              "                   city competition  ... match_date season\n",
              "match_id                             ...                  \n",
              "548314    Visakhapatnam         IPL  ... 2012-04-09   2012\n",
              "1178429       Bengaluru         IPL  ... 2019-05-04   2019\n",
              "419157        Bangalore         IPL  ... 2010-04-17   2010\n",
              "548375             Pune         IPL  ... 2012-05-19   2012\n",
              "392234           Durban         IPL  ... 2009-05-20   2009\n",
              "\n",
              "[5 rows x 20 columns]"
            ]
          },
          "metadata": {
            "tags": []
          },
          "execution_count": 28
        }
      ]
    },
    {
      "cell_type": "code",
      "metadata": {
        "id": "HXLrWGpBeekD",
        "colab_type": "code",
        "colab": {
          "base_uri": "https://localhost:8080/",
          "height": 452
        },
        "outputId": "25b0d3ba-e230-4ce2-bc44-73b7cfa38271"
      },
      "source": [
        "df_ipl_summary.info()"
      ],
      "execution_count": 29,
      "outputs": [
        {
          "output_type": "stream",
          "text": [
            "<class 'pandas.core.frame.DataFrame'>\n",
            "Index: 756 entries, 548314 to 336011\n",
            "Data columns (total 20 columns):\n",
            "city                  743 non-null object\n",
            "competition           756 non-null object\n",
            "decision              756 non-null object\n",
            "eliminator            9 non-null object\n",
            "gender                756 non-null object\n",
            "match_type            756 non-null object\n",
            "method                19 non-null object\n",
            "neutral_venue         77 non-null object\n",
            "#_of_overs            756 non-null object\n",
            "player_of_match       752 non-null object\n",
            "result                13 non-null object\n",
            "teams                 756 non-null object\n",
            "umpires               755 non-null object\n",
            "venue                 756 non-null object\n",
            "winner                756 non-null object\n",
            "winner_toss           743 non-null object\n",
            "outcome_by_runs       337 non-null float64\n",
            "outcome_by_wickets    406 non-null float64\n",
            "match_date            756 non-null datetime64[ns]\n",
            "season                756 non-null int64\n",
            "dtypes: datetime64[ns](1), float64(2), int64(1), object(16)\n",
            "memory usage: 124.0+ KB\n"
          ],
          "name": "stdout"
        }
      ]
    },
    {
      "cell_type": "code",
      "metadata": {
        "id": "LfJ7nXjrk7qW",
        "colab_type": "code",
        "colab": {
          "base_uri": "https://localhost:8080/",
          "height": 583
        },
        "outputId": "e3a8d2a5-7429-4e90-d407-731411f2e795"
      },
      "source": [
        "df_ipl_summary.head()"
      ],
      "execution_count": 119,
      "outputs": [
        {
          "output_type": "execute_result",
          "data": {
            "text/html": [
              "<div>\n",
              "<style scoped>\n",
              "    .dataframe tbody tr th:only-of-type {\n",
              "        vertical-align: middle;\n",
              "    }\n",
              "\n",
              "    .dataframe tbody tr th {\n",
              "        vertical-align: top;\n",
              "    }\n",
              "\n",
              "    .dataframe thead th {\n",
              "        text-align: right;\n",
              "    }\n",
              "</style>\n",
              "<table border=\"1\" class=\"dataframe\">\n",
              "  <thead>\n",
              "    <tr style=\"text-align: right;\">\n",
              "      <th></th>\n",
              "      <th>city</th>\n",
              "      <th>competition</th>\n",
              "      <th>decision</th>\n",
              "      <th>eliminator</th>\n",
              "      <th>gender</th>\n",
              "      <th>match_type</th>\n",
              "      <th>method</th>\n",
              "      <th>neutral_venue</th>\n",
              "      <th>overs</th>\n",
              "      <th>player_of_match</th>\n",
              "      <th>result</th>\n",
              "      <th>teams</th>\n",
              "      <th>umpires</th>\n",
              "      <th>venue</th>\n",
              "      <th>winner</th>\n",
              "      <th>winner_toss</th>\n",
              "      <th>outcome_by_runs</th>\n",
              "      <th>outcome_by_runs</th>\n",
              "      <th>match_date</th>\n",
              "      <th>season</th>\n",
              "    </tr>\n",
              "    <tr>\n",
              "      <th>match_id</th>\n",
              "      <th></th>\n",
              "      <th></th>\n",
              "      <th></th>\n",
              "      <th></th>\n",
              "      <th></th>\n",
              "      <th></th>\n",
              "      <th></th>\n",
              "      <th></th>\n",
              "      <th></th>\n",
              "      <th></th>\n",
              "      <th></th>\n",
              "      <th></th>\n",
              "      <th></th>\n",
              "      <th></th>\n",
              "      <th></th>\n",
              "      <th></th>\n",
              "      <th></th>\n",
              "      <th></th>\n",
              "      <th></th>\n",
              "      <th></th>\n",
              "    </tr>\n",
              "  </thead>\n",
              "  <tbody>\n",
              "    <tr>\n",
              "      <th>548314</th>\n",
              "      <td>Visakhapatnam</td>\n",
              "      <td>IPL</td>\n",
              "      <td>bat</td>\n",
              "      <td>NaN</td>\n",
              "      <td>male</td>\n",
              "      <td>T20</td>\n",
              "      <td>NaN</td>\n",
              "      <td>NaN</td>\n",
              "      <td>20</td>\n",
              "      <td>[RG Sharma]</td>\n",
              "      <td>NaN</td>\n",
              "      <td>[Deccan Chargers, Mumbai Indians]</td>\n",
              "      <td>[AK Chaudhary, JD Cloete]</td>\n",
              "      <td>Dr. Y.S. Rajasekhara Reddy ACA-VDCA Cricket St...</td>\n",
              "      <td>Mumbai Indians</td>\n",
              "      <td>Deccan Chargers</td>\n",
              "      <td>NaN</td>\n",
              "      <td>5.0</td>\n",
              "      <td>2012-04-09</td>\n",
              "      <td>2012</td>\n",
              "    </tr>\n",
              "    <tr>\n",
              "      <th>1178429</th>\n",
              "      <td>Bengaluru</td>\n",
              "      <td>IPL</td>\n",
              "      <td>field</td>\n",
              "      <td>NaN</td>\n",
              "      <td>male</td>\n",
              "      <td>T20</td>\n",
              "      <td>NaN</td>\n",
              "      <td>NaN</td>\n",
              "      <td>20</td>\n",
              "      <td>[SO Hetmyer]</td>\n",
              "      <td>NaN</td>\n",
              "      <td>[Royal Challengers Bangalore, Sunrisers Hydera...</td>\n",
              "      <td>[NJ Llong, AK Chaudhary]</td>\n",
              "      <td>M.Chinnaswamy Stadium</td>\n",
              "      <td>Royal Challengers Bangalore</td>\n",
              "      <td>Royal Challengers Bangalore</td>\n",
              "      <td>NaN</td>\n",
              "      <td>4.0</td>\n",
              "      <td>2019-05-04</td>\n",
              "      <td>2019</td>\n",
              "    </tr>\n",
              "    <tr>\n",
              "      <th>419157</th>\n",
              "      <td>Bangalore</td>\n",
              "      <td>IPL</td>\n",
              "      <td>field</td>\n",
              "      <td>NaN</td>\n",
              "      <td>male</td>\n",
              "      <td>T20</td>\n",
              "      <td>NaN</td>\n",
              "      <td>NaN</td>\n",
              "      <td>20</td>\n",
              "      <td>[R McLaren]</td>\n",
              "      <td>NaN</td>\n",
              "      <td>[Royal Challengers Bangalore, Mumbai Indians]</td>\n",
              "      <td>[HDPK Dharmasena, SJA Taufel]</td>\n",
              "      <td>M Chinnaswamy Stadium</td>\n",
              "      <td>Mumbai Indians</td>\n",
              "      <td>Royal Challengers Bangalore</td>\n",
              "      <td>57.0</td>\n",
              "      <td>NaN</td>\n",
              "      <td>2010-04-17</td>\n",
              "      <td>2010</td>\n",
              "    </tr>\n",
              "    <tr>\n",
              "      <th>548375</th>\n",
              "      <td>Pune</td>\n",
              "      <td>IPL</td>\n",
              "      <td>bat</td>\n",
              "      <td>NaN</td>\n",
              "      <td>male</td>\n",
              "      <td>T20</td>\n",
              "      <td>NaN</td>\n",
              "      <td>NaN</td>\n",
              "      <td>20</td>\n",
              "      <td>[Shakib Al Hasan]</td>\n",
              "      <td>NaN</td>\n",
              "      <td>[Pune Warriors, Kolkata Knight Riders]</td>\n",
              "      <td>[S Asnani, BR Doctrove]</td>\n",
              "      <td>Subrata Roy Sahara Stadium</td>\n",
              "      <td>Kolkata Knight Riders</td>\n",
              "      <td>Kolkata Knight Riders</td>\n",
              "      <td>34.0</td>\n",
              "      <td>NaN</td>\n",
              "      <td>2012-05-19</td>\n",
              "      <td>2012</td>\n",
              "    </tr>\n",
              "    <tr>\n",
              "      <th>392234</th>\n",
              "      <td>Durban</td>\n",
              "      <td>IPL</td>\n",
              "      <td>bat</td>\n",
              "      <td>NaN</td>\n",
              "      <td>male</td>\n",
              "      <td>T20</td>\n",
              "      <td>NaN</td>\n",
              "      <td>1</td>\n",
              "      <td>20</td>\n",
              "      <td>[M Muralitharan]</td>\n",
              "      <td>NaN</td>\n",
              "      <td>[Chennai Super Kings, Kings XI Punjab]</td>\n",
              "      <td>[BG Jerling, SJA Taufel]</td>\n",
              "      <td>Kingsmead</td>\n",
              "      <td>Chennai Super Kings</td>\n",
              "      <td>Chennai Super Kings</td>\n",
              "      <td>24.0</td>\n",
              "      <td>NaN</td>\n",
              "      <td>2009-05-20</td>\n",
              "      <td>2009</td>\n",
              "    </tr>\n",
              "  </tbody>\n",
              "</table>\n",
              "</div>"
            ],
            "text/plain": [
              "                   city competition  ... match_date season\n",
              "match_id                             ...                  \n",
              "548314    Visakhapatnam         IPL  ... 2012-04-09   2012\n",
              "1178429       Bengaluru         IPL  ... 2019-05-04   2019\n",
              "419157        Bangalore         IPL  ... 2010-04-17   2010\n",
              "548375             Pune         IPL  ... 2012-05-19   2012\n",
              "392234           Durban         IPL  ... 2009-05-20   2009\n",
              "\n",
              "[5 rows x 20 columns]"
            ]
          },
          "metadata": {
            "tags": []
          },
          "execution_count": 119
        }
      ]
    },
    {
      "cell_type": "code",
      "metadata": {
        "id": "si8fXaPbnR3w",
        "colab_type": "code",
        "colab": {
          "base_uri": "https://localhost:8080/",
          "height": 301
        },
        "outputId": "3e04de10-193d-4c76-f571-150b6a868c2e"
      },
      "source": [
        "df_details=df_details.rename(index=str, columns={\"level_0\": \"inning\", \"level_1\": \"delivery\"})\n",
        "df_details.head()"
      ],
      "execution_count": 36,
      "outputs": [
        {
          "output_type": "execute_result",
          "data": {
            "text/html": [
              "<div>\n",
              "<style scoped>\n",
              "    .dataframe tbody tr th:only-of-type {\n",
              "        vertical-align: middle;\n",
              "    }\n",
              "\n",
              "    .dataframe tbody tr th {\n",
              "        vertical-align: top;\n",
              "    }\n",
              "\n",
              "    .dataframe thead th {\n",
              "        text-align: right;\n",
              "    }\n",
              "</style>\n",
              "<table border=\"1\" class=\"dataframe\">\n",
              "  <thead>\n",
              "    <tr style=\"text-align: right;\">\n",
              "      <th></th>\n",
              "      <th>batsman</th>\n",
              "      <th>batsman_runs</th>\n",
              "      <th>batting_team</th>\n",
              "      <th>bowler</th>\n",
              "      <th>byes</th>\n",
              "      <th>extras_runs</th>\n",
              "      <th>fielders</th>\n",
              "      <th>kind</th>\n",
              "      <th>legbyes</th>\n",
              "      <th>inning</th>\n",
              "      <th>delivery</th>\n",
              "      <th>match_id</th>\n",
              "      <th>noballs</th>\n",
              "      <th>non_striker</th>\n",
              "      <th>player_out</th>\n",
              "      <th>total</th>\n",
              "      <th>wides</th>\n",
              "      <th>non_boundary</th>\n",
              "      <th>penalty</th>\n",
              "      <th>extras</th>\n",
              "    </tr>\n",
              "  </thead>\n",
              "  <tbody>\n",
              "    <tr>\n",
              "      <th>0</th>\n",
              "      <td>PA Patel</td>\n",
              "      <td>0.0</td>\n",
              "      <td>Deccan Chargers</td>\n",
              "      <td>Harbhajan Singh</td>\n",
              "      <td>NaN</td>\n",
              "      <td>0.0</td>\n",
              "      <td>NaN</td>\n",
              "      <td>NaN</td>\n",
              "      <td>NaN</td>\n",
              "      <td>inning_1</td>\n",
              "      <td>0.1</td>\n",
              "      <td>548314</td>\n",
              "      <td>NaN</td>\n",
              "      <td>S Dhawan</td>\n",
              "      <td>NaN</td>\n",
              "      <td>0.0</td>\n",
              "      <td>NaN</td>\n",
              "      <td>NaN</td>\n",
              "      <td>NaN</td>\n",
              "      <td>NaN</td>\n",
              "    </tr>\n",
              "    <tr>\n",
              "      <th>1</th>\n",
              "      <td>PA Patel</td>\n",
              "      <td>0.0</td>\n",
              "      <td>Deccan Chargers</td>\n",
              "      <td>Harbhajan Singh</td>\n",
              "      <td>NaN</td>\n",
              "      <td>0.0</td>\n",
              "      <td>NaN</td>\n",
              "      <td>NaN</td>\n",
              "      <td>NaN</td>\n",
              "      <td>inning_1</td>\n",
              "      <td>0.2</td>\n",
              "      <td>548314</td>\n",
              "      <td>NaN</td>\n",
              "      <td>S Dhawan</td>\n",
              "      <td>NaN</td>\n",
              "      <td>0.0</td>\n",
              "      <td>NaN</td>\n",
              "      <td>NaN</td>\n",
              "      <td>NaN</td>\n",
              "      <td>NaN</td>\n",
              "    </tr>\n",
              "    <tr>\n",
              "      <th>2</th>\n",
              "      <td>PA Patel</td>\n",
              "      <td>1.0</td>\n",
              "      <td>Deccan Chargers</td>\n",
              "      <td>Harbhajan Singh</td>\n",
              "      <td>NaN</td>\n",
              "      <td>0.0</td>\n",
              "      <td>NaN</td>\n",
              "      <td>NaN</td>\n",
              "      <td>NaN</td>\n",
              "      <td>inning_1</td>\n",
              "      <td>0.3</td>\n",
              "      <td>548314</td>\n",
              "      <td>NaN</td>\n",
              "      <td>S Dhawan</td>\n",
              "      <td>NaN</td>\n",
              "      <td>1.0</td>\n",
              "      <td>NaN</td>\n",
              "      <td>NaN</td>\n",
              "      <td>NaN</td>\n",
              "      <td>NaN</td>\n",
              "    </tr>\n",
              "    <tr>\n",
              "      <th>3</th>\n",
              "      <td>S Dhawan</td>\n",
              "      <td>0.0</td>\n",
              "      <td>Deccan Chargers</td>\n",
              "      <td>Harbhajan Singh</td>\n",
              "      <td>NaN</td>\n",
              "      <td>0.0</td>\n",
              "      <td>NaN</td>\n",
              "      <td>NaN</td>\n",
              "      <td>NaN</td>\n",
              "      <td>inning_1</td>\n",
              "      <td>0.4</td>\n",
              "      <td>548314</td>\n",
              "      <td>NaN</td>\n",
              "      <td>PA Patel</td>\n",
              "      <td>NaN</td>\n",
              "      <td>0.0</td>\n",
              "      <td>NaN</td>\n",
              "      <td>NaN</td>\n",
              "      <td>NaN</td>\n",
              "      <td>NaN</td>\n",
              "    </tr>\n",
              "    <tr>\n",
              "      <th>4</th>\n",
              "      <td>S Dhawan</td>\n",
              "      <td>0.0</td>\n",
              "      <td>Deccan Chargers</td>\n",
              "      <td>Harbhajan Singh</td>\n",
              "      <td>NaN</td>\n",
              "      <td>0.0</td>\n",
              "      <td>NaN</td>\n",
              "      <td>NaN</td>\n",
              "      <td>NaN</td>\n",
              "      <td>inning_1</td>\n",
              "      <td>0.5</td>\n",
              "      <td>548314</td>\n",
              "      <td>NaN</td>\n",
              "      <td>PA Patel</td>\n",
              "      <td>NaN</td>\n",
              "      <td>0.0</td>\n",
              "      <td>NaN</td>\n",
              "      <td>NaN</td>\n",
              "      <td>NaN</td>\n",
              "      <td>NaN</td>\n",
              "    </tr>\n",
              "  </tbody>\n",
              "</table>\n",
              "</div>"
            ],
            "text/plain": [
              "    batsman  batsman_runs     batting_team  ... non_boundary  penalty  extras\n",
              "0  PA Patel           0.0  Deccan Chargers  ...          NaN      NaN     NaN\n",
              "1  PA Patel           0.0  Deccan Chargers  ...          NaN      NaN     NaN\n",
              "2  PA Patel           1.0  Deccan Chargers  ...          NaN      NaN     NaN\n",
              "3  S Dhawan           0.0  Deccan Chargers  ...          NaN      NaN     NaN\n",
              "4  S Dhawan           0.0  Deccan Chargers  ...          NaN      NaN     NaN\n",
              "\n",
              "[5 rows x 20 columns]"
            ]
          },
          "metadata": {
            "tags": []
          },
          "execution_count": 36
        }
      ]
    },
    {
      "cell_type": "code",
      "metadata": {
        "id": "ZqqYD5Ty4rhz",
        "colab_type": "code",
        "colab": {}
      },
      "source": [
        "df_details.drop(columns=['extras'],axis=1,inplace=True)"
      ],
      "execution_count": 0,
      "outputs": []
    },
    {
      "cell_type": "code",
      "metadata": {
        "id": "9EjWLo3-CLBz",
        "colab_type": "code",
        "colab": {
          "base_uri": "https://localhost:8080/",
          "height": 782
        },
        "outputId": "b033a305-2769-4900-9c3b-b3e7236b0e21"
      },
      "source": [
        "df_combined = df_details.join(df_ipl_summary,on='match_id',rsuffix='_ipl_summary')\n",
        "df_combined.info()"
      ],
      "execution_count": 38,
      "outputs": [
        {
          "output_type": "stream",
          "text": [
            "<class 'pandas.core.frame.DataFrame'>\n",
            "Index: 178949 entries, 0 to 222\n",
            "Data columns (total 39 columns):\n",
            "batsman               178940 non-null object\n",
            "batsman_runs          178940 non-null float64\n",
            "batting_team          178949 non-null object\n",
            "bowler                178940 non-null object\n",
            "byes                  480 non-null float64\n",
            "extras_runs           178299 non-null float64\n",
            "fielders              6338 non-null object\n",
            "kind                  8827 non-null object\n",
            "legbyes               2933 non-null float64\n",
            "inning                178949 non-null object\n",
            "delivery              178949 non-null object\n",
            "match_id              178949 non-null object\n",
            "noballs               712 non-null float64\n",
            "non_striker           178940 non-null object\n",
            "player_out            8827 non-null object\n",
            "total                 178940 non-null float64\n",
            "wides                 5405 non-null float64\n",
            "non_boundary          14 non-null float64\n",
            "penalty               2 non-null float64\n",
            "city                  175811 non-null object\n",
            "competition           178949 non-null object\n",
            "decision              178949 non-null object\n",
            "eliminator            2238 non-null object\n",
            "gender                178949 non-null object\n",
            "match_type            178949 non-null object\n",
            "method                3208 non-null object\n",
            "neutral_venue         18345 non-null object\n",
            "#_of_overs            178949 non-null object\n",
            "player_of_match       178577 non-null object\n",
            "result                2610 non-null object\n",
            "teams                 178949 non-null object\n",
            "umpires               178701 non-null object\n",
            "venue                 178949 non-null object\n",
            "winner                178949 non-null object\n",
            "winner_toss           176339 non-null object\n",
            "outcome_by_runs       81617 non-null float64\n",
            "outcome_by_wickets    94722 non-null float64\n",
            "match_date            178949 non-null datetime64[ns]\n",
            "season                178949 non-null int64\n",
            "dtypes: datetime64[ns](1), float64(11), int64(1), object(26)\n",
            "memory usage: 54.6+ MB\n"
          ],
          "name": "stdout"
        }
      ]
    },
    {
      "cell_type": "code",
      "metadata": {
        "id": "F7XyioFkGknS",
        "colab_type": "code",
        "outputId": "42a8a60d-4a16-481d-b393-1059dcd52c24",
        "colab": {
          "base_uri": "https://localhost:8080/",
          "height": 553
        }
      },
      "source": [
        "df_combined.head()"
      ],
      "execution_count": 39,
      "outputs": [
        {
          "output_type": "execute_result",
          "data": {
            "text/html": [
              "<div>\n",
              "<style scoped>\n",
              "    .dataframe tbody tr th:only-of-type {\n",
              "        vertical-align: middle;\n",
              "    }\n",
              "\n",
              "    .dataframe tbody tr th {\n",
              "        vertical-align: top;\n",
              "    }\n",
              "\n",
              "    .dataframe thead th {\n",
              "        text-align: right;\n",
              "    }\n",
              "</style>\n",
              "<table border=\"1\" class=\"dataframe\">\n",
              "  <thead>\n",
              "    <tr style=\"text-align: right;\">\n",
              "      <th></th>\n",
              "      <th>batsman</th>\n",
              "      <th>batsman_runs</th>\n",
              "      <th>batting_team</th>\n",
              "      <th>bowler</th>\n",
              "      <th>byes</th>\n",
              "      <th>extras_runs</th>\n",
              "      <th>fielders</th>\n",
              "      <th>kind</th>\n",
              "      <th>legbyes</th>\n",
              "      <th>inning</th>\n",
              "      <th>delivery</th>\n",
              "      <th>match_id</th>\n",
              "      <th>noballs</th>\n",
              "      <th>non_striker</th>\n",
              "      <th>player_out</th>\n",
              "      <th>total</th>\n",
              "      <th>wides</th>\n",
              "      <th>non_boundary</th>\n",
              "      <th>penalty</th>\n",
              "      <th>city</th>\n",
              "      <th>competition</th>\n",
              "      <th>decision</th>\n",
              "      <th>eliminator</th>\n",
              "      <th>gender</th>\n",
              "      <th>match_type</th>\n",
              "      <th>method</th>\n",
              "      <th>neutral_venue</th>\n",
              "      <th>#_of_overs</th>\n",
              "      <th>player_of_match</th>\n",
              "      <th>result</th>\n",
              "      <th>teams</th>\n",
              "      <th>umpires</th>\n",
              "      <th>venue</th>\n",
              "      <th>winner</th>\n",
              "      <th>winner_toss</th>\n",
              "      <th>outcome_by_runs</th>\n",
              "      <th>outcome_by_wickets</th>\n",
              "      <th>match_date</th>\n",
              "      <th>season</th>\n",
              "    </tr>\n",
              "  </thead>\n",
              "  <tbody>\n",
              "    <tr>\n",
              "      <th>0</th>\n",
              "      <td>PA Patel</td>\n",
              "      <td>0.0</td>\n",
              "      <td>Deccan Chargers</td>\n",
              "      <td>Harbhajan Singh</td>\n",
              "      <td>NaN</td>\n",
              "      <td>0.0</td>\n",
              "      <td>NaN</td>\n",
              "      <td>NaN</td>\n",
              "      <td>NaN</td>\n",
              "      <td>inning_1</td>\n",
              "      <td>0.1</td>\n",
              "      <td>548314</td>\n",
              "      <td>NaN</td>\n",
              "      <td>S Dhawan</td>\n",
              "      <td>NaN</td>\n",
              "      <td>0.0</td>\n",
              "      <td>NaN</td>\n",
              "      <td>NaN</td>\n",
              "      <td>NaN</td>\n",
              "      <td>Visakhapatnam</td>\n",
              "      <td>IPL</td>\n",
              "      <td>bat</td>\n",
              "      <td>NaN</td>\n",
              "      <td>male</td>\n",
              "      <td>T20</td>\n",
              "      <td>NaN</td>\n",
              "      <td>NaN</td>\n",
              "      <td>20</td>\n",
              "      <td>[RG Sharma]</td>\n",
              "      <td>NaN</td>\n",
              "      <td>[Deccan Chargers, Mumbai Indians]</td>\n",
              "      <td>[AK Chaudhary, JD Cloete]</td>\n",
              "      <td>Dr. Y.S. Rajasekhara Reddy ACA-VDCA Cricket St...</td>\n",
              "      <td>Mumbai Indians</td>\n",
              "      <td>Deccan Chargers</td>\n",
              "      <td>NaN</td>\n",
              "      <td>5.0</td>\n",
              "      <td>2012-04-09</td>\n",
              "      <td>2012</td>\n",
              "    </tr>\n",
              "    <tr>\n",
              "      <th>1</th>\n",
              "      <td>PA Patel</td>\n",
              "      <td>0.0</td>\n",
              "      <td>Deccan Chargers</td>\n",
              "      <td>Harbhajan Singh</td>\n",
              "      <td>NaN</td>\n",
              "      <td>0.0</td>\n",
              "      <td>NaN</td>\n",
              "      <td>NaN</td>\n",
              "      <td>NaN</td>\n",
              "      <td>inning_1</td>\n",
              "      <td>0.2</td>\n",
              "      <td>548314</td>\n",
              "      <td>NaN</td>\n",
              "      <td>S Dhawan</td>\n",
              "      <td>NaN</td>\n",
              "      <td>0.0</td>\n",
              "      <td>NaN</td>\n",
              "      <td>NaN</td>\n",
              "      <td>NaN</td>\n",
              "      <td>Visakhapatnam</td>\n",
              "      <td>IPL</td>\n",
              "      <td>bat</td>\n",
              "      <td>NaN</td>\n",
              "      <td>male</td>\n",
              "      <td>T20</td>\n",
              "      <td>NaN</td>\n",
              "      <td>NaN</td>\n",
              "      <td>20</td>\n",
              "      <td>[RG Sharma]</td>\n",
              "      <td>NaN</td>\n",
              "      <td>[Deccan Chargers, Mumbai Indians]</td>\n",
              "      <td>[AK Chaudhary, JD Cloete]</td>\n",
              "      <td>Dr. Y.S. Rajasekhara Reddy ACA-VDCA Cricket St...</td>\n",
              "      <td>Mumbai Indians</td>\n",
              "      <td>Deccan Chargers</td>\n",
              "      <td>NaN</td>\n",
              "      <td>5.0</td>\n",
              "      <td>2012-04-09</td>\n",
              "      <td>2012</td>\n",
              "    </tr>\n",
              "    <tr>\n",
              "      <th>2</th>\n",
              "      <td>PA Patel</td>\n",
              "      <td>1.0</td>\n",
              "      <td>Deccan Chargers</td>\n",
              "      <td>Harbhajan Singh</td>\n",
              "      <td>NaN</td>\n",
              "      <td>0.0</td>\n",
              "      <td>NaN</td>\n",
              "      <td>NaN</td>\n",
              "      <td>NaN</td>\n",
              "      <td>inning_1</td>\n",
              "      <td>0.3</td>\n",
              "      <td>548314</td>\n",
              "      <td>NaN</td>\n",
              "      <td>S Dhawan</td>\n",
              "      <td>NaN</td>\n",
              "      <td>1.0</td>\n",
              "      <td>NaN</td>\n",
              "      <td>NaN</td>\n",
              "      <td>NaN</td>\n",
              "      <td>Visakhapatnam</td>\n",
              "      <td>IPL</td>\n",
              "      <td>bat</td>\n",
              "      <td>NaN</td>\n",
              "      <td>male</td>\n",
              "      <td>T20</td>\n",
              "      <td>NaN</td>\n",
              "      <td>NaN</td>\n",
              "      <td>20</td>\n",
              "      <td>[RG Sharma]</td>\n",
              "      <td>NaN</td>\n",
              "      <td>[Deccan Chargers, Mumbai Indians]</td>\n",
              "      <td>[AK Chaudhary, JD Cloete]</td>\n",
              "      <td>Dr. Y.S. Rajasekhara Reddy ACA-VDCA Cricket St...</td>\n",
              "      <td>Mumbai Indians</td>\n",
              "      <td>Deccan Chargers</td>\n",
              "      <td>NaN</td>\n",
              "      <td>5.0</td>\n",
              "      <td>2012-04-09</td>\n",
              "      <td>2012</td>\n",
              "    </tr>\n",
              "    <tr>\n",
              "      <th>3</th>\n",
              "      <td>S Dhawan</td>\n",
              "      <td>0.0</td>\n",
              "      <td>Deccan Chargers</td>\n",
              "      <td>Harbhajan Singh</td>\n",
              "      <td>NaN</td>\n",
              "      <td>0.0</td>\n",
              "      <td>NaN</td>\n",
              "      <td>NaN</td>\n",
              "      <td>NaN</td>\n",
              "      <td>inning_1</td>\n",
              "      <td>0.4</td>\n",
              "      <td>548314</td>\n",
              "      <td>NaN</td>\n",
              "      <td>PA Patel</td>\n",
              "      <td>NaN</td>\n",
              "      <td>0.0</td>\n",
              "      <td>NaN</td>\n",
              "      <td>NaN</td>\n",
              "      <td>NaN</td>\n",
              "      <td>Visakhapatnam</td>\n",
              "      <td>IPL</td>\n",
              "      <td>bat</td>\n",
              "      <td>NaN</td>\n",
              "      <td>male</td>\n",
              "      <td>T20</td>\n",
              "      <td>NaN</td>\n",
              "      <td>NaN</td>\n",
              "      <td>20</td>\n",
              "      <td>[RG Sharma]</td>\n",
              "      <td>NaN</td>\n",
              "      <td>[Deccan Chargers, Mumbai Indians]</td>\n",
              "      <td>[AK Chaudhary, JD Cloete]</td>\n",
              "      <td>Dr. Y.S. Rajasekhara Reddy ACA-VDCA Cricket St...</td>\n",
              "      <td>Mumbai Indians</td>\n",
              "      <td>Deccan Chargers</td>\n",
              "      <td>NaN</td>\n",
              "      <td>5.0</td>\n",
              "      <td>2012-04-09</td>\n",
              "      <td>2012</td>\n",
              "    </tr>\n",
              "    <tr>\n",
              "      <th>4</th>\n",
              "      <td>S Dhawan</td>\n",
              "      <td>0.0</td>\n",
              "      <td>Deccan Chargers</td>\n",
              "      <td>Harbhajan Singh</td>\n",
              "      <td>NaN</td>\n",
              "      <td>0.0</td>\n",
              "      <td>NaN</td>\n",
              "      <td>NaN</td>\n",
              "      <td>NaN</td>\n",
              "      <td>inning_1</td>\n",
              "      <td>0.5</td>\n",
              "      <td>548314</td>\n",
              "      <td>NaN</td>\n",
              "      <td>PA Patel</td>\n",
              "      <td>NaN</td>\n",
              "      <td>0.0</td>\n",
              "      <td>NaN</td>\n",
              "      <td>NaN</td>\n",
              "      <td>NaN</td>\n",
              "      <td>Visakhapatnam</td>\n",
              "      <td>IPL</td>\n",
              "      <td>bat</td>\n",
              "      <td>NaN</td>\n",
              "      <td>male</td>\n",
              "      <td>T20</td>\n",
              "      <td>NaN</td>\n",
              "      <td>NaN</td>\n",
              "      <td>20</td>\n",
              "      <td>[RG Sharma]</td>\n",
              "      <td>NaN</td>\n",
              "      <td>[Deccan Chargers, Mumbai Indians]</td>\n",
              "      <td>[AK Chaudhary, JD Cloete]</td>\n",
              "      <td>Dr. Y.S. Rajasekhara Reddy ACA-VDCA Cricket St...</td>\n",
              "      <td>Mumbai Indians</td>\n",
              "      <td>Deccan Chargers</td>\n",
              "      <td>NaN</td>\n",
              "      <td>5.0</td>\n",
              "      <td>2012-04-09</td>\n",
              "      <td>2012</td>\n",
              "    </tr>\n",
              "  </tbody>\n",
              "</table>\n",
              "</div>"
            ],
            "text/plain": [
              "    batsman  batsman_runs  ... match_date season\n",
              "0  PA Patel           0.0  ... 2012-04-09   2012\n",
              "1  PA Patel           0.0  ... 2012-04-09   2012\n",
              "2  PA Patel           1.0  ... 2012-04-09   2012\n",
              "3  S Dhawan           0.0  ... 2012-04-09   2012\n",
              "4  S Dhawan           0.0  ... 2012-04-09   2012\n",
              "\n",
              "[5 rows x 39 columns]"
            ]
          },
          "metadata": {
            "tags": []
          },
          "execution_count": 39
        }
      ]
    },
    {
      "cell_type": "code",
      "metadata": {
        "id": "znJQ6PreKXW3",
        "colab_type": "code",
        "colab": {}
      },
      "source": [
        "overs = {'0.1': '1','0.2': '1', '0.3': '1', '0.4': '1', '0.5': '1', '0.6': '1', '0.7': '1', '0.8': '1', '0.9': '1',\\\n",
        "         '1.1': '2','1.2': '2', '1.3': '2', '1.4': '2', '1.5': '2', '1.6': '2', '1.7': '2', '1.8': '2', '1.9': '2',\\\n",
        "         '2.1': '3','2.2': '3', '2.3': '3', '2.4': '3', '2.5': '3', '2.6': '3', '2.7': '3', '2.8': '3', '2.9': '3',\\\n",
        "         '3.1': '4','3.2': '4', '3.3': '4', '3.4': '4', '3.5': '4', '3.6': '4', '3.7': '4', '3.8': '4', '3.9': '4',\\\n",
        "         '4.1': '5','4.2': '5', '4.3': '5', '4.4': '5', '4.5': '5', '4.6': '5', '4.7': '5', '4.8': '5', '4.9': '5',\\\n",
        "         '5.1': '6','5.2': '6', '5.3': '6', '5.4': '6', '5.5': '6', '5.6': '6', '5.7': '6', '5.8': '6', '5.9': '6',\\\n",
        "         '6.1': '7','6.2': '7', '6.3': '7', '6.4': '7', '6.5': '7', '6.6': '7', '6.7': '7', '6.8': '7', '6.9': '7',\\\n",
        "         '7.1': '8','7.2': '8', '7.3': '8', '7.4': '8', '7.5': '8', '7.6': '8', '7.7': '8', '7.8': '8', '7.9': '8',\\\n",
        "         '8.1': '9','8.2': '9', '8.3': '9', '8.4': '9', '8.5': '9', '8.6': '9', '8.7': '9', '8.8': '9', '8.9': '9',\\\n",
        "         '9.1': '10','9.2': '10', '9.3': '10', '9.4': '10', '9.5': '10', '9.6': '10', '9.7': '10', '9.8': '10', '9.9': '10',\\\n",
        "         '10.1': '11','10.2': '11', '10.3': '11', '10.4': '11', '10.5': '11', '10.6': '11', '10.7': '11', '10.8': '11', '10.9': '11',\\\n",
        "         '11.1': '12','11.2': '12', '11.3': '12', '11.4': '12', '11.5': '12', '11.6': '12', '11.7': '12', '11.8': '12', '11.9': '12',\\\n",
        "         '12.1': '13','12.2': '13', '12.3': '13', '12.4': '13', '12.5': '13', '12.6': '13', '12.7': '13', '12.8': '13', '12.9': '13',\\\n",
        "         '13.1': '14','13.2': '14', '13.3': '14', '13.4': '14', '13.5': '14', '13.6': '14', '13.7': '14', '13.8': '14', '13.9': '14',\\\n",
        "         '14.1': '15','14.2': '15', '14.3': '15', '14.4': '15', '14.5': '15', '14.6': '15', '14.7': '15', '14.8': '15', '14.9': '15',\\\n",
        "         '15.1': '16','15.2': '16', '15.3': '16', '15.4': '16', '15.5': '16', '15.6': '16', '15.7': '16', '15.8': '16', '15.9': '16',\\\n",
        "         '16.1': '17','16.2': '17', '16.3': '17', '16.4': '17', '16.5': '17', '16.6': '17', '16.7': '17', '16.8': '17', '16.9': '17',\\\n",
        "         '17.1': '18','17.2': '18', '17.3': '18', '17.4': '18', '17.5': '18', '17.6': '18', '17.7': '18', '17.8': '18', '17.9': '18',\\\n",
        "         '18.1': '19','18.2': '19', '18.3': '19', '18.4': '19', '18.5': '19', '18.6': '19', '18.7': '19', '18.8': '19', '18.9': '19',\\\n",
        "         '19.1': '20','19.2': '20', '19.3': '20', '19.4': '20', '19.5': '20', '19.6': '20', '19.7': '20', '19.8': '20', '19.9': '20',\\\n",
        "        }"
      ],
      "execution_count": 0,
      "outputs": []
    },
    {
      "cell_type": "code",
      "metadata": {
        "id": "rCzTs8L9OuPt",
        "colab_type": "code",
        "colab": {}
      },
      "source": [
        "df_combined['over'] = df_combined['delivery'].map(overs)"
      ],
      "execution_count": 0,
      "outputs": []
    },
    {
      "cell_type": "code",
      "metadata": {
        "id": "TrpMPkoWJ06I",
        "colab_type": "code",
        "outputId": "09d13c35-2c45-4643-e9ba-1de7866be0de",
        "colab": {
          "base_uri": "https://localhost:8080/",
          "height": 399
        }
      },
      "source": [
        "df_combined['delivery'].unique()"
      ],
      "execution_count": 42,
      "outputs": [
        {
          "output_type": "execute_result",
          "data": {
            "text/plain": [
              "array(['0.1', '0.2', '0.3', '0.4', '0.5', '0.6', '1.1', '1.2', '1.3',\n",
              "       '1.4', '1.5', '1.6', '2.1', '2.2', '2.3', '2.4', '2.5', '2.6',\n",
              "       '3.1', '3.2', '3.3', '3.4', '3.5', '3.6', '4.1', '4.2', '4.3',\n",
              "       '4.4', '4.5', '4.6', '5.1', '5.2', '5.3', '5.4', '5.5', '5.6',\n",
              "       '6.1', '6.2', '6.3', '6.4', '6.5', '6.6', '7.1', '7.2', '7.3',\n",
              "       '7.4', '7.5', '7.6', '8.1', '8.2', '8.3', '8.4', '8.5', '8.6',\n",
              "       '9.1', '9.2', '9.3', '9.4', '9.5', '9.6', '10.1', '10.2', '10.3',\n",
              "       '10.4', '10.5', '10.6', '11.1', '11.2', '11.3', '11.4', '11.5',\n",
              "       '11.6', '11.7', '12.1', '12.2', '12.3', '12.4', '12.5', '12.6',\n",
              "       '13.1', '13.2', '13.3', '13.4', '13.5', '13.6', '14.1', '14.2',\n",
              "       '14.3', '14.4', '14.5', '14.6', '15.1', '15.2', '15.3', '15.4',\n",
              "       '15.5', '15.6', '15.7', '16.1', '16.2', '16.3', '16.4', '16.5',\n",
              "       '16.6', '17.1', '17.2', '17.3', '17.4', '17.5', '17.6', '18.1',\n",
              "       '18.2', '18.3', '18.4', '18.5', '18.6', '19.1', '19.2', '19.3',\n",
              "       '19.4', '19.5', '19.6', '19.7', '14.7', '0.7', '3.7', '3.8', '4.7',\n",
              "       '18.7', '18.8', '2.7', '7.7', '8.7', '13.7', '9.7', '6.7', '17.7',\n",
              "       '1.7', '16.7', '17.8', '1.8', '5.7', '4.8', '16.8', '6.8', '10.7',\n",
              "       '12.7', '3.9', '15.8', '8.8', '19.8', '5.8', '1.9', '0.8', '0.9',\n",
              "       '2.8', '2.9', '17.9', '9.8', '12.8', '8.9', '11.8', '10.8', '7.8',\n",
              "       '14.8', '13.8', '11.9', '4.9', '13.9', '16.9', '6.9', '18.9',\n",
              "       '12.9', '5.9', '14.9', '9.9', '7.9', '10.9', '19.9', '15.9'],\n",
              "      dtype=object)"
            ]
          },
          "metadata": {
            "tags": []
          },
          "execution_count": 42
        }
      ]
    },
    {
      "cell_type": "code",
      "metadata": {
        "id": "vDCKXKpayMhj",
        "colab_type": "code",
        "outputId": "54890c72-162e-4d0d-b559-16ada0278bd5",
        "colab": {
          "base_uri": "https://localhost:8080/",
          "height": 800
        }
      },
      "source": [
        "df_combined.info()"
      ],
      "execution_count": 43,
      "outputs": [
        {
          "output_type": "stream",
          "text": [
            "<class 'pandas.core.frame.DataFrame'>\n",
            "Index: 178949 entries, 0 to 222\n",
            "Data columns (total 40 columns):\n",
            "batsman               178940 non-null object\n",
            "batsman_runs          178940 non-null float64\n",
            "batting_team          178949 non-null object\n",
            "bowler                178940 non-null object\n",
            "byes                  480 non-null float64\n",
            "extras_runs           178299 non-null float64\n",
            "fielders              6338 non-null object\n",
            "kind                  8827 non-null object\n",
            "legbyes               2933 non-null float64\n",
            "inning                178949 non-null object\n",
            "delivery              178949 non-null object\n",
            "match_id              178949 non-null object\n",
            "noballs               712 non-null float64\n",
            "non_striker           178940 non-null object\n",
            "player_out            8827 non-null object\n",
            "total                 178940 non-null float64\n",
            "wides                 5405 non-null float64\n",
            "non_boundary          14 non-null float64\n",
            "penalty               2 non-null float64\n",
            "city                  175811 non-null object\n",
            "competition           178949 non-null object\n",
            "decision              178949 non-null object\n",
            "eliminator            2238 non-null object\n",
            "gender                178949 non-null object\n",
            "match_type            178949 non-null object\n",
            "method                3208 non-null object\n",
            "neutral_venue         18345 non-null object\n",
            "#_of_overs            178949 non-null object\n",
            "player_of_match       178577 non-null object\n",
            "result                2610 non-null object\n",
            "teams                 178949 non-null object\n",
            "umpires               178701 non-null object\n",
            "venue                 178949 non-null object\n",
            "winner                178949 non-null object\n",
            "winner_toss           176339 non-null object\n",
            "outcome_by_runs       81617 non-null float64\n",
            "outcome_by_wickets    94722 non-null float64\n",
            "match_date            178949 non-null datetime64[ns]\n",
            "season                178949 non-null int64\n",
            "over                  178949 non-null object\n",
            "dtypes: datetime64[ns](1), float64(11), int64(1), object(27)\n",
            "memory usage: 56.0+ MB\n"
          ],
          "name": "stdout"
        }
      ]
    },
    {
      "cell_type": "code",
      "metadata": {
        "id": "I2tXsTpq7aEu",
        "colab_type": "code",
        "colab": {}
      },
      "source": [
        "df_ipl_summary.to_csv('ipl_summary.csv')"
      ],
      "execution_count": 0,
      "outputs": []
    },
    {
      "cell_type": "code",
      "metadata": {
        "id": "9ycrSANOfFR7",
        "colab_type": "code",
        "colab": {
          "base_uri": "https://localhost:8080/",
          "height": 365
        },
        "outputId": "5973db7d-86e8-4e59-cecf-84ab843018f5"
      },
      "source": [
        "df_details.iloc[:,:].isna().mean()"
      ],
      "execution_count": 44,
      "outputs": [
        {
          "output_type": "execute_result",
          "data": {
            "text/plain": [
              "batsman         0.000050\n",
              "batsman_runs    0.000050\n",
              "batting_team    0.000000\n",
              "bowler          0.000050\n",
              "byes            0.997318\n",
              "extras_runs     0.003632\n",
              "fielders        0.964582\n",
              "kind            0.950673\n",
              "legbyes         0.983610\n",
              "inning          0.000000\n",
              "delivery        0.000000\n",
              "match_id        0.000000\n",
              "noballs         0.996021\n",
              "non_striker     0.000050\n",
              "player_out      0.950673\n",
              "total           0.000050\n",
              "wides           0.969796\n",
              "non_boundary    0.999922\n",
              "penalty         0.999989\n",
              "dtype: float64"
            ]
          },
          "metadata": {
            "tags": []
          },
          "execution_count": 44
        }
      ]
    },
    {
      "cell_type": "code",
      "metadata": {
        "id": "4_ESidglICLE",
        "colab_type": "code",
        "colab": {}
      },
      "source": [
        "df_combined.to_csv('ball_by_ball_details.csv')"
      ],
      "execution_count": 0,
      "outputs": []
    },
    {
      "cell_type": "code",
      "metadata": {
        "id": "vu2gYchIrhz0",
        "colab_type": "code",
        "outputId": "aa5ae0d1-11fd-4920-8c16-c030297c9a5c",
        "colab": {
          "base_uri": "https://localhost:8080/",
          "height": 817
        }
      },
      "source": [
        "df_combined.info()"
      ],
      "execution_count": 139,
      "outputs": [
        {
          "output_type": "stream",
          "text": [
            "<class 'pandas.core.frame.DataFrame'>\n",
            "Index: 178949 entries, 0 to 222\n",
            "Data columns (total 41 columns):\n",
            "batsman            178940 non-null object\n",
            "batsman_runs       178940 non-null float64\n",
            "batting_team       178949 non-null object\n",
            "bowler             178940 non-null object\n",
            "byes               480 non-null float64\n",
            "extras_runs        178299 non-null float64\n",
            "fielders           6338 non-null object\n",
            "kind               8827 non-null object\n",
            "legbyes            2933 non-null float64\n",
            "inning             178949 non-null object\n",
            "delivery           178949 non-null object\n",
            "match_id           178949 non-null object\n",
            "noballs            712 non-null float64\n",
            "non_striker        178940 non-null object\n",
            "player_out         8827 non-null object\n",
            "total              178940 non-null float64\n",
            "wides              5405 non-null float64\n",
            "non_boundary       14 non-null float64\n",
            "penalty            2 non-null float64\n",
            "extras             641 non-null float64\n",
            "city               175811 non-null object\n",
            "competition        178949 non-null object\n",
            "decision           178949 non-null object\n",
            "eliminator         2238 non-null object\n",
            "gender             178949 non-null object\n",
            "match_type         178949 non-null object\n",
            "method             3208 non-null object\n",
            "neutral_venue      18345 non-null object\n",
            "#_of_overs         178949 non-null object\n",
            "player_of_match    178577 non-null object\n",
            "result             2610 non-null object\n",
            "teams              178949 non-null object\n",
            "umpires            178701 non-null object\n",
            "venue              178949 non-null object\n",
            "winner             178949 non-null object\n",
            "winner_toss        176339 non-null object\n",
            "outcome_by_runs    81617 non-null float64\n",
            "outcome_by_runs    94722 non-null float64\n",
            "match_date         178949 non-null datetime64[ns]\n",
            "season             178949 non-null int64\n",
            "over               178949 non-null object\n",
            "dtypes: datetime64[ns](1), float64(12), int64(1), object(27)\n",
            "memory usage: 57.3+ MB\n"
          ],
          "name": "stdout"
        }
      ]
    },
    {
      "cell_type": "code",
      "metadata": {
        "id": "nik4t7jv1VCa",
        "colab_type": "code",
        "colab": {
          "base_uri": "https://localhost:8080/",
          "height": 747
        },
        "outputId": "61298e0b-f3f7-49c1-96b8-58a0be7a36ed"
      },
      "source": [
        "df_combined.iloc[:,:].isna().mean()"
      ],
      "execution_count": 140,
      "outputs": [
        {
          "output_type": "execute_result",
          "data": {
            "text/plain": [
              "batsman            0.000050\n",
              "batsman_runs       0.000050\n",
              "batting_team       0.000000\n",
              "bowler             0.000050\n",
              "byes               0.997318\n",
              "extras_runs        0.003632\n",
              "fielders           0.964582\n",
              "kind               0.950673\n",
              "legbyes            0.983610\n",
              "inning             0.000000\n",
              "delivery           0.000000\n",
              "match_id           0.000000\n",
              "noballs            0.996021\n",
              "non_striker        0.000050\n",
              "player_out         0.950673\n",
              "total              0.000050\n",
              "wides              0.969796\n",
              "non_boundary       0.999922\n",
              "penalty            0.999989\n",
              "extras             0.996418\n",
              "city               0.017536\n",
              "competition        0.000000\n",
              "decision           0.000000\n",
              "eliminator         0.987494\n",
              "gender             0.000000\n",
              "match_type         0.000000\n",
              "method             0.982073\n",
              "neutral_venue      0.897485\n",
              "#_of_overs         0.000000\n",
              "player_of_match    0.002079\n",
              "result             0.985415\n",
              "teams              0.000000\n",
              "umpires            0.001386\n",
              "venue              0.000000\n",
              "winner             0.000000\n",
              "winner_toss        0.014585\n",
              "outcome_by_runs    0.543909\n",
              "outcome_by_runs    0.470676\n",
              "match_date         0.000000\n",
              "season             0.000000\n",
              "over               0.000000\n",
              "dtype: float64"
            ]
          },
          "metadata": {
            "tags": []
          },
          "execution_count": 140
        }
      ]
    },
    {
      "cell_type": "code",
      "metadata": {
        "id": "jwCbszbCeN0P",
        "colab_type": "code",
        "colab": {
          "base_uri": "https://localhost:8080/",
          "height": 69
        },
        "outputId": "851c79da-359c-404e-b612-bffe15e01c8b"
      },
      "source": [
        "df_combined.result.value_counts()"
      ],
      "execution_count": 142,
      "outputs": [
        {
          "output_type": "execute_result",
          "data": {
            "text/plain": [
              "tie          2238\n",
              "no result     372\n",
              "Name: result, dtype: int64"
            ]
          },
          "metadata": {
            "tags": []
          },
          "execution_count": 142
        }
      ]
    },
    {
      "cell_type": "code",
      "metadata": {
        "id": "fecWQDiWqK4q",
        "colab_type": "code",
        "colab": {
          "base_uri": "https://localhost:8080/",
          "height": 69
        },
        "outputId": "0942716a-8826-4a75-86d3-b285cd4c1ea7"
      },
      "source": [
        "df_ipl_summary.result.value_counts()"
      ],
      "execution_count": 144,
      "outputs": [
        {
          "output_type": "execute_result",
          "data": {
            "text/plain": [
              "tie          9\n",
              "no result    4\n",
              "Name: result, dtype: int64"
            ]
          },
          "metadata": {
            "tags": []
          },
          "execution_count": 144
        }
      ]
    },
    {
      "cell_type": "code",
      "metadata": {
        "id": "PE0in2F6qXsf",
        "colab_type": "code",
        "colab": {
          "base_uri": "https://localhost:8080/",
          "height": 452
        },
        "outputId": "94f37fc7-9c97-424d-ade7-d7104a47d726"
      },
      "source": [
        "df_details.info()"
      ],
      "execution_count": 145,
      "outputs": [
        {
          "output_type": "stream",
          "text": [
            "<class 'pandas.core.frame.DataFrame'>\n",
            "Index: 178949 entries, 0 to 222\n",
            "Data columns (total 20 columns):\n",
            "batsman         178940 non-null object\n",
            "batsman_runs    178940 non-null float64\n",
            "batting_team    178949 non-null object\n",
            "bowler          178940 non-null object\n",
            "byes            480 non-null float64\n",
            "extras_runs     178299 non-null float64\n",
            "fielders        6338 non-null object\n",
            "kind            8827 non-null object\n",
            "legbyes         2933 non-null float64\n",
            "inning          178949 non-null object\n",
            "delivery        178949 non-null object\n",
            "match_id        178949 non-null object\n",
            "noballs         712 non-null float64\n",
            "non_striker     178940 non-null object\n",
            "player_out      8827 non-null object\n",
            "total           178940 non-null float64\n",
            "wides           5405 non-null float64\n",
            "non_boundary    14 non-null float64\n",
            "penalty         2 non-null float64\n",
            "extras          641 non-null float64\n",
            "dtypes: float64(10), object(10)\n",
            "memory usage: 28.7+ MB\n"
          ],
          "name": "stdout"
        }
      ]
    },
    {
      "cell_type": "code",
      "metadata": {
        "id": "h6aP4Oqczm5x",
        "colab_type": "code",
        "colab": {
          "base_uri": "https://localhost:8080/",
          "height": 34
        },
        "outputId": "11c66486-3804-43ce-ffd6-3caf2d5f2692"
      },
      "source": [
        "df_details.non_boundary.notna().sum()"
      ],
      "execution_count": 165,
      "outputs": [
        {
          "output_type": "execute_result",
          "data": {
            "text/plain": [
              "14"
            ]
          },
          "metadata": {
            "tags": []
          },
          "execution_count": 165
        }
      ]
    },
    {
      "cell_type": "code",
      "metadata": {
        "id": "iV1E5qkMzveZ",
        "colab_type": "code",
        "colab": {
          "base_uri": "https://localhost:8080/",
          "height": 773
        },
        "outputId": "db9b2e9c-0b91-40b5-9ae5-f60d3781a8ab"
      },
      "source": [
        "df_details[df_details.non_boundary.notna()]"
      ],
      "execution_count": 166,
      "outputs": [
        {
          "output_type": "execute_result",
          "data": {
            "text/html": [
              "<div>\n",
              "<style scoped>\n",
              "    .dataframe tbody tr th:only-of-type {\n",
              "        vertical-align: middle;\n",
              "    }\n",
              "\n",
              "    .dataframe tbody tr th {\n",
              "        vertical-align: top;\n",
              "    }\n",
              "\n",
              "    .dataframe thead th {\n",
              "        text-align: right;\n",
              "    }\n",
              "</style>\n",
              "<table border=\"1\" class=\"dataframe\">\n",
              "  <thead>\n",
              "    <tr style=\"text-align: right;\">\n",
              "      <th></th>\n",
              "      <th>batsman</th>\n",
              "      <th>batsman_runs</th>\n",
              "      <th>batting_team</th>\n",
              "      <th>bowler</th>\n",
              "      <th>byes</th>\n",
              "      <th>extras_runs</th>\n",
              "      <th>fielders</th>\n",
              "      <th>kind</th>\n",
              "      <th>legbyes</th>\n",
              "      <th>inning</th>\n",
              "      <th>delivery</th>\n",
              "      <th>match_id</th>\n",
              "      <th>noballs</th>\n",
              "      <th>non_striker</th>\n",
              "      <th>player_out</th>\n",
              "      <th>total</th>\n",
              "      <th>wides</th>\n",
              "      <th>non_boundary</th>\n",
              "      <th>penalty</th>\n",
              "      <th>extras</th>\n",
              "    </tr>\n",
              "  </thead>\n",
              "  <tbody>\n",
              "    <tr>\n",
              "      <th>15</th>\n",
              "      <td>PC Valthaty</td>\n",
              "      <td>4.0</td>\n",
              "      <td>Kings XI Punjab</td>\n",
              "      <td>IK Pathan</td>\n",
              "      <td>NaN</td>\n",
              "      <td>0.0</td>\n",
              "      <td>NaN</td>\n",
              "      <td>NaN</td>\n",
              "      <td>NaN</td>\n",
              "      <td>inning_1</td>\n",
              "      <td>2.3</td>\n",
              "      <td>501257</td>\n",
              "      <td>NaN</td>\n",
              "      <td>AC Gilchrist</td>\n",
              "      <td>NaN</td>\n",
              "      <td>4.0</td>\n",
              "      <td>NaN</td>\n",
              "      <td>1.0</td>\n",
              "      <td>NaN</td>\n",
              "      <td>NaN</td>\n",
              "    </tr>\n",
              "    <tr>\n",
              "      <th>195</th>\n",
              "      <td>JEC Franklin</td>\n",
              "      <td>6.0</td>\n",
              "      <td>Mumbai Indians</td>\n",
              "      <td>B Kumar</td>\n",
              "      <td>NaN</td>\n",
              "      <td>0.0</td>\n",
              "      <td>NaN</td>\n",
              "      <td>NaN</td>\n",
              "      <td>NaN</td>\n",
              "      <td>inning_2</td>\n",
              "      <td>11.3</td>\n",
              "      <td>548308</td>\n",
              "      <td>NaN</td>\n",
              "      <td>SA Yadav</td>\n",
              "      <td>NaN</td>\n",
              "      <td>6.0</td>\n",
              "      <td>NaN</td>\n",
              "      <td>1.0</td>\n",
              "      <td>NaN</td>\n",
              "      <td>NaN</td>\n",
              "    </tr>\n",
              "    <tr>\n",
              "      <th>122</th>\n",
              "      <td>MM Sharma</td>\n",
              "      <td>4.0</td>\n",
              "      <td>Kings XI Punjab</td>\n",
              "      <td>TA Boult</td>\n",
              "      <td>NaN</td>\n",
              "      <td>0.0</td>\n",
              "      <td>NaN</td>\n",
              "      <td>NaN</td>\n",
              "      <td>NaN</td>\n",
              "      <td>inning_1</td>\n",
              "      <td>18.6</td>\n",
              "      <td>1082601</td>\n",
              "      <td>NaN</td>\n",
              "      <td>VR Aaron</td>\n",
              "      <td>NaN</td>\n",
              "      <td>4.0</td>\n",
              "      <td>NaN</td>\n",
              "      <td>1.0</td>\n",
              "      <td>NaN</td>\n",
              "      <td>NaN</td>\n",
              "    </tr>\n",
              "    <tr>\n",
              "      <th>18</th>\n",
              "      <td>V Kohli</td>\n",
              "      <td>4.0</td>\n",
              "      <td>Royal Challengers Bangalore</td>\n",
              "      <td>DS Kulkarni</td>\n",
              "      <td>NaN</td>\n",
              "      <td>0.0</td>\n",
              "      <td>NaN</td>\n",
              "      <td>NaN</td>\n",
              "      <td>NaN</td>\n",
              "      <td>inning_1</td>\n",
              "      <td>3.1</td>\n",
              "      <td>980987</td>\n",
              "      <td>NaN</td>\n",
              "      <td>CH Gayle</td>\n",
              "      <td>NaN</td>\n",
              "      <td>4.0</td>\n",
              "      <td>NaN</td>\n",
              "      <td>1.0</td>\n",
              "      <td>NaN</td>\n",
              "      <td>NaN</td>\n",
              "    </tr>\n",
              "    <tr>\n",
              "      <th>135</th>\n",
              "      <td>SM Katich</td>\n",
              "      <td>4.0</td>\n",
              "      <td>Kings XI Punjab</td>\n",
              "      <td>PJ Sangwan</td>\n",
              "      <td>NaN</td>\n",
              "      <td>0.0</td>\n",
              "      <td>NaN</td>\n",
              "      <td>NaN</td>\n",
              "      <td>NaN</td>\n",
              "      <td>inning_2</td>\n",
              "      <td>1.3</td>\n",
              "      <td>392226</td>\n",
              "      <td>NaN</td>\n",
              "      <td>S Sohal</td>\n",
              "      <td>NaN</td>\n",
              "      <td>4.0</td>\n",
              "      <td>NaN</td>\n",
              "      <td>1.0</td>\n",
              "      <td>NaN</td>\n",
              "      <td>NaN</td>\n",
              "    </tr>\n",
              "    <tr>\n",
              "      <th>25</th>\n",
              "      <td>SR Tendulkar</td>\n",
              "      <td>4.0</td>\n",
              "      <td>Mumbai Indians</td>\n",
              "      <td>IK Pathan</td>\n",
              "      <td>NaN</td>\n",
              "      <td>0.0</td>\n",
              "      <td>NaN</td>\n",
              "      <td>NaN</td>\n",
              "      <td>NaN</td>\n",
              "      <td>inning_1</td>\n",
              "      <td>4.2</td>\n",
              "      <td>598024</td>\n",
              "      <td>NaN</td>\n",
              "      <td>KD Karthik</td>\n",
              "      <td>NaN</td>\n",
              "      <td>4.0</td>\n",
              "      <td>NaN</td>\n",
              "      <td>1.0</td>\n",
              "      <td>NaN</td>\n",
              "      <td>NaN</td>\n",
              "    </tr>\n",
              "    <tr>\n",
              "      <th>156</th>\n",
              "      <td>CH Gayle</td>\n",
              "      <td>4.0</td>\n",
              "      <td>Royal Challengers Bangalore</td>\n",
              "      <td>J Botha</td>\n",
              "      <td>NaN</td>\n",
              "      <td>0.0</td>\n",
              "      <td>NaN</td>\n",
              "      <td>NaN</td>\n",
              "      <td>NaN</td>\n",
              "      <td>inning_2</td>\n",
              "      <td>5.1</td>\n",
              "      <td>501252</td>\n",
              "      <td>NaN</td>\n",
              "      <td>TM Dilshan</td>\n",
              "      <td>NaN</td>\n",
              "      <td>4.0</td>\n",
              "      <td>NaN</td>\n",
              "      <td>1.0</td>\n",
              "      <td>NaN</td>\n",
              "      <td>NaN</td>\n",
              "    </tr>\n",
              "    <tr>\n",
              "      <th>205</th>\n",
              "      <td>GJ Maxwell</td>\n",
              "      <td>4.0</td>\n",
              "      <td>Kings XI Punjab</td>\n",
              "      <td>RD Chahar</td>\n",
              "      <td>NaN</td>\n",
              "      <td>0.0</td>\n",
              "      <td>NaN</td>\n",
              "      <td>NaN</td>\n",
              "      <td>NaN</td>\n",
              "      <td>inning_2</td>\n",
              "      <td>12.4</td>\n",
              "      <td>1082594</td>\n",
              "      <td>NaN</td>\n",
              "      <td>DA Miller</td>\n",
              "      <td>NaN</td>\n",
              "      <td>4.0</td>\n",
              "      <td>NaN</td>\n",
              "      <td>1.0</td>\n",
              "      <td>NaN</td>\n",
              "      <td>NaN</td>\n",
              "    </tr>\n",
              "    <tr>\n",
              "      <th>186</th>\n",
              "      <td>YK Pathan</td>\n",
              "      <td>6.0</td>\n",
              "      <td>Kolkata Knight Riders</td>\n",
              "      <td>Yuvraj Singh</td>\n",
              "      <td>NaN</td>\n",
              "      <td>0.0</td>\n",
              "      <td>NaN</td>\n",
              "      <td>NaN</td>\n",
              "      <td>NaN</td>\n",
              "      <td>inning_2</td>\n",
              "      <td>10.3</td>\n",
              "      <td>598061</td>\n",
              "      <td>NaN</td>\n",
              "      <td>RN ten Doeschate</td>\n",
              "      <td>NaN</td>\n",
              "      <td>6.0</td>\n",
              "      <td>NaN</td>\n",
              "      <td>1.0</td>\n",
              "      <td>NaN</td>\n",
              "      <td>NaN</td>\n",
              "    </tr>\n",
              "    <tr>\n",
              "      <th>20</th>\n",
              "      <td>SR Watson</td>\n",
              "      <td>4.0</td>\n",
              "      <td>Rajasthan Royals</td>\n",
              "      <td>B Geeves</td>\n",
              "      <td>NaN</td>\n",
              "      <td>0.0</td>\n",
              "      <td>NaN</td>\n",
              "      <td>NaN</td>\n",
              "      <td>NaN</td>\n",
              "      <td>inning_1</td>\n",
              "      <td>3.2</td>\n",
              "      <td>335984</td>\n",
              "      <td>NaN</td>\n",
              "      <td>YK Pathan</td>\n",
              "      <td>NaN</td>\n",
              "      <td>4.0</td>\n",
              "      <td>NaN</td>\n",
              "      <td>1.0</td>\n",
              "      <td>NaN</td>\n",
              "      <td>NaN</td>\n",
              "    </tr>\n",
              "    <tr>\n",
              "      <th>151</th>\n",
              "      <td>R Dravid</td>\n",
              "      <td>4.0</td>\n",
              "      <td>Rajasthan Royals</td>\n",
              "      <td>R Vinay Kumar</td>\n",
              "      <td>NaN</td>\n",
              "      <td>0.0</td>\n",
              "      <td>NaN</td>\n",
              "      <td>NaN</td>\n",
              "      <td>NaN</td>\n",
              "      <td>inning_2</td>\n",
              "      <td>4.4</td>\n",
              "      <td>501225</td>\n",
              "      <td>NaN</td>\n",
              "      <td>SR Watson</td>\n",
              "      <td>NaN</td>\n",
              "      <td>4.0</td>\n",
              "      <td>NaN</td>\n",
              "      <td>1.0</td>\n",
              "      <td>NaN</td>\n",
              "      <td>NaN</td>\n",
              "    </tr>\n",
              "    <tr>\n",
              "      <th>123</th>\n",
              "      <td>LR Shukla</td>\n",
              "      <td>6.0</td>\n",
              "      <td>Kolkata Knight Riders</td>\n",
              "      <td>RP Singh</td>\n",
              "      <td>NaN</td>\n",
              "      <td>0.0</td>\n",
              "      <td>NaN</td>\n",
              "      <td>NaN</td>\n",
              "      <td>NaN</td>\n",
              "      <td>inning_1</td>\n",
              "      <td>19.6</td>\n",
              "      <td>336014</td>\n",
              "      <td>NaN</td>\n",
              "      <td>DJ Hussey</td>\n",
              "      <td>NaN</td>\n",
              "      <td>6.0</td>\n",
              "      <td>NaN</td>\n",
              "      <td>1.0</td>\n",
              "      <td>NaN</td>\n",
              "      <td>NaN</td>\n",
              "    </tr>\n",
              "    <tr>\n",
              "      <th>190</th>\n",
              "      <td>RG Sharma</td>\n",
              "      <td>6.0</td>\n",
              "      <td>Mumbai Indians</td>\n",
              "      <td>Kuldeep Yadav</td>\n",
              "      <td>NaN</td>\n",
              "      <td>0.0</td>\n",
              "      <td>NaN</td>\n",
              "      <td>NaN</td>\n",
              "      <td>NaN</td>\n",
              "      <td>inning_2</td>\n",
              "      <td>9.7</td>\n",
              "      <td>980909</td>\n",
              "      <td>NaN</td>\n",
              "      <td>HH Pandya</td>\n",
              "      <td>NaN</td>\n",
              "      <td>6.0</td>\n",
              "      <td>NaN</td>\n",
              "      <td>1.0</td>\n",
              "      <td>NaN</td>\n",
              "      <td>NaN</td>\n",
              "    </tr>\n",
              "    <tr>\n",
              "      <th>167</th>\n",
              "      <td>V Kohli</td>\n",
              "      <td>6.0</td>\n",
              "      <td>Royal Challengers Bangalore</td>\n",
              "      <td>A Mishra</td>\n",
              "      <td>NaN</td>\n",
              "      <td>0.0</td>\n",
              "      <td>NaN</td>\n",
              "      <td>NaN</td>\n",
              "      <td>NaN</td>\n",
              "      <td>inning_2</td>\n",
              "      <td>7.1</td>\n",
              "      <td>548376</td>\n",
              "      <td>NaN</td>\n",
              "      <td>AB de Villiers</td>\n",
              "      <td>NaN</td>\n",
              "      <td>6.0</td>\n",
              "      <td>NaN</td>\n",
              "      <td>1.0</td>\n",
              "      <td>NaN</td>\n",
              "      <td>NaN</td>\n",
              "    </tr>\n",
              "  </tbody>\n",
              "</table>\n",
              "</div>"
            ],
            "text/plain": [
              "          batsman  batsman_runs  ... penalty extras\n",
              "15    PC Valthaty           4.0  ...     NaN    NaN\n",
              "195  JEC Franklin           6.0  ...     NaN    NaN\n",
              "122     MM Sharma           4.0  ...     NaN    NaN\n",
              "18        V Kohli           4.0  ...     NaN    NaN\n",
              "135     SM Katich           4.0  ...     NaN    NaN\n",
              "25   SR Tendulkar           4.0  ...     NaN    NaN\n",
              "156      CH Gayle           4.0  ...     NaN    NaN\n",
              "205    GJ Maxwell           4.0  ...     NaN    NaN\n",
              "186     YK Pathan           6.0  ...     NaN    NaN\n",
              "20      SR Watson           4.0  ...     NaN    NaN\n",
              "151      R Dravid           4.0  ...     NaN    NaN\n",
              "123     LR Shukla           6.0  ...     NaN    NaN\n",
              "190     RG Sharma           6.0  ...     NaN    NaN\n",
              "167       V Kohli           6.0  ...     NaN    NaN\n",
              "\n",
              "[14 rows x 20 columns]"
            ]
          },
          "metadata": {
            "tags": []
          },
          "execution_count": 166
        }
      ]
    },
    {
      "cell_type": "code",
      "metadata": {
        "id": "aLdFqBm40C7v",
        "colab_type": "code",
        "colab": {}
      },
      "source": [
        ""
      ],
      "execution_count": 0,
      "outputs": []
    }
  ]
}