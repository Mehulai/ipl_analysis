{
  "nbformat": 4,
  "nbformat_minor": 0,
  "metadata": {
    "colab": {
      "name": "ipl_analysis_v2.ipynb",
      "version": "0.3.2",
      "provenance": [],
      "collapsed_sections": [],
      "include_colab_link": true
    },
    "kernelspec": {
      "name": "python3",
      "display_name": "Python 3"
    },
    "accelerator": "GPU"
  },
  "cells": [
    {
      "cell_type": "markdown",
      "metadata": {
        "id": "view-in-github",
        "colab_type": "text"
      },
      "source": [
        "<a href=\"https://colab.research.google.com/github/ravi-gopalan/ipl_analysis/blob/branch_1/ipl_analysis_v2.ipynb\" target=\"_parent\"><img src=\"https://colab.research.google.com/assets/colab-badge.svg\" alt=\"Open In Colab\"/></a>"
      ]
    },
    {
      "cell_type": "code",
      "metadata": {
        "id": "RrkZVr6GydyX",
        "colab_type": "code",
        "outputId": "9a8b6c29-a76d-4b96-9f54-c6b076bb2662",
        "colab": {
          "base_uri": "https://localhost:8080/",
          "height": 104
        }
      },
      "source": [
        "!ls -la"
      ],
      "execution_count": 1,
      "outputs": [
        {
          "output_type": "stream",
          "text": [
            "total 16\n",
            "drwxr-xr-x 1 root root 4096 May 31 16:17 .\n",
            "drwxr-xr-x 1 root root 4096 Jun  9 00:44 ..\n",
            "drwxr-xr-x 1 root root 4096 Jun  6 16:18 .config\n",
            "drwxr-xr-x 1 root root 4096 May 31 16:17 sample_data\n"
          ],
          "name": "stdout"
        }
      ]
    },
    {
      "cell_type": "code",
      "metadata": {
        "id": "0DGs-VctylRX",
        "colab_type": "code",
        "outputId": "939847bc-0bb5-4167-c293-f72cdd8a35f8",
        "colab": {
          "base_uri": "https://localhost:8080/",
          "height": 124
        }
      },
      "source": [
        "from google.colab import drive\n",
        "drive.mount('/content/gdrive')"
      ],
      "execution_count": 2,
      "outputs": [
        {
          "output_type": "stream",
          "text": [
            "Go to this URL in a browser: https://accounts.google.com/o/oauth2/auth?client_id=947318989803-6bn6qk8qdgf4n4g3pfee6491hc0brc4i.apps.googleusercontent.com&redirect_uri=urn%3Aietf%3Awg%3Aoauth%3A2.0%3Aoob&scope=email%20https%3A%2F%2Fwww.googleapis.com%2Fauth%2Fdocs.test%20https%3A%2F%2Fwww.googleapis.com%2Fauth%2Fdrive%20https%3A%2F%2Fwww.googleapis.com%2Fauth%2Fdrive.photos.readonly%20https%3A%2F%2Fwww.googleapis.com%2Fauth%2Fpeopleapi.readonly&response_type=code\n",
            "\n",
            "Enter your authorization code:\n",
            "··········\n",
            "Mounted at /content/gdrive\n"
          ],
          "name": "stdout"
        }
      ]
    },
    {
      "cell_type": "code",
      "metadata": {
        "id": "AqxY27RGzNp8",
        "colab_type": "code",
        "outputId": "92979b27-b67d-432e-cdaa-efe0b5db51eb",
        "colab": {
          "base_uri": "https://localhost:8080/",
          "height": 34
        }
      },
      "source": [
        "cd /content"
      ],
      "execution_count": 3,
      "outputs": [
        {
          "output_type": "stream",
          "text": [
            "/content\n"
          ],
          "name": "stdout"
        }
      ]
    },
    {
      "cell_type": "code",
      "metadata": {
        "id": "JXm7VGDXzRSO",
        "colab_type": "code",
        "colab": {}
      },
      "source": [
        "!mkdir ipl"
      ],
      "execution_count": 0,
      "outputs": []
    },
    {
      "cell_type": "code",
      "metadata": {
        "id": "pBhsAYl8zWG3",
        "colab_type": "code",
        "outputId": "8e55a14f-2ad2-4069-d0ca-597959b4da75",
        "colab": {
          "base_uri": "https://localhost:8080/",
          "height": 34
        }
      },
      "source": [
        "cd /content/ipl"
      ],
      "execution_count": 5,
      "outputs": [
        {
          "output_type": "stream",
          "text": [
            "/content/ipl\n"
          ],
          "name": "stdout"
        }
      ]
    },
    {
      "cell_type": "code",
      "metadata": {
        "id": "TSoGmc0cmDUX",
        "colab_type": "code",
        "colab": {
          "base_uri": "https://localhost:8080/",
          "height": 34
        },
        "outputId": "df24a417-a71b-4a12-c5f9-3cc9b056238f"
      },
      "source": [
        "cd /root"
      ],
      "execution_count": 6,
      "outputs": [
        {
          "output_type": "stream",
          "text": [
            "/root\n"
          ],
          "name": "stdout"
        }
      ]
    },
    {
      "cell_type": "code",
      "metadata": {
        "id": "uMdNkWFEmHE-",
        "colab_type": "code",
        "colab": {}
      },
      "source": [
        "!mkdir .kaggle"
      ],
      "execution_count": 0,
      "outputs": []
    },
    {
      "cell_type": "code",
      "metadata": {
        "id": "CRAshjcJmMuN",
        "colab_type": "code",
        "colab": {}
      },
      "source": [
        "!cp '/content/gdrive/My Drive/Colab_stuff/kaggle.json' /root/.kaggle/kaggle.json\n",
        "!chmod 600 /root/.kaggle/kaggle.json"
      ],
      "execution_count": 0,
      "outputs": []
    },
    {
      "cell_type": "code",
      "metadata": {
        "id": "VmGVUrUBouC0",
        "colab_type": "code",
        "colab": {
          "base_uri": "https://localhost:8080/",
          "height": 34
        },
        "outputId": "865cf2bb-b381-418e-f8a2-6d7214808d6c"
      },
      "source": [
        "cd /content/ipl"
      ],
      "execution_count": 9,
      "outputs": [
        {
          "output_type": "stream",
          "text": [
            "/content/ipl\n"
          ],
          "name": "stdout"
        }
      ]
    },
    {
      "cell_type": "code",
      "metadata": {
        "id": "ImG8LhjRo1re",
        "colab_type": "code",
        "colab": {
          "base_uri": "https://localhost:8080/",
          "height": 69
        },
        "outputId": "a606e916-a648-4c37-8374-533a91f751b1"
      },
      "source": [
        "!kaggle datasets download -d ravijee/ipl-2008-to-2019 -p /content/ipl"
      ],
      "execution_count": 10,
      "outputs": [
        {
          "output_type": "stream",
          "text": [
            "Downloading ipl-2008-to-2019.zip to /content/ipl\n",
            "\r  0% 0.00/4.14M [00:00<?, ?B/s]\n",
            "\r100% 4.14M/4.14M [00:00<00:00, 68.7MB/s]\n"
          ],
          "name": "stdout"
        }
      ]
    },
    {
      "cell_type": "code",
      "metadata": {
        "id": "WT09_zpqs6n2",
        "colab_type": "code",
        "colab": {
          "base_uri": "https://localhost:8080/",
          "height": 86
        },
        "outputId": "db9a178c-0033-43f0-ced3-40803c6e2fbb"
      },
      "source": [
        "!ls -la"
      ],
      "execution_count": 11,
      "outputs": [
        {
          "output_type": "stream",
          "text": [
            "total 4252\n",
            "drwxr-xr-x 2 root root    4096 Jun  9 00:46 .\n",
            "drwxr-xr-x 1 root root    4096 Jun  9 00:45 ..\n",
            "-rw-r--r-- 1 root root 4345524 Jun  9 00:46 ipl-2008-to-2019.zip\n"
          ],
          "name": "stdout"
        }
      ]
    },
    {
      "cell_type": "code",
      "metadata": {
        "id": "HnrTkHpeL6iM",
        "colab_type": "code",
        "outputId": "5d0bdcca-5a61-441c-b805-a9991dcf7920",
        "colab": {
          "base_uri": "https://localhost:8080/",
          "height": 34
        }
      },
      "source": [
        "pwd"
      ],
      "execution_count": 16,
      "outputs": [
        {
          "output_type": "execute_result",
          "data": {
            "text/plain": [
              "'/content/ipl'"
            ]
          },
          "metadata": {
            "tags": []
          },
          "execution_count": 16
        }
      ]
    },
    {
      "cell_type": "code",
      "metadata": {
        "id": "GbfiXimFL8WX",
        "colab_type": "code",
        "colab": {}
      },
      "source": [
        "!unzip -q /content/ipl/ipl-2008-to-2019.zip"
      ],
      "execution_count": 0,
      "outputs": []
    },
    {
      "cell_type": "code",
      "metadata": {
        "id": "COctAgA-tAy5",
        "colab_type": "code",
        "colab": {
          "base_uri": "https://localhost:8080/",
          "height": 138
        },
        "outputId": "d692131b-cebb-4220-9700-81bcef00c954"
      },
      "source": [
        "!ls -la"
      ],
      "execution_count": 13,
      "outputs": [
        {
          "output_type": "stream",
          "text": [
            "total 66180\n",
            "drwxr-xr-x 2 root root     4096 Jun  9 00:47 .\n",
            "drwxr-xr-x 1 root root     4096 Jun  9 00:45 ..\n",
            "---------- 1 root root 61169075 Jun  9 00:37 ball_by_ball_details.csv\n",
            "-rw-r--r-- 1 root root  4345524 Jun  9 00:46 ipl-2008-to-2019.zip\n",
            "---------- 1 root root   176133 Jun  9 00:37 ipl_summary.csv\n",
            "---------- 1 root root  2060580 Jun  9 00:37 ipl.zip\n"
          ],
          "name": "stdout"
        }
      ]
    },
    {
      "cell_type": "code",
      "metadata": {
        "id": "Dd-Sjf3hzwLs",
        "colab_type": "code",
        "colab": {}
      },
      "source": [
        "import pandas as pd\n",
        "import numpy as np\n",
        "import matplotlib.pyplot as plt\n",
        "import seaborn as sns\n",
        "from pathlib import Path\n",
        "\n",
        "import datetime as dt"
      ],
      "execution_count": 0,
      "outputs": []
    },
    {
      "cell_type": "code",
      "metadata": {
        "id": "QV2NGhe7MZw4",
        "colab_type": "code",
        "colab": {}
      },
      "source": [
        "base_dir = Path('/content/ipl')"
      ],
      "execution_count": 0,
      "outputs": []
    },
    {
      "cell_type": "code",
      "metadata": {
        "id": "dw09szHLH77k",
        "colab_type": "code",
        "colab": {}
      },
      "source": [
        "df_match_summary = pd.read_csv('ipl_summary.csv')"
      ],
      "execution_count": 0,
      "outputs": []
    },
    {
      "cell_type": "code",
      "metadata": {
        "id": "jx6VuPeCt4-c",
        "colab_type": "code",
        "colab": {
          "base_uri": "https://localhost:8080/",
          "height": 469
        },
        "outputId": "379aa3df-6db3-49ce-a8a3-65493073527b"
      },
      "source": [
        "df_match_summary.info()"
      ],
      "execution_count": 120,
      "outputs": [
        {
          "output_type": "stream",
          "text": [
            "<class 'pandas.core.frame.DataFrame'>\n",
            "RangeIndex: 756 entries, 0 to 755\n",
            "Data columns (total 21 columns):\n",
            "match_id           756 non-null int64\n",
            "by                 743 non-null object\n",
            "city               743 non-null object\n",
            "competition        756 non-null object\n",
            "dates              756 non-null object\n",
            "decision           756 non-null object\n",
            "eliminator         9 non-null object\n",
            "gender             756 non-null object\n",
            "match_type         756 non-null object\n",
            "method             19 non-null object\n",
            "neutral_venue      77 non-null float64\n",
            "overs              756 non-null int64\n",
            "player_of_match    752 non-null object\n",
            "result             13 non-null object\n",
            "teams              756 non-null object\n",
            "umpires            755 non-null object\n",
            "venue              756 non-null object\n",
            "winner             756 non-null object\n",
            "winner_toss        743 non-null object\n",
            "runs               337 non-null float64\n",
            "wickets            406 non-null float64\n",
            "dtypes: float64(3), int64(2), object(16)\n",
            "memory usage: 124.1+ KB\n"
          ],
          "name": "stdout"
        }
      ]
    },
    {
      "cell_type": "code",
      "metadata": {
        "id": "o7ISNE0X6JiD",
        "colab_type": "code",
        "colab": {}
      },
      "source": [
        "df_match_summary = df_match_summary.set_index('match_id')"
      ],
      "execution_count": 0,
      "outputs": []
    },
    {
      "cell_type": "code",
      "metadata": {
        "id": "PXbZKpGz1-1o",
        "colab_type": "code",
        "colab": {
          "base_uri": "https://localhost:8080/",
          "height": 566
        },
        "outputId": "c5ad9b18-9c9e-48f0-a0e3-0d32626d627c"
      },
      "source": [
        "df_match_summary.head()"
      ],
      "execution_count": 122,
      "outputs": [
        {
          "output_type": "execute_result",
          "data": {
            "text/html": [
              "<div>\n",
              "<style scoped>\n",
              "    .dataframe tbody tr th:only-of-type {\n",
              "        vertical-align: middle;\n",
              "    }\n",
              "\n",
              "    .dataframe tbody tr th {\n",
              "        vertical-align: top;\n",
              "    }\n",
              "\n",
              "    .dataframe thead th {\n",
              "        text-align: right;\n",
              "    }\n",
              "</style>\n",
              "<table border=\"1\" class=\"dataframe\">\n",
              "  <thead>\n",
              "    <tr style=\"text-align: right;\">\n",
              "      <th></th>\n",
              "      <th>by</th>\n",
              "      <th>city</th>\n",
              "      <th>competition</th>\n",
              "      <th>dates</th>\n",
              "      <th>decision</th>\n",
              "      <th>eliminator</th>\n",
              "      <th>gender</th>\n",
              "      <th>match_type</th>\n",
              "      <th>method</th>\n",
              "      <th>neutral_venue</th>\n",
              "      <th>overs</th>\n",
              "      <th>player_of_match</th>\n",
              "      <th>result</th>\n",
              "      <th>teams</th>\n",
              "      <th>umpires</th>\n",
              "      <th>venue</th>\n",
              "      <th>winner</th>\n",
              "      <th>winner_toss</th>\n",
              "      <th>runs</th>\n",
              "      <th>wickets</th>\n",
              "    </tr>\n",
              "    <tr>\n",
              "      <th>match_id</th>\n",
              "      <th></th>\n",
              "      <th></th>\n",
              "      <th></th>\n",
              "      <th></th>\n",
              "      <th></th>\n",
              "      <th></th>\n",
              "      <th></th>\n",
              "      <th></th>\n",
              "      <th></th>\n",
              "      <th></th>\n",
              "      <th></th>\n",
              "      <th></th>\n",
              "      <th></th>\n",
              "      <th></th>\n",
              "      <th></th>\n",
              "      <th></th>\n",
              "      <th></th>\n",
              "      <th></th>\n",
              "      <th></th>\n",
              "      <th></th>\n",
              "    </tr>\n",
              "  </thead>\n",
              "  <tbody>\n",
              "    <tr>\n",
              "      <th>548336</th>\n",
              "      <td>{'runs': 46}</td>\n",
              "      <td>Jaipur</td>\n",
              "      <td>IPL</td>\n",
              "      <td>['2012-04-23']</td>\n",
              "      <td>field</td>\n",
              "      <td>NaN</td>\n",
              "      <td>male</td>\n",
              "      <td>T20</td>\n",
              "      <td>NaN</td>\n",
              "      <td>NaN</td>\n",
              "      <td>20</td>\n",
              "      <td>['AB de Villiers']</td>\n",
              "      <td>NaN</td>\n",
              "      <td>['Rajasthan Royals', 'Royal Challengers Bangal...</td>\n",
              "      <td>['Asad Rauf', 'S Asnani']</td>\n",
              "      <td>Sawai Mansingh Stadium</td>\n",
              "      <td>Royal Challengers Bangalore</td>\n",
              "      <td>Rajasthan Royals</td>\n",
              "      <td>46.0</td>\n",
              "      <td>NaN</td>\n",
              "    </tr>\n",
              "    <tr>\n",
              "      <th>980901</th>\n",
              "      <td>{'wickets': 9}</td>\n",
              "      <td>Mumbai</td>\n",
              "      <td>IPL</td>\n",
              "      <td>['2016-04-09']</td>\n",
              "      <td>bat</td>\n",
              "      <td>NaN</td>\n",
              "      <td>male</td>\n",
              "      <td>T20</td>\n",
              "      <td>NaN</td>\n",
              "      <td>NaN</td>\n",
              "      <td>20</td>\n",
              "      <td>['AM Rahane']</td>\n",
              "      <td>NaN</td>\n",
              "      <td>['Mumbai Indians', 'Rising Pune Supergiants']</td>\n",
              "      <td>['HDPK Dharmasena', 'CK Nandan']</td>\n",
              "      <td>Wankhede Stadium</td>\n",
              "      <td>Rising Pune Supergiants</td>\n",
              "      <td>Mumbai Indians</td>\n",
              "      <td>NaN</td>\n",
              "      <td>9.0</td>\n",
              "    </tr>\n",
              "    <tr>\n",
              "      <th>335998</th>\n",
              "      <td>{'runs': 10}</td>\n",
              "      <td>Delhi</td>\n",
              "      <td>IPL</td>\n",
              "      <td>['2008-04-30']</td>\n",
              "      <td>field</td>\n",
              "      <td>NaN</td>\n",
              "      <td>male</td>\n",
              "      <td>T20</td>\n",
              "      <td>NaN</td>\n",
              "      <td>NaN</td>\n",
              "      <td>20</td>\n",
              "      <td>['GD McGrath']</td>\n",
              "      <td>NaN</td>\n",
              "      <td>['Delhi Daredevils', 'Royal Challengers Bangal...</td>\n",
              "      <td>['Aleem Dar', 'I Shivram']</td>\n",
              "      <td>Feroz Shah Kotla</td>\n",
              "      <td>Delhi Daredevils</td>\n",
              "      <td>Royal Challengers Bangalore</td>\n",
              "      <td>10.0</td>\n",
              "      <td>NaN</td>\n",
              "    </tr>\n",
              "    <tr>\n",
              "      <th>1178418</th>\n",
              "      <td>{'wickets': 3}</td>\n",
              "      <td>Kolkata</td>\n",
              "      <td>IPL</td>\n",
              "      <td>['2019-04-25']</td>\n",
              "      <td>field</td>\n",
              "      <td>NaN</td>\n",
              "      <td>male</td>\n",
              "      <td>T20</td>\n",
              "      <td>NaN</td>\n",
              "      <td>NaN</td>\n",
              "      <td>20</td>\n",
              "      <td>['VR Aaron']</td>\n",
              "      <td>NaN</td>\n",
              "      <td>['Kolkata Knight Riders', 'Rajasthan Royals']</td>\n",
              "      <td>['AY Dandekar', 'IJ Gould']</td>\n",
              "      <td>Eden Gardens</td>\n",
              "      <td>Rajasthan Royals</td>\n",
              "      <td>Rajasthan Royals</td>\n",
              "      <td>NaN</td>\n",
              "      <td>3.0</td>\n",
              "    </tr>\n",
              "    <tr>\n",
              "      <th>1175357</th>\n",
              "      <td>{'wickets': 6}</td>\n",
              "      <td>Kolkata</td>\n",
              "      <td>IPL</td>\n",
              "      <td>['2019-03-24']</td>\n",
              "      <td>field</td>\n",
              "      <td>NaN</td>\n",
              "      <td>male</td>\n",
              "      <td>T20</td>\n",
              "      <td>NaN</td>\n",
              "      <td>NaN</td>\n",
              "      <td>20</td>\n",
              "      <td>['AD Russell']</td>\n",
              "      <td>NaN</td>\n",
              "      <td>['Kolkata Knight Riders', 'Sunrisers Hyderabad']</td>\n",
              "      <td>['CB Gaffaney', 'AK Chaudhary']</td>\n",
              "      <td>Eden Gardens</td>\n",
              "      <td>Kolkata Knight Riders</td>\n",
              "      <td>Kolkata Knight Riders</td>\n",
              "      <td>NaN</td>\n",
              "      <td>6.0</td>\n",
              "    </tr>\n",
              "  </tbody>\n",
              "</table>\n",
              "</div>"
            ],
            "text/plain": [
              "                      by     city  ...  runs wickets\n",
              "match_id                           ...              \n",
              "548336      {'runs': 46}   Jaipur  ...  46.0     NaN\n",
              "980901    {'wickets': 9}   Mumbai  ...   NaN     9.0\n",
              "335998      {'runs': 10}    Delhi  ...  10.0     NaN\n",
              "1178418   {'wickets': 3}  Kolkata  ...   NaN     3.0\n",
              "1175357   {'wickets': 6}  Kolkata  ...   NaN     6.0\n",
              "\n",
              "[5 rows x 20 columns]"
            ]
          },
          "metadata": {
            "tags": []
          },
          "execution_count": 122
        }
      ]
    },
    {
      "cell_type": "code",
      "metadata": {
        "id": "Lhw0DqtnuUIj",
        "colab_type": "code",
        "colab": {}
      },
      "source": [
        "df_match_summary['match_date'] = pd.to_datetime(df_match_summary['dates'].str[2:12])"
      ],
      "execution_count": 0,
      "outputs": []
    },
    {
      "cell_type": "code",
      "metadata": {
        "id": "4RN8_8nzu5Xm",
        "colab_type": "code",
        "colab": {
          "base_uri": "https://localhost:8080/",
          "height": 469
        },
        "outputId": "b0191b78-17e4-4e01-ae18-69aba8c010cb"
      },
      "source": [
        "df_match_summary.info()"
      ],
      "execution_count": 124,
      "outputs": [
        {
          "output_type": "stream",
          "text": [
            "<class 'pandas.core.frame.DataFrame'>\n",
            "Int64Index: 756 entries, 548336 to 501226\n",
            "Data columns (total 21 columns):\n",
            "by                 743 non-null object\n",
            "city               743 non-null object\n",
            "competition        756 non-null object\n",
            "dates              756 non-null object\n",
            "decision           756 non-null object\n",
            "eliminator         9 non-null object\n",
            "gender             756 non-null object\n",
            "match_type         756 non-null object\n",
            "method             19 non-null object\n",
            "neutral_venue      77 non-null float64\n",
            "overs              756 non-null int64\n",
            "player_of_match    752 non-null object\n",
            "result             13 non-null object\n",
            "teams              756 non-null object\n",
            "umpires            755 non-null object\n",
            "venue              756 non-null object\n",
            "winner             756 non-null object\n",
            "winner_toss        743 non-null object\n",
            "runs               337 non-null float64\n",
            "wickets            406 non-null float64\n",
            "match_date         756 non-null datetime64[ns]\n",
            "dtypes: datetime64[ns](1), float64(3), int64(1), object(16)\n",
            "memory usage: 129.9+ KB\n"
          ],
          "name": "stdout"
        }
      ]
    },
    {
      "cell_type": "code",
      "metadata": {
        "id": "ATeMc12Nxos-",
        "colab_type": "code",
        "colab": {}
      },
      "source": [
        "df_match_summary['player_of_match'] = df_match_summary['player_of_match'].str[2:-2]\n",
        "df_match_summary.drop(['by','dates'], axis=1, inplace=True)\n",
        "df_match_summary.rename(columns={'decision':'toss_decision'}, inplace=True)"
      ],
      "execution_count": 0,
      "outputs": []
    },
    {
      "cell_type": "code",
      "metadata": {
        "id": "gYqp-g690Ebn",
        "colab_type": "code",
        "colab": {}
      },
      "source": [
        ""
      ],
      "execution_count": 0,
      "outputs": []
    },
    {
      "cell_type": "code",
      "metadata": {
        "id": "RlE9eHnS0q_8",
        "colab_type": "code",
        "colab": {}
      },
      "source": [
        ""
      ],
      "execution_count": 0,
      "outputs": []
    },
    {
      "cell_type": "code",
      "metadata": {
        "id": "gUIG5Lpi1Azf",
        "colab_type": "code",
        "colab": {
          "base_uri": "https://localhost:8080/",
          "height": 227
        },
        "outputId": "9d3dcbde-1419-4ac7-bf7c-d207582b47dd"
      },
      "source": [
        "df_teams = pd.DataFrame(df_match_summary.teams.str.split(',',n=2,expand=True))\n",
        "df_teams.rename(columns={0:'team_1',1:'team_2'},inplace=True)\n",
        "df_teams.team_1 = df_teams.team_1.str[2:-1] \n",
        "df_teams.team_2 = df_teams.team_2.str[2:-2] \n",
        "df_teams.head()"
      ],
      "execution_count": 126,
      "outputs": [
        {
          "output_type": "execute_result",
          "data": {
            "text/html": [
              "<div>\n",
              "<style scoped>\n",
              "    .dataframe tbody tr th:only-of-type {\n",
              "        vertical-align: middle;\n",
              "    }\n",
              "\n",
              "    .dataframe tbody tr th {\n",
              "        vertical-align: top;\n",
              "    }\n",
              "\n",
              "    .dataframe thead th {\n",
              "        text-align: right;\n",
              "    }\n",
              "</style>\n",
              "<table border=\"1\" class=\"dataframe\">\n",
              "  <thead>\n",
              "    <tr style=\"text-align: right;\">\n",
              "      <th></th>\n",
              "      <th>team_1</th>\n",
              "      <th>team_2</th>\n",
              "    </tr>\n",
              "    <tr>\n",
              "      <th>match_id</th>\n",
              "      <th></th>\n",
              "      <th></th>\n",
              "    </tr>\n",
              "  </thead>\n",
              "  <tbody>\n",
              "    <tr>\n",
              "      <th>548336</th>\n",
              "      <td>Rajasthan Royals</td>\n",
              "      <td>Royal Challengers Bangalore</td>\n",
              "    </tr>\n",
              "    <tr>\n",
              "      <th>980901</th>\n",
              "      <td>Mumbai Indians</td>\n",
              "      <td>Rising Pune Supergiants</td>\n",
              "    </tr>\n",
              "    <tr>\n",
              "      <th>335998</th>\n",
              "      <td>Delhi Daredevils</td>\n",
              "      <td>Royal Challengers Bangalore</td>\n",
              "    </tr>\n",
              "    <tr>\n",
              "      <th>1178418</th>\n",
              "      <td>Kolkata Knight Riders</td>\n",
              "      <td>Rajasthan Royals</td>\n",
              "    </tr>\n",
              "    <tr>\n",
              "      <th>1175357</th>\n",
              "      <td>Kolkata Knight Riders</td>\n",
              "      <td>Sunrisers Hyderabad</td>\n",
              "    </tr>\n",
              "  </tbody>\n",
              "</table>\n",
              "</div>"
            ],
            "text/plain": [
              "                         team_1                       team_2\n",
              "match_id                                                    \n",
              "548336         Rajasthan Royals  Royal Challengers Bangalore\n",
              "980901           Mumbai Indians      Rising Pune Supergiants\n",
              "335998         Delhi Daredevils  Royal Challengers Bangalore\n",
              "1178418   Kolkata Knight Riders             Rajasthan Royals\n",
              "1175357   Kolkata Knight Riders          Sunrisers Hyderabad"
            ]
          },
          "metadata": {
            "tags": []
          },
          "execution_count": 126
        }
      ]
    },
    {
      "cell_type": "code",
      "metadata": {
        "id": "nMud7xls4mGe",
        "colab_type": "code",
        "colab": {
          "base_uri": "https://localhost:8080/",
          "height": 227
        },
        "outputId": "b992cf8d-d8c0-49ea-b507-48b7a0eb7476"
      },
      "source": [
        "df_umpires = pd.DataFrame(df_match_summary.umpires.str.split(',',n=4,expand=True))\n",
        "df_umpires.rename(columns={0:'umpire_1',1:'umpire_2',2:'umpire_3',3:'umpire_4'},inplace=True)\n",
        "df_umpires.umpire_1 = df_umpires.umpire_1.str[2:-1] \n",
        "df_umpires.umpire_2 = df_umpires.umpire_2.str[2:-2]\n",
        "df_umpires.umpire_3 = df_umpires.umpire_3.str[2:-2]\n",
        "df_umpires.umpire_4 = df_umpires.umpire_4.str[2:-2]\n",
        "\n",
        "df_umpires.head()"
      ],
      "execution_count": 127,
      "outputs": [
        {
          "output_type": "execute_result",
          "data": {
            "text/html": [
              "<div>\n",
              "<style scoped>\n",
              "    .dataframe tbody tr th:only-of-type {\n",
              "        vertical-align: middle;\n",
              "    }\n",
              "\n",
              "    .dataframe tbody tr th {\n",
              "        vertical-align: top;\n",
              "    }\n",
              "\n",
              "    .dataframe thead th {\n",
              "        text-align: right;\n",
              "    }\n",
              "</style>\n",
              "<table border=\"1\" class=\"dataframe\">\n",
              "  <thead>\n",
              "    <tr style=\"text-align: right;\">\n",
              "      <th></th>\n",
              "      <th>umpire_1</th>\n",
              "      <th>umpire_2</th>\n",
              "      <th>umpire_3</th>\n",
              "      <th>umpire_4</th>\n",
              "    </tr>\n",
              "    <tr>\n",
              "      <th>match_id</th>\n",
              "      <th></th>\n",
              "      <th></th>\n",
              "      <th></th>\n",
              "      <th></th>\n",
              "    </tr>\n",
              "  </thead>\n",
              "  <tbody>\n",
              "    <tr>\n",
              "      <th>548336</th>\n",
              "      <td>Asad Rauf</td>\n",
              "      <td>S Asnani</td>\n",
              "      <td>None</td>\n",
              "      <td>None</td>\n",
              "    </tr>\n",
              "    <tr>\n",
              "      <th>980901</th>\n",
              "      <td>HDPK Dharmasena</td>\n",
              "      <td>CK Nandan</td>\n",
              "      <td>None</td>\n",
              "      <td>None</td>\n",
              "    </tr>\n",
              "    <tr>\n",
              "      <th>335998</th>\n",
              "      <td>Aleem Dar</td>\n",
              "      <td>I Shivram</td>\n",
              "      <td>None</td>\n",
              "      <td>None</td>\n",
              "    </tr>\n",
              "    <tr>\n",
              "      <th>1178418</th>\n",
              "      <td>AY Dandekar</td>\n",
              "      <td>IJ Gould</td>\n",
              "      <td>None</td>\n",
              "      <td>None</td>\n",
              "    </tr>\n",
              "    <tr>\n",
              "      <th>1175357</th>\n",
              "      <td>CB Gaffaney</td>\n",
              "      <td>AK Chaudhary</td>\n",
              "      <td>None</td>\n",
              "      <td>None</td>\n",
              "    </tr>\n",
              "  </tbody>\n",
              "</table>\n",
              "</div>"
            ],
            "text/plain": [
              "                 umpire_1      umpire_2 umpire_3 umpire_4\n",
              "match_id                                                 \n",
              "548336          Asad Rauf      S Asnani     None     None\n",
              "980901    HDPK Dharmasena     CK Nandan     None     None\n",
              "335998          Aleem Dar     I Shivram     None     None\n",
              "1178418       AY Dandekar      IJ Gould     None     None\n",
              "1175357       CB Gaffaney  AK Chaudhary     None     None"
            ]
          },
          "metadata": {
            "tags": []
          },
          "execution_count": 127
        }
      ]
    },
    {
      "cell_type": "code",
      "metadata": {
        "id": "KpGsKK6e44CG",
        "colab_type": "code",
        "colab": {
          "base_uri": "https://localhost:8080/",
          "height": 34
        },
        "outputId": "17677a9e-f969-46bb-fe0c-ec8ddc3999f0"
      },
      "source": [
        "df_umpires['umpire_4'].nunique()"
      ],
      "execution_count": 129,
      "outputs": [
        {
          "output_type": "execute_result",
          "data": {
            "text/plain": [
              "2"
            ]
          },
          "metadata": {
            "tags": []
          },
          "execution_count": 129
        }
      ]
    },
    {
      "cell_type": "code",
      "metadata": {
        "id": "jXhnfTK55B3C",
        "colab_type": "code",
        "colab": {}
      },
      "source": [
        "df_match_summary = df_match_summary.join(df_teams) \n",
        "df_match_summary = df_match_summary.join(df_umpires) \n",
        "df_match_summary.drop(['teams','umpires'], axis=1, inplace=True)\n",
        "df_match_summary.rename(columns={'runs':'won_by_runs','wickets':'won_by_wickets'}, inplace=True)"
      ],
      "execution_count": 0,
      "outputs": []
    },
    {
      "cell_type": "code",
      "metadata": {
        "id": "VeVpcFaqu5ri",
        "colab_type": "code",
        "colab": {}
      },
      "source": [
        ""
      ],
      "execution_count": 0,
      "outputs": []
    },
    {
      "cell_type": "code",
      "metadata": {
        "id": "75Ikeert7OsH",
        "colab_type": "code",
        "colab": {}
      },
      "source": [
        ""
      ],
      "execution_count": 0,
      "outputs": []
    },
    {
      "cell_type": "code",
      "metadata": {
        "id": "Z2ApN9k37cdP",
        "colab_type": "code",
        "colab": {}
      },
      "source": [
        ""
      ],
      "execution_count": 0,
      "outputs": []
    },
    {
      "cell_type": "code",
      "metadata": {
        "id": "KwFqw03wu5j9",
        "colab_type": "code",
        "colab": {
          "base_uri": "https://localhost:8080/",
          "height": 415
        },
        "outputId": "6fa5844c-9300-45b7-c47c-2b6346164ce5"
      },
      "source": [
        "df_match_summary.head()"
      ],
      "execution_count": 131,
      "outputs": [
        {
          "output_type": "execute_result",
          "data": {
            "text/html": [
              "<div>\n",
              "<style scoped>\n",
              "    .dataframe tbody tr th:only-of-type {\n",
              "        vertical-align: middle;\n",
              "    }\n",
              "\n",
              "    .dataframe tbody tr th {\n",
              "        vertical-align: top;\n",
              "    }\n",
              "\n",
              "    .dataframe thead th {\n",
              "        text-align: right;\n",
              "    }\n",
              "</style>\n",
              "<table border=\"1\" class=\"dataframe\">\n",
              "  <thead>\n",
              "    <tr style=\"text-align: right;\">\n",
              "      <th></th>\n",
              "      <th>city</th>\n",
              "      <th>competition</th>\n",
              "      <th>toss_decision</th>\n",
              "      <th>eliminator</th>\n",
              "      <th>gender</th>\n",
              "      <th>match_type</th>\n",
              "      <th>method</th>\n",
              "      <th>neutral_venue</th>\n",
              "      <th>overs</th>\n",
              "      <th>player_of_match</th>\n",
              "      <th>result</th>\n",
              "      <th>venue</th>\n",
              "      <th>winner</th>\n",
              "      <th>winner_toss</th>\n",
              "      <th>won_by_runs</th>\n",
              "      <th>won_by_wickets</th>\n",
              "      <th>match_date</th>\n",
              "      <th>team_1</th>\n",
              "      <th>team_2</th>\n",
              "      <th>umpire_1</th>\n",
              "      <th>umpire_2</th>\n",
              "      <th>umpire_3</th>\n",
              "      <th>umpire_4</th>\n",
              "    </tr>\n",
              "    <tr>\n",
              "      <th>match_id</th>\n",
              "      <th></th>\n",
              "      <th></th>\n",
              "      <th></th>\n",
              "      <th></th>\n",
              "      <th></th>\n",
              "      <th></th>\n",
              "      <th></th>\n",
              "      <th></th>\n",
              "      <th></th>\n",
              "      <th></th>\n",
              "      <th></th>\n",
              "      <th></th>\n",
              "      <th></th>\n",
              "      <th></th>\n",
              "      <th></th>\n",
              "      <th></th>\n",
              "      <th></th>\n",
              "      <th></th>\n",
              "      <th></th>\n",
              "      <th></th>\n",
              "      <th></th>\n",
              "      <th></th>\n",
              "      <th></th>\n",
              "    </tr>\n",
              "  </thead>\n",
              "  <tbody>\n",
              "    <tr>\n",
              "      <th>548336</th>\n",
              "      <td>Jaipur</td>\n",
              "      <td>IPL</td>\n",
              "      <td>field</td>\n",
              "      <td>NaN</td>\n",
              "      <td>male</td>\n",
              "      <td>T20</td>\n",
              "      <td>NaN</td>\n",
              "      <td>NaN</td>\n",
              "      <td>20</td>\n",
              "      <td>AB de Villiers</td>\n",
              "      <td>NaN</td>\n",
              "      <td>Sawai Mansingh Stadium</td>\n",
              "      <td>Royal Challengers Bangalore</td>\n",
              "      <td>Rajasthan Royals</td>\n",
              "      <td>46.0</td>\n",
              "      <td>NaN</td>\n",
              "      <td>2012-04-23</td>\n",
              "      <td>Rajasthan Royals</td>\n",
              "      <td>Royal Challengers Bangalore</td>\n",
              "      <td>Asad Rauf</td>\n",
              "      <td>S Asnani</td>\n",
              "      <td>None</td>\n",
              "      <td>None</td>\n",
              "    </tr>\n",
              "    <tr>\n",
              "      <th>980901</th>\n",
              "      <td>Mumbai</td>\n",
              "      <td>IPL</td>\n",
              "      <td>bat</td>\n",
              "      <td>NaN</td>\n",
              "      <td>male</td>\n",
              "      <td>T20</td>\n",
              "      <td>NaN</td>\n",
              "      <td>NaN</td>\n",
              "      <td>20</td>\n",
              "      <td>AM Rahane</td>\n",
              "      <td>NaN</td>\n",
              "      <td>Wankhede Stadium</td>\n",
              "      <td>Rising Pune Supergiants</td>\n",
              "      <td>Mumbai Indians</td>\n",
              "      <td>NaN</td>\n",
              "      <td>9.0</td>\n",
              "      <td>2016-04-09</td>\n",
              "      <td>Mumbai Indians</td>\n",
              "      <td>Rising Pune Supergiants</td>\n",
              "      <td>HDPK Dharmasena</td>\n",
              "      <td>CK Nandan</td>\n",
              "      <td>None</td>\n",
              "      <td>None</td>\n",
              "    </tr>\n",
              "    <tr>\n",
              "      <th>335998</th>\n",
              "      <td>Delhi</td>\n",
              "      <td>IPL</td>\n",
              "      <td>field</td>\n",
              "      <td>NaN</td>\n",
              "      <td>male</td>\n",
              "      <td>T20</td>\n",
              "      <td>NaN</td>\n",
              "      <td>NaN</td>\n",
              "      <td>20</td>\n",
              "      <td>GD McGrath</td>\n",
              "      <td>NaN</td>\n",
              "      <td>Feroz Shah Kotla</td>\n",
              "      <td>Delhi Daredevils</td>\n",
              "      <td>Royal Challengers Bangalore</td>\n",
              "      <td>10.0</td>\n",
              "      <td>NaN</td>\n",
              "      <td>2008-04-30</td>\n",
              "      <td>Delhi Daredevils</td>\n",
              "      <td>Royal Challengers Bangalore</td>\n",
              "      <td>Aleem Dar</td>\n",
              "      <td>I Shivram</td>\n",
              "      <td>None</td>\n",
              "      <td>None</td>\n",
              "    </tr>\n",
              "    <tr>\n",
              "      <th>1178418</th>\n",
              "      <td>Kolkata</td>\n",
              "      <td>IPL</td>\n",
              "      <td>field</td>\n",
              "      <td>NaN</td>\n",
              "      <td>male</td>\n",
              "      <td>T20</td>\n",
              "      <td>NaN</td>\n",
              "      <td>NaN</td>\n",
              "      <td>20</td>\n",
              "      <td>VR Aaron</td>\n",
              "      <td>NaN</td>\n",
              "      <td>Eden Gardens</td>\n",
              "      <td>Rajasthan Royals</td>\n",
              "      <td>Rajasthan Royals</td>\n",
              "      <td>NaN</td>\n",
              "      <td>3.0</td>\n",
              "      <td>2019-04-25</td>\n",
              "      <td>Kolkata Knight Riders</td>\n",
              "      <td>Rajasthan Royals</td>\n",
              "      <td>AY Dandekar</td>\n",
              "      <td>IJ Gould</td>\n",
              "      <td>None</td>\n",
              "      <td>None</td>\n",
              "    </tr>\n",
              "    <tr>\n",
              "      <th>1175357</th>\n",
              "      <td>Kolkata</td>\n",
              "      <td>IPL</td>\n",
              "      <td>field</td>\n",
              "      <td>NaN</td>\n",
              "      <td>male</td>\n",
              "      <td>T20</td>\n",
              "      <td>NaN</td>\n",
              "      <td>NaN</td>\n",
              "      <td>20</td>\n",
              "      <td>AD Russell</td>\n",
              "      <td>NaN</td>\n",
              "      <td>Eden Gardens</td>\n",
              "      <td>Kolkata Knight Riders</td>\n",
              "      <td>Kolkata Knight Riders</td>\n",
              "      <td>NaN</td>\n",
              "      <td>6.0</td>\n",
              "      <td>2019-03-24</td>\n",
              "      <td>Kolkata Knight Riders</td>\n",
              "      <td>Sunrisers Hyderabad</td>\n",
              "      <td>CB Gaffaney</td>\n",
              "      <td>AK Chaudhary</td>\n",
              "      <td>None</td>\n",
              "      <td>None</td>\n",
              "    </tr>\n",
              "  </tbody>\n",
              "</table>\n",
              "</div>"
            ],
            "text/plain": [
              "             city competition toss_decision  ...      umpire_2 umpire_3 umpire_4\n",
              "match_id                                     ...                                \n",
              "548336     Jaipur         IPL         field  ...      S Asnani     None     None\n",
              "980901     Mumbai         IPL           bat  ...     CK Nandan     None     None\n",
              "335998      Delhi         IPL         field  ...     I Shivram     None     None\n",
              "1178418   Kolkata         IPL         field  ...      IJ Gould     None     None\n",
              "1175357   Kolkata         IPL         field  ...  AK Chaudhary     None     None\n",
              "\n",
              "[5 rows x 23 columns]"
            ]
          },
          "metadata": {
            "tags": []
          },
          "execution_count": 131
        }
      ]
    },
    {
      "cell_type": "code",
      "metadata": {
        "id": "aiNxtp5ULdgS",
        "colab_type": "code",
        "colab": {
          "base_uri": "https://localhost:8080/",
          "height": 156
        },
        "outputId": "3ac29482-1824-452a-9749-ee7cda277b4d"
      },
      "source": [
        "df_details = pd.concat(ball_by_ball_details)\n"
      ],
      "execution_count": 30,
      "outputs": [
        {
          "output_type": "stream",
          "text": [
            "/usr/local/lib/python3.6/dist-packages/ipykernel_launcher.py:1: FutureWarning: Sorting because non-concatenation axis is not aligned. A future version\n",
            "of pandas will change to not sort by default.\n",
            "\n",
            "To accept the future behavior, pass 'sort=False'.\n",
            "\n",
            "To retain the current behavior and silence the warning, pass 'sort=True'.\n",
            "\n",
            "  \"\"\"Entry point for launching an IPython kernel.\n"
          ],
          "name": "stderr"
        }
      ]
    },
    {
      "cell_type": "code",
      "metadata": {
        "id": "LvsEh5HkuVXh",
        "colab_type": "code",
        "colab": {
          "base_uri": "https://localhost:8080/",
          "height": 385
        },
        "outputId": "9ccaac6c-3fd5-4502-be31-449cdfa72f6f"
      },
      "source": [
        "df_details.head()"
      ],
      "execution_count": 31,
      "outputs": [
        {
          "output_type": "execute_result",
          "data": {
            "text/html": [
              "<div>\n",
              "<style scoped>\n",
              "    .dataframe tbody tr th:only-of-type {\n",
              "        vertical-align: middle;\n",
              "    }\n",
              "\n",
              "    .dataframe tbody tr th {\n",
              "        vertical-align: top;\n",
              "    }\n",
              "\n",
              "    .dataframe thead th {\n",
              "        text-align: right;\n",
              "    }\n",
              "</style>\n",
              "<table border=\"1\" class=\"dataframe\">\n",
              "  <thead>\n",
              "    <tr style=\"text-align: right;\">\n",
              "      <th></th>\n",
              "      <th>0</th>\n",
              "      <th>0_extras</th>\n",
              "      <th>batsman</th>\n",
              "      <th>batsman_runs</th>\n",
              "      <th>batting_team</th>\n",
              "      <th>bowler</th>\n",
              "      <th>byes</th>\n",
              "      <th>extras_runs</th>\n",
              "      <th>fielders</th>\n",
              "      <th>kind</th>\n",
              "      <th>legbyes</th>\n",
              "      <th>level_0</th>\n",
              "      <th>level_1</th>\n",
              "      <th>match_id</th>\n",
              "      <th>noballs</th>\n",
              "      <th>non_striker</th>\n",
              "      <th>player_out</th>\n",
              "      <th>total</th>\n",
              "      <th>wides</th>\n",
              "      <th>0</th>\n",
              "      <th>0_wickets</th>\n",
              "      <th>non_boundary</th>\n",
              "      <th>extras</th>\n",
              "      <th>penalty</th>\n",
              "    </tr>\n",
              "  </thead>\n",
              "  <tbody>\n",
              "    <tr>\n",
              "      <th>0</th>\n",
              "      <td>NaN</td>\n",
              "      <td>NaN</td>\n",
              "      <td>V Kohli</td>\n",
              "      <td>0.0</td>\n",
              "      <td>Royal Challengers Bangalore</td>\n",
              "      <td>A Chandila</td>\n",
              "      <td>NaN</td>\n",
              "      <td>0.0</td>\n",
              "      <td>NaN</td>\n",
              "      <td>NaN</td>\n",
              "      <td>NaN</td>\n",
              "      <td>inning_1</td>\n",
              "      <td>0.1</td>\n",
              "      <td>548336</td>\n",
              "      <td>NaN</td>\n",
              "      <td>TM Dilshan</td>\n",
              "      <td>NaN</td>\n",
              "      <td>0.0</td>\n",
              "      <td>NaN</td>\n",
              "      <td>NaN</td>\n",
              "      <td>NaN</td>\n",
              "      <td>NaN</td>\n",
              "      <td>NaN</td>\n",
              "      <td>NaN</td>\n",
              "    </tr>\n",
              "    <tr>\n",
              "      <th>1</th>\n",
              "      <td>NaN</td>\n",
              "      <td>NaN</td>\n",
              "      <td>V Kohli</td>\n",
              "      <td>1.0</td>\n",
              "      <td>Royal Challengers Bangalore</td>\n",
              "      <td>A Chandila</td>\n",
              "      <td>NaN</td>\n",
              "      <td>0.0</td>\n",
              "      <td>NaN</td>\n",
              "      <td>NaN</td>\n",
              "      <td>NaN</td>\n",
              "      <td>inning_1</td>\n",
              "      <td>0.2</td>\n",
              "      <td>548336</td>\n",
              "      <td>NaN</td>\n",
              "      <td>TM Dilshan</td>\n",
              "      <td>NaN</td>\n",
              "      <td>1.0</td>\n",
              "      <td>NaN</td>\n",
              "      <td>NaN</td>\n",
              "      <td>NaN</td>\n",
              "      <td>NaN</td>\n",
              "      <td>NaN</td>\n",
              "      <td>NaN</td>\n",
              "    </tr>\n",
              "    <tr>\n",
              "      <th>2</th>\n",
              "      <td>NaN</td>\n",
              "      <td>NaN</td>\n",
              "      <td>TM Dilshan</td>\n",
              "      <td>0.0</td>\n",
              "      <td>Royal Challengers Bangalore</td>\n",
              "      <td>A Chandila</td>\n",
              "      <td>NaN</td>\n",
              "      <td>0.0</td>\n",
              "      <td>NaN</td>\n",
              "      <td>NaN</td>\n",
              "      <td>NaN</td>\n",
              "      <td>inning_1</td>\n",
              "      <td>0.3</td>\n",
              "      <td>548336</td>\n",
              "      <td>NaN</td>\n",
              "      <td>V Kohli</td>\n",
              "      <td>NaN</td>\n",
              "      <td>0.0</td>\n",
              "      <td>NaN</td>\n",
              "      <td>NaN</td>\n",
              "      <td>NaN</td>\n",
              "      <td>NaN</td>\n",
              "      <td>NaN</td>\n",
              "      <td>NaN</td>\n",
              "    </tr>\n",
              "    <tr>\n",
              "      <th>3</th>\n",
              "      <td>NaN</td>\n",
              "      <td>NaN</td>\n",
              "      <td>TM Dilshan</td>\n",
              "      <td>1.0</td>\n",
              "      <td>Royal Challengers Bangalore</td>\n",
              "      <td>A Chandila</td>\n",
              "      <td>NaN</td>\n",
              "      <td>0.0</td>\n",
              "      <td>NaN</td>\n",
              "      <td>NaN</td>\n",
              "      <td>NaN</td>\n",
              "      <td>inning_1</td>\n",
              "      <td>0.4</td>\n",
              "      <td>548336</td>\n",
              "      <td>NaN</td>\n",
              "      <td>V Kohli</td>\n",
              "      <td>NaN</td>\n",
              "      <td>1.0</td>\n",
              "      <td>NaN</td>\n",
              "      <td>NaN</td>\n",
              "      <td>NaN</td>\n",
              "      <td>NaN</td>\n",
              "      <td>NaN</td>\n",
              "      <td>NaN</td>\n",
              "    </tr>\n",
              "    <tr>\n",
              "      <th>4</th>\n",
              "      <td>NaN</td>\n",
              "      <td>NaN</td>\n",
              "      <td>V Kohli</td>\n",
              "      <td>2.0</td>\n",
              "      <td>Royal Challengers Bangalore</td>\n",
              "      <td>A Chandila</td>\n",
              "      <td>NaN</td>\n",
              "      <td>0.0</td>\n",
              "      <td>NaN</td>\n",
              "      <td>NaN</td>\n",
              "      <td>NaN</td>\n",
              "      <td>inning_1</td>\n",
              "      <td>0.5</td>\n",
              "      <td>548336</td>\n",
              "      <td>NaN</td>\n",
              "      <td>TM Dilshan</td>\n",
              "      <td>NaN</td>\n",
              "      <td>2.0</td>\n",
              "      <td>NaN</td>\n",
              "      <td>NaN</td>\n",
              "      <td>NaN</td>\n",
              "      <td>NaN</td>\n",
              "      <td>NaN</td>\n",
              "      <td>NaN</td>\n",
              "    </tr>\n",
              "  </tbody>\n",
              "</table>\n",
              "</div>"
            ],
            "text/plain": [
              "     0  0_extras     batsman  ...  non_boundary extras penalty\n",
              "0  NaN       NaN     V Kohli  ...           NaN    NaN     NaN\n",
              "1  NaN       NaN     V Kohli  ...           NaN    NaN     NaN\n",
              "2  NaN       NaN  TM Dilshan  ...           NaN    NaN     NaN\n",
              "3  NaN       NaN  TM Dilshan  ...           NaN    NaN     NaN\n",
              "4  NaN       NaN     V Kohli  ...           NaN    NaN     NaN\n",
              "\n",
              "[5 rows x 24 columns]"
            ]
          },
          "metadata": {
            "tags": []
          },
          "execution_count": 31
        }
      ]
    },
    {
      "cell_type": "code",
      "metadata": {
        "id": "0j0qC_p9_UJu",
        "colab_type": "code",
        "colab": {}
      },
      "source": [
        "df_details['wides'] = df_details['wides'].astype('float')\n",
        "df_details['noballs'] = df_details['noballs'].astype('float')\n",
        "df_details['legbyes'] = df_details['legbyes'].astype('float')\n"
      ],
      "execution_count": 0,
      "outputs": []
    },
    {
      "cell_type": "code",
      "metadata": {
        "id": "HgiwWcNzfr6I",
        "colab_type": "code",
        "colab": {
          "base_uri": "https://localhost:8080/",
          "height": 521
        },
        "outputId": "bde81468-9c22-41b0-d365-12bbd63f89e4"
      },
      "source": [
        "df_details.info()"
      ],
      "execution_count": 33,
      "outputs": [
        {
          "output_type": "stream",
          "text": [
            "<class 'pandas.core.frame.DataFrame'>\n",
            "Int64Index: 176711 entries, 0 to 245\n",
            "Data columns (total 24 columns):\n",
            "0               0 non-null object\n",
            "0_extras        0 non-null float64\n",
            "batsman         176702 non-null object\n",
            "batsman_runs    176702 non-null float64\n",
            "batting_team    176711 non-null object\n",
            "bowler          176702 non-null object\n",
            "byes            476 non-null float64\n",
            "extras_runs     176061 non-null float64\n",
            "fielders        6245 non-null object\n",
            "kind            8702 non-null object\n",
            "legbyes         2897 non-null float64\n",
            "level_0         176711 non-null object\n",
            "level_1         176711 non-null object\n",
            "match_id        176711 non-null object\n",
            "noballs         702 non-null float64\n",
            "non_striker     176702 non-null object\n",
            "player_out      8702 non-null object\n",
            "total           176702 non-null float64\n",
            "wides           5337 non-null float64\n",
            "0               0 non-null float64\n",
            "0_wickets       0 non-null float64\n",
            "non_boundary    14 non-null float64\n",
            "extras          641 non-null float64\n",
            "penalty         2 non-null float64\n",
            "dtypes: float64(13), object(11)\n",
            "memory usage: 33.7+ MB\n"
          ],
          "name": "stdout"
        }
      ]
    },
    {
      "cell_type": "code",
      "metadata": {
        "id": "mrjIZiNB6fMH",
        "colab_type": "code",
        "colab": {}
      },
      "source": [
        "df_outcome = df_match_summary[['by']]\n",
        "df_outcome_details = df_outcome['by'].apply(pd.Series).drop(columns=[0])"
      ],
      "execution_count": 0,
      "outputs": []
    },
    {
      "cell_type": "code",
      "metadata": {
        "id": "9ONCj9utjOkn",
        "colab_type": "code",
        "colab": {}
      },
      "source": [
        "import pandas as pd"
      ],
      "execution_count": 0,
      "outputs": []
    },
    {
      "cell_type": "code",
      "metadata": {
        "id": "zIHpk_PCjJ0N",
        "colab_type": "code",
        "colab": {}
      },
      "source": [
        ""
      ],
      "execution_count": 0,
      "outputs": []
    },
    {
      "cell_type": "code",
      "metadata": {
        "id": "9wsaRYb86msS",
        "colab_type": "code",
        "colab": {}
      },
      "source": [
        "df_ipl_summary = df_match_summary.join(df_outcome_details)"
      ],
      "execution_count": 0,
      "outputs": []
    },
    {
      "cell_type": "code",
      "metadata": {
        "id": "y9fYSzg9uZNM",
        "colab_type": "code",
        "colab": {
          "base_uri": "https://localhost:8080/",
          "height": 167
        },
        "outputId": "667a40ce-7213-4a39-f9ec-6f434389284c"
      },
      "source": [
        "df_ipl_summary.head()"
      ],
      "execution_count": 21,
      "outputs": [
        {
          "output_type": "error",
          "ename": "NameError",
          "evalue": "ignored",
          "traceback": [
            "\u001b[0;31m---------------------------------------------------------------------------\u001b[0m",
            "\u001b[0;31mNameError\u001b[0m                                 Traceback (most recent call last)",
            "\u001b[0;32m<ipython-input-21-ef95e7976136>\u001b[0m in \u001b[0;36m<module>\u001b[0;34m()\u001b[0m\n\u001b[0;32m----> 1\u001b[0;31m \u001b[0mdf_ipl_summary\u001b[0m\u001b[0;34m.\u001b[0m\u001b[0mhead\u001b[0m\u001b[0;34m(\u001b[0m\u001b[0;34m)\u001b[0m\u001b[0;34m\u001b[0m\u001b[0;34m\u001b[0m\u001b[0m\n\u001b[0m",
            "\u001b[0;31mNameError\u001b[0m: name 'df_ipl_summary' is not defined"
          ]
        }
      ]
    },
    {
      "cell_type": "code",
      "metadata": {
        "id": "jKbW9M2huenz",
        "colab_type": "code",
        "colab": {}
      },
      "source": [
        ""
      ],
      "execution_count": 0,
      "outputs": []
    },
    {
      "cell_type": "code",
      "metadata": {
        "id": "DMRyraPHufAH",
        "colab_type": "code",
        "colab": {}
      },
      "source": [
        ""
      ],
      "execution_count": 0,
      "outputs": []
    },
    {
      "cell_type": "code",
      "metadata": {
        "id": "krR5NU3Due8B",
        "colab_type": "code",
        "colab": {}
      },
      "source": [
        ""
      ],
      "execution_count": 0,
      "outputs": []
    },
    {
      "cell_type": "code",
      "metadata": {
        "id": "nmJRVRnPue4A",
        "colab_type": "code",
        "colab": {}
      },
      "source": [
        ""
      ],
      "execution_count": 0,
      "outputs": []
    },
    {
      "cell_type": "code",
      "metadata": {
        "id": "9EjWLo3-CLBz",
        "colab_type": "code",
        "colab": {}
      },
      "source": [
        "df_combined = df_details.join(df_ipl_summary,on='match_id',rsuffix='_ipl_summary')"
      ],
      "execution_count": 0,
      "outputs": []
    },
    {
      "cell_type": "code",
      "metadata": {
        "id": "-Z0NpbyR-eov",
        "colab_type": "code",
        "colab": {
          "base_uri": "https://localhost:8080/",
          "height": 869
        },
        "outputId": "cc82e783-b978-4d9c-9ce9-fa357b6b0ec8"
      },
      "source": [
        "df_combined.info()"
      ],
      "execution_count": 39,
      "outputs": [
        {
          "output_type": "stream",
          "text": [
            "<class 'pandas.core.frame.DataFrame'>\n",
            "Int64Index: 176711 entries, 0 to 245\n",
            "Data columns (total 44 columns):\n",
            "0                  0 non-null object\n",
            "0_extras           0 non-null float64\n",
            "batsman            176702 non-null object\n",
            "batsman_runs       176702 non-null float64\n",
            "batting_team       176711 non-null object\n",
            "bowler             176702 non-null object\n",
            "byes               476 non-null float64\n",
            "extras_runs        176061 non-null float64\n",
            "fielders           6245 non-null object\n",
            "kind               8702 non-null object\n",
            "legbyes            2897 non-null float64\n",
            "level_0            176711 non-null object\n",
            "level_1            176711 non-null object\n",
            "match_id           176711 non-null object\n",
            "noballs            702 non-null float64\n",
            "non_striker        176702 non-null object\n",
            "player_out         8702 non-null object\n",
            "total              176702 non-null float64\n",
            "wides              5337 non-null float64\n",
            "0                  0 non-null float64\n",
            "0_wickets          0 non-null float64\n",
            "non_boundary       14 non-null float64\n",
            "extras             641 non-null float64\n",
            "penalty            2 non-null float64\n",
            "by                 176339 non-null object\n",
            "city               173573 non-null object\n",
            "competition        176711 non-null object\n",
            "dates              176711 non-null object\n",
            "decision           176711 non-null object\n",
            "eliminator         0 non-null object\n",
            "gender             176711 non-null object\n",
            "match_type         176711 non-null object\n",
            "method             3208 non-null object\n",
            "neutral_venue      17839 non-null object\n",
            "overs              176711 non-null object\n",
            "player_of_match    176339 non-null object\n",
            "result             372 non-null object\n",
            "teams              176711 non-null object\n",
            "umpires            176463 non-null object\n",
            "venue              176711 non-null object\n",
            "winner             176711 non-null object\n",
            "winner_toss        176339 non-null object\n",
            "runs               81617 non-null float64\n",
            "wickets            94722 non-null float64\n",
            "dtypes: float64(15), object(29)\n",
            "memory usage: 60.7+ MB\n"
          ],
          "name": "stdout"
        }
      ]
    },
    {
      "cell_type": "code",
      "metadata": {
        "id": "Iz6aoAVhD9W_",
        "colab_type": "code",
        "colab": {
          "base_uri": "https://localhost:8080/",
          "height": 887
        },
        "outputId": "2d9427b0-2d3f-443b-e099-a07ce608cac4"
      },
      "source": [
        "df_combined['match_date'] = df_combined['dates'].str[0]\n",
        "df_combined['match_date'] = pd.to_datetime(df_combined['match_date'])\n",
        "df_combined.info()"
      ],
      "execution_count": 40,
      "outputs": [
        {
          "output_type": "stream",
          "text": [
            "<class 'pandas.core.frame.DataFrame'>\n",
            "Int64Index: 176711 entries, 0 to 245\n",
            "Data columns (total 45 columns):\n",
            "0                  0 non-null object\n",
            "0_extras           0 non-null float64\n",
            "batsman            176702 non-null object\n",
            "batsman_runs       176702 non-null float64\n",
            "batting_team       176711 non-null object\n",
            "bowler             176702 non-null object\n",
            "byes               476 non-null float64\n",
            "extras_runs        176061 non-null float64\n",
            "fielders           6245 non-null object\n",
            "kind               8702 non-null object\n",
            "legbyes            2897 non-null float64\n",
            "level_0            176711 non-null object\n",
            "level_1            176711 non-null object\n",
            "match_id           176711 non-null object\n",
            "noballs            702 non-null float64\n",
            "non_striker        176702 non-null object\n",
            "player_out         8702 non-null object\n",
            "total              176702 non-null float64\n",
            "wides              5337 non-null float64\n",
            "0                  0 non-null float64\n",
            "0_wickets          0 non-null float64\n",
            "non_boundary       14 non-null float64\n",
            "extras             641 non-null float64\n",
            "penalty            2 non-null float64\n",
            "by                 176339 non-null object\n",
            "city               173573 non-null object\n",
            "competition        176711 non-null object\n",
            "dates              176711 non-null object\n",
            "decision           176711 non-null object\n",
            "eliminator         0 non-null object\n",
            "gender             176711 non-null object\n",
            "match_type         176711 non-null object\n",
            "method             3208 non-null object\n",
            "neutral_venue      17839 non-null object\n",
            "overs              176711 non-null object\n",
            "player_of_match    176339 non-null object\n",
            "result             372 non-null object\n",
            "teams              176711 non-null object\n",
            "umpires            176463 non-null object\n",
            "venue              176711 non-null object\n",
            "winner             176711 non-null object\n",
            "winner_toss        176339 non-null object\n",
            "runs               81617 non-null float64\n",
            "wickets            94722 non-null float64\n",
            "match_date         176711 non-null datetime64[ns]\n",
            "dtypes: datetime64[ns](1), float64(15), object(29)\n",
            "memory usage: 62.0+ MB\n"
          ],
          "name": "stdout"
        }
      ]
    },
    {
      "cell_type": "code",
      "metadata": {
        "id": "_gTbtk1tx60p",
        "colab_type": "code",
        "colab": {}
      },
      "source": [
        "df_combined['season'] = df_combined['match_date'].dt.year"
      ],
      "execution_count": 0,
      "outputs": []
    },
    {
      "cell_type": "code",
      "metadata": {
        "id": "F7XyioFkGknS",
        "colab_type": "code",
        "colab": {
          "base_uri": "https://localhost:8080/",
          "height": 553
        },
        "outputId": "9920e786-ff63-448f-9610-a81030b29724"
      },
      "source": [
        "df_combined.head()"
      ],
      "execution_count": 42,
      "outputs": [
        {
          "output_type": "execute_result",
          "data": {
            "text/html": [
              "<div>\n",
              "<style scoped>\n",
              "    .dataframe tbody tr th:only-of-type {\n",
              "        vertical-align: middle;\n",
              "    }\n",
              "\n",
              "    .dataframe tbody tr th {\n",
              "        vertical-align: top;\n",
              "    }\n",
              "\n",
              "    .dataframe thead th {\n",
              "        text-align: right;\n",
              "    }\n",
              "</style>\n",
              "<table border=\"1\" class=\"dataframe\">\n",
              "  <thead>\n",
              "    <tr style=\"text-align: right;\">\n",
              "      <th></th>\n",
              "      <th>0</th>\n",
              "      <th>0_extras</th>\n",
              "      <th>batsman</th>\n",
              "      <th>batsman_runs</th>\n",
              "      <th>batting_team</th>\n",
              "      <th>bowler</th>\n",
              "      <th>byes</th>\n",
              "      <th>extras_runs</th>\n",
              "      <th>fielders</th>\n",
              "      <th>kind</th>\n",
              "      <th>legbyes</th>\n",
              "      <th>level_0</th>\n",
              "      <th>level_1</th>\n",
              "      <th>match_id</th>\n",
              "      <th>noballs</th>\n",
              "      <th>non_striker</th>\n",
              "      <th>player_out</th>\n",
              "      <th>total</th>\n",
              "      <th>wides</th>\n",
              "      <th>0</th>\n",
              "      <th>0_wickets</th>\n",
              "      <th>non_boundary</th>\n",
              "      <th>extras</th>\n",
              "      <th>penalty</th>\n",
              "      <th>by</th>\n",
              "      <th>city</th>\n",
              "      <th>competition</th>\n",
              "      <th>dates</th>\n",
              "      <th>decision</th>\n",
              "      <th>eliminator</th>\n",
              "      <th>gender</th>\n",
              "      <th>match_type</th>\n",
              "      <th>method</th>\n",
              "      <th>neutral_venue</th>\n",
              "      <th>overs</th>\n",
              "      <th>player_of_match</th>\n",
              "      <th>result</th>\n",
              "      <th>teams</th>\n",
              "      <th>umpires</th>\n",
              "      <th>venue</th>\n",
              "      <th>winner</th>\n",
              "      <th>winner_toss</th>\n",
              "      <th>runs</th>\n",
              "      <th>wickets</th>\n",
              "      <th>match_date</th>\n",
              "      <th>season</th>\n",
              "    </tr>\n",
              "  </thead>\n",
              "  <tbody>\n",
              "    <tr>\n",
              "      <th>0</th>\n",
              "      <td>NaN</td>\n",
              "      <td>NaN</td>\n",
              "      <td>V Kohli</td>\n",
              "      <td>0.0</td>\n",
              "      <td>Royal Challengers Bangalore</td>\n",
              "      <td>A Chandila</td>\n",
              "      <td>NaN</td>\n",
              "      <td>0.0</td>\n",
              "      <td>NaN</td>\n",
              "      <td>NaN</td>\n",
              "      <td>NaN</td>\n",
              "      <td>inning_1</td>\n",
              "      <td>0.1</td>\n",
              "      <td>548336</td>\n",
              "      <td>NaN</td>\n",
              "      <td>TM Dilshan</td>\n",
              "      <td>NaN</td>\n",
              "      <td>0.0</td>\n",
              "      <td>NaN</td>\n",
              "      <td>NaN</td>\n",
              "      <td>NaN</td>\n",
              "      <td>NaN</td>\n",
              "      <td>NaN</td>\n",
              "      <td>NaN</td>\n",
              "      <td>{'runs': 46}</td>\n",
              "      <td>Jaipur</td>\n",
              "      <td>IPL</td>\n",
              "      <td>[2012-04-23]</td>\n",
              "      <td>field</td>\n",
              "      <td>NaN</td>\n",
              "      <td>male</td>\n",
              "      <td>T20</td>\n",
              "      <td>NaN</td>\n",
              "      <td>NaN</td>\n",
              "      <td>20</td>\n",
              "      <td>[AB de Villiers]</td>\n",
              "      <td>NaN</td>\n",
              "      <td>[Rajasthan Royals, Royal Challengers Bangalore]</td>\n",
              "      <td>[Asad Rauf, S Asnani]</td>\n",
              "      <td>Sawai Mansingh Stadium</td>\n",
              "      <td>Royal Challengers Bangalore</td>\n",
              "      <td>Rajasthan Royals</td>\n",
              "      <td>46.0</td>\n",
              "      <td>NaN</td>\n",
              "      <td>2012-04-23</td>\n",
              "      <td>2012</td>\n",
              "    </tr>\n",
              "    <tr>\n",
              "      <th>1</th>\n",
              "      <td>NaN</td>\n",
              "      <td>NaN</td>\n",
              "      <td>V Kohli</td>\n",
              "      <td>1.0</td>\n",
              "      <td>Royal Challengers Bangalore</td>\n",
              "      <td>A Chandila</td>\n",
              "      <td>NaN</td>\n",
              "      <td>0.0</td>\n",
              "      <td>NaN</td>\n",
              "      <td>NaN</td>\n",
              "      <td>NaN</td>\n",
              "      <td>inning_1</td>\n",
              "      <td>0.2</td>\n",
              "      <td>548336</td>\n",
              "      <td>NaN</td>\n",
              "      <td>TM Dilshan</td>\n",
              "      <td>NaN</td>\n",
              "      <td>1.0</td>\n",
              "      <td>NaN</td>\n",
              "      <td>NaN</td>\n",
              "      <td>NaN</td>\n",
              "      <td>NaN</td>\n",
              "      <td>NaN</td>\n",
              "      <td>NaN</td>\n",
              "      <td>{'runs': 46}</td>\n",
              "      <td>Jaipur</td>\n",
              "      <td>IPL</td>\n",
              "      <td>[2012-04-23]</td>\n",
              "      <td>field</td>\n",
              "      <td>NaN</td>\n",
              "      <td>male</td>\n",
              "      <td>T20</td>\n",
              "      <td>NaN</td>\n",
              "      <td>NaN</td>\n",
              "      <td>20</td>\n",
              "      <td>[AB de Villiers]</td>\n",
              "      <td>NaN</td>\n",
              "      <td>[Rajasthan Royals, Royal Challengers Bangalore]</td>\n",
              "      <td>[Asad Rauf, S Asnani]</td>\n",
              "      <td>Sawai Mansingh Stadium</td>\n",
              "      <td>Royal Challengers Bangalore</td>\n",
              "      <td>Rajasthan Royals</td>\n",
              "      <td>46.0</td>\n",
              "      <td>NaN</td>\n",
              "      <td>2012-04-23</td>\n",
              "      <td>2012</td>\n",
              "    </tr>\n",
              "    <tr>\n",
              "      <th>2</th>\n",
              "      <td>NaN</td>\n",
              "      <td>NaN</td>\n",
              "      <td>TM Dilshan</td>\n",
              "      <td>0.0</td>\n",
              "      <td>Royal Challengers Bangalore</td>\n",
              "      <td>A Chandila</td>\n",
              "      <td>NaN</td>\n",
              "      <td>0.0</td>\n",
              "      <td>NaN</td>\n",
              "      <td>NaN</td>\n",
              "      <td>NaN</td>\n",
              "      <td>inning_1</td>\n",
              "      <td>0.3</td>\n",
              "      <td>548336</td>\n",
              "      <td>NaN</td>\n",
              "      <td>V Kohli</td>\n",
              "      <td>NaN</td>\n",
              "      <td>0.0</td>\n",
              "      <td>NaN</td>\n",
              "      <td>NaN</td>\n",
              "      <td>NaN</td>\n",
              "      <td>NaN</td>\n",
              "      <td>NaN</td>\n",
              "      <td>NaN</td>\n",
              "      <td>{'runs': 46}</td>\n",
              "      <td>Jaipur</td>\n",
              "      <td>IPL</td>\n",
              "      <td>[2012-04-23]</td>\n",
              "      <td>field</td>\n",
              "      <td>NaN</td>\n",
              "      <td>male</td>\n",
              "      <td>T20</td>\n",
              "      <td>NaN</td>\n",
              "      <td>NaN</td>\n",
              "      <td>20</td>\n",
              "      <td>[AB de Villiers]</td>\n",
              "      <td>NaN</td>\n",
              "      <td>[Rajasthan Royals, Royal Challengers Bangalore]</td>\n",
              "      <td>[Asad Rauf, S Asnani]</td>\n",
              "      <td>Sawai Mansingh Stadium</td>\n",
              "      <td>Royal Challengers Bangalore</td>\n",
              "      <td>Rajasthan Royals</td>\n",
              "      <td>46.0</td>\n",
              "      <td>NaN</td>\n",
              "      <td>2012-04-23</td>\n",
              "      <td>2012</td>\n",
              "    </tr>\n",
              "    <tr>\n",
              "      <th>3</th>\n",
              "      <td>NaN</td>\n",
              "      <td>NaN</td>\n",
              "      <td>TM Dilshan</td>\n",
              "      <td>1.0</td>\n",
              "      <td>Royal Challengers Bangalore</td>\n",
              "      <td>A Chandila</td>\n",
              "      <td>NaN</td>\n",
              "      <td>0.0</td>\n",
              "      <td>NaN</td>\n",
              "      <td>NaN</td>\n",
              "      <td>NaN</td>\n",
              "      <td>inning_1</td>\n",
              "      <td>0.4</td>\n",
              "      <td>548336</td>\n",
              "      <td>NaN</td>\n",
              "      <td>V Kohli</td>\n",
              "      <td>NaN</td>\n",
              "      <td>1.0</td>\n",
              "      <td>NaN</td>\n",
              "      <td>NaN</td>\n",
              "      <td>NaN</td>\n",
              "      <td>NaN</td>\n",
              "      <td>NaN</td>\n",
              "      <td>NaN</td>\n",
              "      <td>{'runs': 46}</td>\n",
              "      <td>Jaipur</td>\n",
              "      <td>IPL</td>\n",
              "      <td>[2012-04-23]</td>\n",
              "      <td>field</td>\n",
              "      <td>NaN</td>\n",
              "      <td>male</td>\n",
              "      <td>T20</td>\n",
              "      <td>NaN</td>\n",
              "      <td>NaN</td>\n",
              "      <td>20</td>\n",
              "      <td>[AB de Villiers]</td>\n",
              "      <td>NaN</td>\n",
              "      <td>[Rajasthan Royals, Royal Challengers Bangalore]</td>\n",
              "      <td>[Asad Rauf, S Asnani]</td>\n",
              "      <td>Sawai Mansingh Stadium</td>\n",
              "      <td>Royal Challengers Bangalore</td>\n",
              "      <td>Rajasthan Royals</td>\n",
              "      <td>46.0</td>\n",
              "      <td>NaN</td>\n",
              "      <td>2012-04-23</td>\n",
              "      <td>2012</td>\n",
              "    </tr>\n",
              "    <tr>\n",
              "      <th>4</th>\n",
              "      <td>NaN</td>\n",
              "      <td>NaN</td>\n",
              "      <td>V Kohli</td>\n",
              "      <td>2.0</td>\n",
              "      <td>Royal Challengers Bangalore</td>\n",
              "      <td>A Chandila</td>\n",
              "      <td>NaN</td>\n",
              "      <td>0.0</td>\n",
              "      <td>NaN</td>\n",
              "      <td>NaN</td>\n",
              "      <td>NaN</td>\n",
              "      <td>inning_1</td>\n",
              "      <td>0.5</td>\n",
              "      <td>548336</td>\n",
              "      <td>NaN</td>\n",
              "      <td>TM Dilshan</td>\n",
              "      <td>NaN</td>\n",
              "      <td>2.0</td>\n",
              "      <td>NaN</td>\n",
              "      <td>NaN</td>\n",
              "      <td>NaN</td>\n",
              "      <td>NaN</td>\n",
              "      <td>NaN</td>\n",
              "      <td>NaN</td>\n",
              "      <td>{'runs': 46}</td>\n",
              "      <td>Jaipur</td>\n",
              "      <td>IPL</td>\n",
              "      <td>[2012-04-23]</td>\n",
              "      <td>field</td>\n",
              "      <td>NaN</td>\n",
              "      <td>male</td>\n",
              "      <td>T20</td>\n",
              "      <td>NaN</td>\n",
              "      <td>NaN</td>\n",
              "      <td>20</td>\n",
              "      <td>[AB de Villiers]</td>\n",
              "      <td>NaN</td>\n",
              "      <td>[Rajasthan Royals, Royal Challengers Bangalore]</td>\n",
              "      <td>[Asad Rauf, S Asnani]</td>\n",
              "      <td>Sawai Mansingh Stadium</td>\n",
              "      <td>Royal Challengers Bangalore</td>\n",
              "      <td>Rajasthan Royals</td>\n",
              "      <td>46.0</td>\n",
              "      <td>NaN</td>\n",
              "      <td>2012-04-23</td>\n",
              "      <td>2012</td>\n",
              "    </tr>\n",
              "  </tbody>\n",
              "</table>\n",
              "</div>"
            ],
            "text/plain": [
              "     0  0_extras     batsman  batsman_runs  ...  runs wickets  match_date  season\n",
              "0  NaN       NaN     V Kohli           0.0  ...  46.0     NaN  2012-04-23    2012\n",
              "1  NaN       NaN     V Kohli           1.0  ...  46.0     NaN  2012-04-23    2012\n",
              "2  NaN       NaN  TM Dilshan           0.0  ...  46.0     NaN  2012-04-23    2012\n",
              "3  NaN       NaN  TM Dilshan           1.0  ...  46.0     NaN  2012-04-23    2012\n",
              "4  NaN       NaN     V Kohli           2.0  ...  46.0     NaN  2012-04-23    2012\n",
              "\n",
              "[5 rows x 46 columns]"
            ]
          },
          "metadata": {
            "tags": []
          },
          "execution_count": 42
        }
      ]
    },
    {
      "cell_type": "code",
      "metadata": {
        "id": "p4lW_m75Gln1",
        "colab_type": "code",
        "colab": {
          "base_uri": "https://localhost:8080/",
          "height": 13275
        },
        "outputId": "33f9d775-8ea2-4ce9-9e18-870a0314d909"
      },
      "source": [
        "!ls -la"
      ],
      "execution_count": 43,
      "outputs": [
        {
          "output_type": "stream",
          "text": [
            "total 40068\n",
            "drwxr-xr-x 2 root root   24576 Jun  9 00:08 .\n",
            "drwxr-xr-x 1 root root    4096 Jun  8 23:50 ..\n",
            "-rw-rw-r-- 1 root root   53349 Apr 17 15:13 1082591.yaml\n",
            "-rw-rw-r-- 1 root root   52204 Apr 17 15:13 1082592.yaml\n",
            "-rw-rw-r-- 1 root root   45395 Apr 17 15:13 1082593.yaml\n",
            "-rw-rw-r-- 1 root root   52280 Apr 17 15:13 1082594.yaml\n",
            "-rw-rw-r-- 1 root root   52883 Apr 17 15:13 1082595.yaml\n",
            "-rw-rw-r-- 1 root root   45681 Apr 17 15:13 1082596.yaml\n",
            "-rw-rw-r-- 1 root root   54254 Apr 17 15:13 1082597.yaml\n",
            "-rw-rw-r-- 1 root root   45152 Apr 17 15:13 1082598.yaml\n",
            "-rw-rw-r-- 1 root root   48478 Apr 17 15:13 1082599.yaml\n",
            "-rw-rw-r-- 1 root root   51036 Apr 17 15:13 1082600.yaml\n",
            "-rw-rw-r-- 1 root root   49744 Apr 17 15:13 1082601.yaml\n",
            "-rw-rw-r-- 1 root root   51827 Apr 17 15:13 1082602.yaml\n",
            "-rw-rw-r-- 1 root root   50070 Apr 17 15:13 1082603.yaml\n",
            "-rw-rw-r-- 1 root root   53423 Apr 17 15:13 1082604.yaml\n",
            "-rw-rw-r-- 1 root root   52949 Apr 17 15:13 1082605.yaml\n",
            "-rw-rw-r-- 1 root root   53353 Apr 17 15:13 1082606.yaml\n",
            "-rw-rw-r-- 1 root root   53935 Apr 17 15:13 1082607.yaml\n",
            "-rw-rw-r-- 1 root root   52234 Apr 17 15:13 1082608.yaml\n",
            "-rw-rw-r-- 1 root root   53355 Apr 17 15:13 1082609.yaml\n",
            "-rw-rw-r-- 1 root root   52255 Apr 17 15:13 1082610.yaml\n",
            "-rw-rw-r-- 1 root root   51889 Apr 17 15:13 1082611.yaml\n",
            "-rw-rw-r-- 1 root root   47391 Apr 17 15:13 1082612.yaml\n",
            "-rw-rw-r-- 1 root root   49628 Apr 17 15:13 1082613.yaml\n",
            "-rw-rw-r-- 1 root root   54200 Apr 17 15:13 1082614.yaml\n",
            "-rw-rw-r-- 1 root root   52025 Apr 17 15:13 1082615.yaml\n",
            "-rw-rw-r-- 1 root root   52065 Apr 17 15:13 1082616.yaml\n",
            "-rw-rw-r-- 1 root root   40518 Apr 17 15:13 1082617.yaml\n",
            "-rw-rw-r-- 1 root root   52667 Apr 17 15:13 1082618.yaml\n",
            "-rw-rw-r-- 1 root root   51178 Apr 17 15:13 1082620.yaml\n",
            "-rw-rw-r-- 1 root root   45988 Apr 17 15:13 1082621.yaml\n",
            "-rw-rw-r-- 1 root root   46607 Apr 17 15:13 1082622.yaml\n",
            "-rw-rw-r-- 1 root root   51757 Apr 17 15:13 1082623.yaml\n",
            "-rw-rw-r-- 1 root root   51961 Apr 17 15:13 1082624.yaml\n",
            "-rw-rw-r-- 1 root root   57575 Apr 17 15:13 1082625.yaml\n",
            "-rw-rw-r-- 1 root root   33721 Apr 17 15:13 1082626.yaml\n",
            "-rw-rw-r-- 1 root root   52991 Apr 17 15:13 1082627.yaml\n",
            "-rw-rw-r-- 1 root root   52279 Apr 17 15:13 1082628.yaml\n",
            "-rw-rw-r-- 1 root root   53028 Apr 17 15:13 1082629.yaml\n",
            "-rw-rw-r-- 1 root root   50566 Apr 17 15:13 1082630.yaml\n",
            "-rw-rw-r-- 1 root root   51608 Apr 17 15:13 1082631.yaml\n",
            "-rw-rw-r-- 1 root root   49947 Apr 17 15:13 1082632.yaml\n",
            "-rw-rw-r-- 1 root root   51442 Apr 17 15:13 1082633.yaml\n",
            "-rw-rw-r-- 1 root root   53508 Apr 17 15:13 1082634.yaml\n",
            "-rw-rw-r-- 1 root root   45874 Apr 17 15:13 1082635.yaml\n",
            "-rw-rw-r-- 1 root root   46197 Apr 17 15:13 1082636.yaml\n",
            "-rw-rw-r-- 1 root root   51224 Apr 17 15:13 1082637.yaml\n",
            "-rw-rw-r-- 1 root root   50882 Apr 17 15:13 1082638.yaml\n",
            "-rw-rw-r-- 1 root root   52828 Apr 17 15:13 1082639.yaml\n",
            "-rw-rw-r-- 1 root root   51844 Apr 17 15:13 1082640.yaml\n",
            "-rw-rw-r-- 1 root root   54124 Apr 17 15:13 1082641.yaml\n",
            "-rw-rw-r-- 1 root root   53273 Apr 17 15:13 1082642.yaml\n",
            "-rw-rw-r-- 1 root root   48520 Apr 17 15:13 1082643.yaml\n",
            "-rw-rw-r-- 1 root root   53901 Apr 17 15:13 1082644.yaml\n",
            "-rw-rw-r-- 1 root root   36784 Apr 17 15:13 1082645.yaml\n",
            "-rw-rw-r-- 1 root root   52997 Apr 17 15:13 1082646.yaml\n",
            "-rw-rw-r-- 1 root root   54299 Apr 17 15:13 1082647.yaml\n",
            "-rw-rw-r-- 1 root root   34206 Apr 17 15:13 1082648.yaml\n",
            "-rw-rw-r-- 1 root root   44474 Apr 17 15:13 1082649.yaml\n",
            "-rw-rw-r-- 1 root root   53388 Apr 17 15:13 1082650.yaml\n",
            "-rw-rw-r-- 1 root root   44693 Apr 19 21:18 1136561.yaml\n",
            "-rw-rw-r-- 1 root root   42338 Apr 19 21:18 1136562.yaml\n",
            "-rw-rw-r-- 1 root root   44391 Apr 19 21:18 1136563.yaml\n",
            "-rw-rw-r-- 1 root root   40635 Apr 19 21:18 1136564.yaml\n",
            "-rw-rw-r-- 1 root root   44117 Apr 19 21:18 1136565.yaml\n",
            "-rw-rw-r-- 1 root root   26564 Apr 19 21:18 1136566.yaml\n",
            "-rw-rw-r-- 1 root root   44661 Apr 19 21:18 1136567.yaml\n",
            "-rw-rw-r-- 1 root root   43322 Apr 19 21:18 1136568.yaml\n",
            "-rw-rw-r-- 1 root root   43460 Apr 19 21:18 1136569.yaml\n",
            "-rw-rw-r-- 1 root root   43995 Apr 19 21:18 1136570.yaml\n",
            "-rw-rw-r-- 1 root root   45566 Apr 19 21:18 1136571.yaml\n",
            "-rw-rw-r-- 1 root root   44550 Apr 19 21:18 1136572.yaml\n",
            "-rw-rw-r-- 1 root root   38936 Apr 19 21:18 1136573.yaml\n",
            "-rw-rw-r-- 1 root root   45611 Apr 19 21:18 1136574.yaml\n",
            "-rw-rw-r-- 1 root root   42623 Apr 19 21:18 1136575.yaml\n",
            "-rw-rw-r-- 1 root root   45031 Apr 19 21:18 1136576.yaml\n",
            "-rw-rw-r-- 1 root root   44195 Apr 19 21:18 1136577.yaml\n",
            "-rw-rw-r-- 1 root root   35294 Apr 19 21:18 1136578.yaml\n",
            "-rw-rw-r-- 1 root root   41916 Apr 19 21:18 1136579.yaml\n",
            "-rw-rw-r-- 1 root root   44243 Apr 19 21:18 1136580.yaml\n",
            "-rw-rw-r-- 1 root root   44927 Apr 19 21:18 1136581.yaml\n",
            "-rw-rw-r-- 1 root root   45203 Apr 19 21:18 1136582.yaml\n",
            "-rw-rw-r-- 1 root root   42699 Apr 19 21:18 1136583.yaml\n",
            "-rw-rw-r-- 1 root root   45804 Apr 19 21:18 1136584.yaml\n",
            "-rw-rw-r-- 1 root root   43454 Apr 19 21:18 1136585.yaml\n",
            "-rw-rw-r-- 1 root root   43773 Apr 19 21:18 1136586.yaml\n",
            "-rw-rw-r-- 1 root root   43834 Apr 19 21:18 1136587.yaml\n",
            "-rw-rw-r-- 1 root root   43299 Apr 19 21:18 1136588.yaml\n",
            "-rw-rw-r-- 1 root root   44153 Apr 19 21:18 1136589.yaml\n",
            "-rw-rw-r-- 1 root root   44293 Apr 19 21:18 1136590.yaml\n",
            "-rw-rw-r-- 1 root root   46243 Apr 19 21:18 1136591.yaml\n",
            "-rw-rw-r-- 1 root root   33040 Apr 19 21:18 1136592.yaml\n",
            "-rw-rw-r-- 1 root root   42377 Apr 19 21:18 1136593.yaml\n",
            "-rw-rw-r-- 1 root root   43011 Apr 19 21:18 1136594.yaml\n",
            "-rw-rw-r-- 1 root root   42265 Apr 19 21:18 1136595.yaml\n",
            "-rw-rw-r-- 1 root root   43391 Apr 19 21:18 1136596.yaml\n",
            "-rw-rw-r-- 1 root root   43899 Apr 19 21:18 1136597.yaml\n",
            "-rw-rw-r-- 1 root root   42244 Apr 19 21:18 1136598.yaml\n",
            "-rw-rw-r-- 1 root root   46103 Apr 19 21:18 1136599.yaml\n",
            "-rw-rw-r-- 1 root root   43733 Apr 19 21:18 1136600.yaml\n",
            "-rw-rw-r-- 1 root root   42762 Apr 19 21:18 1136601.yaml\n",
            "-rw-rw-r-- 1 root root   41228 Apr 19 21:18 1136602.yaml\n",
            "-rw-rw-r-- 1 root root   44930 Apr 19 21:18 1136603.yaml\n",
            "-rw-rw-r-- 1 root root   45625 Apr 19 21:18 1136604.yaml\n",
            "-rw-rw-r-- 1 root root   43733 Apr 19 21:18 1136605.yaml\n",
            "-rw-rw-r-- 1 root root   43763 Apr 19 21:18 1136606.yaml\n",
            "-rw-rw-r-- 1 root root   42798 Apr 19 21:18 1136607.yaml\n",
            "-rw-rw-r-- 1 root root   26232 Apr 19 21:18 1136608.yaml\n",
            "-rw-rw-r-- 1 root root   40475 Apr 19 21:18 1136609.yaml\n",
            "-rw-rw-r-- 1 root root   45276 Apr 19 21:18 1136610.yaml\n",
            "-rw-rw-r-- 1 root root   44560 Apr 19 21:18 1136611.yaml\n",
            "-rw-rw-r-- 1 root root   43510 Apr 19 21:18 1136612.yaml\n",
            "-rw-rw-r-- 1 root root   44025 Apr 19 21:18 1136613.yaml\n",
            "-rw-rw-r-- 1 root root   45617 Apr 19 21:18 1136614.yaml\n",
            "-rw-rw-r-- 1 root root   44766 Apr 19 21:18 1136615.yaml\n",
            "-rw-rw-r-- 1 root root   44550 Apr 19 21:18 1136616.yaml\n",
            "-rw-rw-r-- 1 root root   45146 Apr 19 21:18 1136617.yaml\n",
            "-rw-rw-r-- 1 root root   44657 Apr 19 21:18 1136618.yaml\n",
            "-rw-rw-r-- 1 root root   44428 Apr 19 21:18 1136619.yaml\n",
            "-rw-rw-r-- 1 root root   43419 Apr 19 21:18 1136620.yaml\n",
            "-rw-rw-r-- 1 root root   38451 May 12 23:19 1175356.yaml\n",
            "-rw-rw-r-- 1 root root   43558 May 12 23:19 1175357.yaml\n",
            "-rw-rw-r-- 1 root root   44659 May 12 23:19 1175358.yaml\n",
            "-rw-rw-r-- 1 root root   45497 May 12 23:19 1175359.yaml\n",
            "-rw-rw-r-- 1 root root   43339 Apr 17 15:13 1175360.yaml\n",
            "-rw-rw-r-- 1 root root   44520 May 12 23:19 1175361.yaml\n",
            "-rw-rw-r-- 1 root root   44976 May 12 23:19 1175362.yaml\n",
            "-rw-rw-r-- 1 root root   43233 Apr 17 15:13 1175363.yaml\n",
            "-rw-rw-r-- 1 root root   43466 May 12 23:19 1175364.yaml\n",
            "-rw-rw-r-- 1 root root   46498 May 12 23:19 1175365.yaml\n",
            "-rw-rw-r-- 1 root root   44500 May 12 23:19 1175366.yaml\n",
            "-rw-rw-r-- 1 root root   45024 May 12 23:19 1175367.yaml\n",
            "-rw-rw-r-- 1 root root   44389 May 12 23:19 1175368.yaml\n",
            "-rw-rw-r-- 1 root root   43529 May 12 23:19 1175369.yaml\n",
            "-rw-rw-r-- 1 root root   45384 May 12 23:19 1175370.yaml\n",
            "-rw-rw-r-- 1 root root   42274 May 12 23:19 1175371.yaml\n",
            "-rw-rw-r-- 1 root root   44056 May 12 23:19 1175372.yaml\n",
            "-rw-rw-r-- 1 root root   44118 May 12 23:19 1178393.yaml\n",
            "-rw-rw-r-- 1 root root   42674 May 12 23:19 1178394.yaml\n",
            "-rw-rw-r-- 1 root root   43301 May 12 23:19 1178395.yaml\n",
            "-rw-rw-r-- 1 root root   37859 May 12 23:19 1178396.yaml\n",
            "-rw-rw-r-- 1 root root   43221 Apr 17 15:13 1178397.yaml\n",
            "-rw-rw-r-- 1 root root   42489 May 12 23:19 1178398.yaml\n",
            "-rw-rw-r-- 1 root root   45068 Apr 17 15:13 1178399.yaml\n",
            "-rw-rw-r-- 1 root root   43975 May 12 23:19 1178400.yaml\n",
            "-rw-rw-r-- 1 root root   42677 May 12 23:19 1178401.yaml\n",
            "-rw-rw-r-- 1 root root   43316 May 12 23:19 1178402.yaml\n",
            "-rw-rw-r-- 1 root root   42739 Apr 17 15:13 1178403.yaml\n",
            "-rw-rw-r-- 1 root root   43872 May 12 23:19 1178404.yaml\n",
            "-rw-rw-r-- 1 root root   43435 May 12 23:19 1178405.yaml\n",
            "-rw-rw-r-- 1 root root   43419 Apr 17 15:13 1178406.yaml\n",
            "-rw-rw-r-- 1 root root   45025 Apr 17 15:13 1178407.yaml\n",
            "-rw-rw-r-- 1 root root   40809 May 12 23:19 1178408.yaml\n",
            "-rw-rw-r-- 1 root root   43569 Apr 19 21:18 1178409.yaml\n",
            "-rw-rw-r-- 1 root root   44835 May 12 23:19 1178410.yaml\n",
            "-rw-rw-r-- 1 root root   42181 May 12 23:19 1178411.yaml\n",
            "-rw-rw-r-- 1 root root   44323 Apr 24 21:09 1178412.yaml\n",
            "-rw-rw-r-- 1 root root   39071 Apr 24 21:09 1178413.yaml\n",
            "-rw-rw-r-- 1 root root   43886 May 12 23:19 1178414.yaml\n",
            "-rw-rw-r-- 1 root root   42195 Apr 24 21:09 1178415.yaml\n",
            "-rw-rw-r-- 1 root root   43510 Apr 24 21:09 1178416.yaml\n",
            "-rw-rw-r-- 1 root root   45119 Apr 25 23:14 1178417.yaml\n",
            "-rw-rw-r-- 1 root root   43644 May 12 23:19 1178418.yaml\n",
            "-rw-rw-r-- 1 root root   42224 Apr 28 20:15 1178419.yaml\n",
            "-rw-rw-r-- 1 root root   43336 May 12 23:19 1178420.yaml\n",
            "-rw-rw-r-- 1 root root   43377 May 12 23:19 1178421.yaml\n",
            "-rw-rw-r-- 1 root root   43996 May 12 23:19 1178422.yaml\n",
            "-rw-rw-r-- 1 root root   47159 May 12 23:19 1178423.yaml\n",
            "-rw-rw-r-- 1 root root   10361 May  2 21:04 1178424.yaml\n",
            "-rw-rw-r-- 1 root root   40093 May  7 21:32 1178425.yaml\n",
            "-rw-rw-r-- 1 root root   45247 May  7 21:32 1178426.yaml\n",
            "-rw-rw-r-- 1 root root   42271 May  7 21:32 1178427.yaml\n",
            "-rw-rw-r-- 1 root root   39791 May  7 21:32 1178428.yaml\n",
            "-rw-rw-r-- 1 root root   45721 May  7 21:32 1178429.yaml\n",
            "-rw-rw-r-- 1 root root   42006 May  7 21:32 1178430.yaml\n",
            "-rw-rw-r-- 1 root root   41028 May  7 21:32 1178431.yaml\n",
            "-rw-rw-r-- 1 root root   41942 May  7 21:32 1181764.yaml\n",
            "-rw-rw-r-- 1 root root   45630 May 12 23:19 1181766.yaml\n",
            "-rw-rw-r-- 1 root root   42630 May 12 23:19 1181767.yaml\n",
            "-rw-rw-r-- 1 root root   44665 May 12 23:19 1181768.yaml\n",
            "-rw-rw-r-- 1 root root   48723 Apr 17 15:13 335982.yaml\n",
            "-rw-rw-r-- 1 root root   52733 Apr 17 15:13 335983.yaml\n",
            "-rw-rw-r-- 1 root root   46092 Apr 17 15:13 335984.yaml\n",
            "-rw-rw-r-- 1 root root   52686 Apr 17 15:13 335985.yaml\n",
            "-rw-rw-r-- 1 root root   52427 Apr 17 15:13 335986.yaml\n",
            "-rw-rw-r-- 1 root root   51273 Apr 17 15:13 335987.yaml\n",
            "-rw-rw-r-- 1 root root   43921 Apr 17 15:13 335988.yaml\n",
            "-rw-rw-r-- 1 root root   54783 Apr 17 15:13 335989.yaml\n",
            "-rw-rw-r-- 1 root root   52782 Apr 17 15:13 335990.yaml\n",
            "-rw-rw-r-- 1 root root   54479 Apr 17 15:13 335991.yaml\n",
            "-rw-rw-r-- 1 root root   48457 Apr 17 15:13 335992.yaml\n",
            "-rw-rw-r-- 1 root root   50176 Apr 17 15:13 335993.yaml\n",
            "-rw-rw-r-- 1 root root   43601 Apr 17 15:13 335994.yaml\n",
            "-rw-rw-r-- 1 root root   53983 Apr 17 15:13 335995.yaml\n",
            "-rw-rw-r-- 1 root root   52651 Apr 17 15:13 335996.yaml\n",
            "-rw-rw-r-- 1 root root   52001 Apr 17 15:13 335997.yaml\n",
            "-rw-rw-r-- 1 root root   51224 Apr 17 15:13 335998.yaml\n",
            "-rw-rw-r-- 1 root root   51636 Apr 17 15:13 335999.yaml\n",
            "-rw-rw-r-- 1 root root   53864 Apr 17 15:13 336000.yaml\n",
            "-rw-rw-r-- 1 root root   51579 Apr 17 15:13 336001.yaml\n",
            "-rw-rw-r-- 1 root root   52261 Apr 17 15:13 336002.yaml\n",
            "-rw-rw-r-- 1 root root   53098 Apr 17 15:13 336003.yaml\n",
            "-rw-rw-r-- 1 root root   52044 Apr 17 15:13 336004.yaml\n",
            "-rw-rw-r-- 1 root root   44669 Apr 17 15:13 336005.yaml\n",
            "-rw-rw-r-- 1 root root   51031 Apr 17 15:13 336006.yaml\n",
            "-rw-rw-r-- 1 root root   50483 Apr 17 15:13 336007.yaml\n",
            "-rw-rw-r-- 1 root root   44097 Apr 17 15:13 336008.yaml\n",
            "-rw-rw-r-- 1 root root   53801 Apr 17 15:13 336009.yaml\n",
            "-rw-rw-r-- 1 root root   42001 Apr 17 15:13 336010.yaml\n",
            "-rw-rw-r-- 1 root root   47706 Apr 17 15:13 336011.yaml\n",
            "-rw-rw-r-- 1 root root   46983 Apr 17 15:13 336012.yaml\n",
            "-rw-rw-r-- 1 root root   54301 Apr 17 15:13 336013.yaml\n",
            "-rw-rw-r-- 1 root root   54435 Apr 17 15:13 336014.yaml\n",
            "-rw-rw-r-- 1 root root   53015 Apr 17 15:13 336015.yaml\n",
            "-rw-rw-r-- 1 root root   46721 Apr 17 15:13 336016.yaml\n",
            "-rw-rw-r-- 1 root root   51685 Apr 17 15:13 336017.yaml\n",
            "-rw-rw-r-- 1 root root   47830 Apr 17 15:13 336018.yaml\n",
            "-rw-rw-r-- 1 root root   51755 Apr 17 15:13 336019.yaml\n",
            "-rw-rw-r-- 1 root root   53308 Apr 17 15:13 336020.yaml\n",
            "-rw-rw-r-- 1 root root   30687 Apr 17 15:13 336021.yaml\n",
            "-rw-rw-r-- 1 root root   27107 Apr 17 15:13 336022.yaml\n",
            "-rw-rw-r-- 1 root root   53217 Apr 17 15:13 336023.yaml\n",
            "-rw-rw-r-- 1 root root   55221 Apr 17 15:13 336024.yaml\n",
            "-rw-rw-r-- 1 root root   37200 Apr 17 15:13 336025.yaml\n",
            "-rw-rw-r-- 1 root root   50544 Apr 17 15:13 336026.yaml\n",
            "-rw-rw-r-- 1 root root   47603 Apr 17 15:13 336027.yaml\n",
            "-rw-rw-r-- 1 root root   54682 Apr 17 15:13 336028.yaml\n",
            "-rw-rw-r-- 1 root root   52635 Apr 17 15:13 336029.yaml\n",
            "-rw-rw-r-- 1 root root   52104 Apr 17 15:13 336031.yaml\n",
            "-rw-rw-r-- 1 root root   52958 Apr 17 15:13 336032.yaml\n",
            "-rw-rw-r-- 1 root root   52972 Apr 17 15:13 336033.yaml\n",
            "-rw-rw-r-- 1 root root   51752 Apr 17 15:13 336034.yaml\n",
            "-rw-rw-r-- 1 root root   53119 Apr 17 15:13 336035.yaml\n",
            "-rw-rw-r-- 1 root root   54911 Apr 17 15:13 336036.yaml\n",
            "-rw-rw-r-- 1 root root   54232 Apr 17 15:13 336037.yaml\n",
            "-rw-rw-r-- 1 root root   48687 Apr 17 15:13 336038.yaml\n",
            "-rw-rw-r-- 1 root root   45269 Apr 17 15:13 336039.yaml\n",
            "-rw-rw-r-- 1 root root   53392 Apr 17 15:13 336040.yaml\n",
            "-rw-rw-r-- 1 root root   52761 Apr 17 15:13 392181.yaml\n",
            "-rw-rw-r-- 1 root root   48146 Apr 17 15:13 392182.yaml\n",
            "-rw-rw-r-- 1 root root   23949 Apr 17 15:13 392183.yaml\n",
            "-rw-rw-r-- 1 root root   42457 Apr 17 15:13 392184.yaml\n",
            "-rw-rw-r-- 1 root root   47187 Apr 17 15:13 392185.yaml\n",
            "-rw-rw-r-- 1 root root   40412 Apr 17 15:13 392186.yaml\n",
            "-rw-rw-r-- 1 root root   53239 Apr 17 15:13 392188.yaml\n",
            "-rw-rw-r-- 1 root root   53264 Apr 17 15:13 392189.yaml\n",
            "-rw-rw-r-- 1 root root   58335 Apr 17 15:13 392190.yaml\n",
            "-rw-rw-r-- 1 root root   51817 Apr 17 15:13 392191.yaml\n",
            "-rw-rw-r-- 1 root root   55045 Apr 17 15:13 392192.yaml\n",
            "-rw-rw-r-- 1 root root   52722 Apr 17 15:13 392194.yaml\n",
            "-rw-rw-r-- 1 root root   54729 Apr 17 15:13 392195.yaml\n",
            "-rw-rw-r-- 1 root root   52585 Apr 17 15:13 392196.yaml\n",
            "-rw-rw-r-- 1 root root   47688 Apr 17 15:13 392197.yaml\n",
            "-rw-rw-r-- 1 root root   51367 Apr 17 15:13 392198.yaml\n",
            "-rw-rw-r-- 1 root root   52921 Apr 17 15:13 392199.yaml\n",
            "-rw-rw-r-- 1 root root   54919 Apr 17 15:13 392200.yaml\n",
            "-rw-rw-r-- 1 root root   52490 Apr 17 15:13 392201.yaml\n",
            "-rw-rw-r-- 1 root root   52099 Apr 17 15:13 392202.yaml\n",
            "-rw-rw-r-- 1 root root   54137 Apr 17 15:13 392203.yaml\n",
            "-rw-rw-r-- 1 root root   53578 Apr 17 15:13 392204.yaml\n",
            "-rw-rw-r-- 1 root root   52591 Apr 17 15:13 392205.yaml\n",
            "-rw-rw-r-- 1 root root   52836 Apr 17 15:13 392206.yaml\n",
            "-rw-rw-r-- 1 root root   53109 Apr 17 15:13 392207.yaml\n",
            "-rw-rw-r-- 1 root root   50459 Apr 17 15:13 392208.yaml\n",
            "-rw-rw-r-- 1 root root   45751 Apr 17 15:13 392209.yaml\n",
            "-rw-rw-r-- 1 root root   53946 Apr 17 15:13 392210.yaml\n",
            "-rw-rw-r-- 1 root root   50083 Apr 17 15:13 392211.yaml\n",
            "-rw-rw-r-- 1 root root   52779 Apr 17 15:13 392212.yaml\n",
            "-rw-rw-r-- 1 root root   46473 Apr 17 15:13 392213.yaml\n",
            "-rw-rw-r-- 1 root root   46553 Apr 17 15:13 392214.yaml\n",
            "-rw-rw-r-- 1 root root   53275 Apr 17 15:13 392215.yaml\n",
            "-rw-rw-r-- 1 root root   53356 Apr 17 15:13 392216.yaml\n",
            "-rw-rw-r-- 1 root root   50608 Apr 17 15:13 392217.yaml\n",
            "-rw-rw-r-- 1 root root   54774 Apr 17 15:13 392218.yaml\n",
            "-rw-rw-r-- 1 root root   50598 Apr 17 15:13 392219.yaml\n",
            "-rw-rw-r-- 1 root root   51668 Apr 17 15:13 392220.yaml\n",
            "-rw-rw-r-- 1 root root   52627 Apr 17 15:13 392221.yaml\n",
            "-rw-rw-r-- 1 root root   50221 Apr 17 15:13 392222.yaml\n",
            "-rw-rw-r-- 1 root root   54289 Apr 17 15:13 392223.yaml\n",
            "-rw-rw-r-- 1 root root   52081 Apr 17 15:13 392224.yaml\n",
            "-rw-rw-r-- 1 root root   54716 Apr 17 15:13 392225.yaml\n",
            "-rw-rw-r-- 1 root root   54134 Apr 17 15:13 392226.yaml\n",
            "-rw-rw-r-- 1 root root   51389 Apr 17 15:13 392227.yaml\n",
            "-rw-rw-r-- 1 root root   53126 Apr 17 15:13 392228.yaml\n",
            "-rw-rw-r-- 1 root root   53729 Apr 17 15:13 392229.yaml\n",
            "-rw-rw-r-- 1 root root   53534 Apr 17 15:13 392230.yaml\n",
            "-rw-rw-r-- 1 root root   52359 Apr 17 15:13 392231.yaml\n",
            "-rw-rw-r-- 1 root root   50670 Apr 17 15:13 392232.yaml\n",
            "-rw-rw-r-- 1 root root   51748 Apr 17 15:13 392233.yaml\n",
            "-rw-rw-r-- 1 root root   52608 Apr 17 15:13 392234.yaml\n",
            "-rw-rw-r-- 1 root root   52435 Apr 17 15:13 392235.yaml\n",
            "-rw-rw-r-- 1 root root   52746 Apr 17 15:13 392236.yaml\n",
            "-rw-rw-r-- 1 root root   50877 Apr 17 15:13 392237.yaml\n",
            "-rw-rw-r-- 1 root root   50181 Apr 17 15:13 392238.yaml\n",
            "-rw-rw-r-- 1 root root   53306 Apr 17 15:13 392239.yaml\n",
            "-rw-rw-r-- 1 root root   54427 Apr 17 15:13 419106.yaml\n",
            "-rw-rw-r-- 1 root root   54463 Apr 17 15:13 419107.yaml\n",
            "-rw-rw-r-- 1 root root   53186 Apr 17 15:13 419108.yaml\n",
            "-rw-rw-r-- 1 root root   51368 Apr 17 15:13 419109.yaml\n",
            "-rw-rw-r-- 1 root root   54225 Apr 17 15:13 419110.yaml\n",
            "-rw-rw-r-- 1 root root   49894 Apr 17 15:13 419111.yaml\n",
            "-rw-rw-r-- 1 root root   52272 Apr 17 15:13 419112.yaml\n",
            "-rw-rw-r-- 1 root root   50596 Apr 17 15:13 419113.yaml\n",
            "-rw-rw-r-- 1 root root   50237 Apr 17 15:13 419114.yaml\n",
            "-rw-rw-r-- 1 root root   41452 Apr 17 15:13 419115.yaml\n",
            "-rw-rw-r-- 1 root root   52869 Apr 17 15:13 419116.yaml\n",
            "-rw-rw-r-- 1 root root   52386 Apr 17 15:13 419117.yaml\n",
            "-rw-rw-r-- 1 root root   51754 Apr 17 15:13 419118.yaml\n",
            "-rw-rw-r-- 1 root root   51185 Apr 17 15:13 419119.yaml\n",
            "-rw-rw-r-- 1 root root   51716 Apr 17 15:13 419120.yaml\n",
            "-rw-rw-r-- 1 root root   56196 Apr 17 15:13 419121.yaml\n",
            "-rw-rw-r-- 1 root root   50585 Apr 17 15:13 419122.yaml\n",
            "-rw-rw-r-- 1 root root   53180 Apr 17 15:13 419123.yaml\n",
            "-rw-rw-r-- 1 root root   53111 Apr 17 15:13 419124.yaml\n",
            "-rw-rw-r-- 1 root root   53317 Apr 17 15:13 419125.yaml\n",
            "-rw-rw-r-- 1 root root   47580 Apr 17 15:13 419126.yaml\n",
            "-rw-rw-r-- 1 root root   54612 Apr 17 15:13 419127.yaml\n",
            "-rw-rw-r-- 1 root root   54349 Apr 17 15:13 419128.yaml\n",
            "-rw-rw-r-- 1 root root   52095 Apr 17 15:13 419129.yaml\n",
            "-rw-rw-r-- 1 root root   52410 Apr 17 15:13 419130.yaml\n",
            "-rw-rw-r-- 1 root root   53707 Apr 17 15:13 419131.yaml\n",
            "-rw-rw-r-- 1 root root   54255 Apr 17 15:13 419132.yaml\n",
            "-rw-rw-r-- 1 root root   50959 Apr 17 15:13 419133.yaml\n",
            "-rw-rw-r-- 1 root root   50076 Apr 17 15:13 419134.yaml\n",
            "-rw-rw-r-- 1 root root   53441 Apr 17 15:13 419135.yaml\n",
            "-rw-rw-r-- 1 root root   51684 Apr 17 15:13 419136.yaml\n",
            "-rw-rw-r-- 1 root root   51851 Apr 17 15:13 419137.yaml\n",
            "-rw-rw-r-- 1 root root   51145 Apr 17 15:13 419138.yaml\n",
            "-rw-rw-r-- 1 root root   50947 Apr 17 15:13 419139.yaml\n",
            "-rw-rw-r-- 1 root root   52378 Apr 17 15:13 419140.yaml\n",
            "-rw-rw-r-- 1 root root   54098 Apr 17 15:13 419141.yaml\n",
            "-rw-rw-r-- 1 root root   55882 Apr 17 15:13 419142.yaml\n",
            "-rw-rw-r-- 1 root root   47577 Apr 17 15:13 419143.yaml\n",
            "-rw-rw-r-- 1 root root   53267 Apr 17 15:13 419144.yaml\n",
            "-rw-rw-r-- 1 root root   52933 Apr 17 15:13 419145.yaml\n",
            "-rw-rw-r-- 1 root root   51736 Apr 17 15:13 419146.yaml\n",
            "-rw-rw-r-- 1 root root   51930 Apr 17 15:13 419147.yaml\n",
            "-rw-rw-r-- 1 root root   49658 Apr 17 15:13 419148.yaml\n",
            "-rw-rw-r-- 1 root root   52049 Apr 17 15:13 419149.yaml\n",
            "-rw-rw-r-- 1 root root   54350 Apr 17 15:13 419150.yaml\n",
            "-rw-rw-r-- 1 root root   53607 Apr 17 15:13 419151.yaml\n",
            "-rw-rw-r-- 1 root root   52905 Apr 17 15:13 419152.yaml\n",
            "-rw-rw-r-- 1 root root   45223 Apr 17 15:13 419153.yaml\n",
            "-rw-rw-r-- 1 root root   46541 Apr 17 15:13 419154.yaml\n",
            "-rw-rw-r-- 1 root root   51515 Apr 17 15:13 419155.yaml\n",
            "-rw-rw-r-- 1 root root   53354 Apr 17 15:13 419156.yaml\n",
            "-rw-rw-r-- 1 root root   53294 Apr 17 15:13 419157.yaml\n",
            "-rw-rw-r-- 1 root root   47422 Apr 17 15:13 419158.yaml\n",
            "-rw-rw-r-- 1 root root   51864 Apr 17 15:13 419159.yaml\n",
            "-rw-rw-r-- 1 root root   52129 Apr 17 15:13 419160.yaml\n",
            "-rw-rw-r-- 1 root root   49583 Apr 17 15:13 419161.yaml\n",
            "-rw-rw-r-- 1 root root   55009 Apr 17 15:13 419162.yaml\n",
            "-rw-rw-r-- 1 root root   52261 Apr 17 15:13 419163.yaml\n",
            "-rw-rw-r-- 1 root root   42545 Apr 17 15:13 419164.yaml\n",
            "-rw-rw-r-- 1 root root   53823 Apr 17 15:13 419165.yaml\n",
            "-rw-rw-r-- 1 root root   51441 Apr 17 15:13 501198.yaml\n",
            "-rw-rw-r-- 1 root root   49773 Apr 17 15:13 501199.yaml\n",
            "-rw-rw-r-- 1 root root   52942 Apr 17 15:13 501200.yaml\n",
            "-rw-rw-r-- 1 root root   47418 Apr 17 15:13 501201.yaml\n",
            "-rw-rw-r-- 1 root root   44279 Apr 17 15:13 501202.yaml\n",
            "-rw-rw-r-- 1 root root   52632 Apr 17 15:13 501203.yaml\n",
            "-rw-rw-r-- 1 root root   50655 Apr 17 15:13 501204.yaml\n",
            "-rw-rw-r-- 1 root root   50477 Apr 17 15:13 501205.yaml\n",
            "-rw-rw-r-- 1 root root   50067 Apr 17 15:13 501206.yaml\n",
            "-rw-rw-r-- 1 root root   52872 Apr 17 15:13 501207.yaml\n",
            "-rw-rw-r-- 1 root root   53500 Apr 17 15:13 501208.yaml\n",
            "-rw-rw-r-- 1 root root   50783 Apr 17 15:13 501209.yaml\n",
            "-rw-rw-r-- 1 root root   53352 Apr 17 15:13 501210.yaml\n",
            "-rw-rw-r-- 1 root root   52802 Apr 17 15:13 501211.yaml\n",
            "-rw-rw-r-- 1 root root   50583 Apr 17 15:13 501212.yaml\n",
            "-rw-rw-r-- 1 root root   52683 Apr 17 15:13 501213.yaml\n",
            "-rw-rw-r-- 1 root root   39982 Apr 17 15:13 501214.yaml\n",
            "-rw-rw-r-- 1 root root   41458 Apr 17 15:13 501215.yaml\n",
            "-rw-rw-r-- 1 root root   51660 Apr 17 15:13 501216.yaml\n",
            "-rw-rw-r-- 1 root root   49506 Apr 17 15:13 501218.yaml\n",
            "-rw-rw-r-- 1 root root   53127 Apr 17 15:13 501219.yaml\n",
            "-rw-rw-r-- 1 root root   53177 Apr 17 15:13 501220.yaml\n",
            "-rw-rw-r-- 1 root root   55517 Apr 17 15:13 501221.yaml\n",
            "-rw-rw-r-- 1 root root   50826 Apr 17 15:13 501222.yaml\n",
            "-rw-rw-r-- 1 root root   52844 Apr 17 15:13 501223.yaml\n",
            "-rw-rw-r-- 1 root root   52483 Apr 17 15:13 501224.yaml\n",
            "-rw-rw-r-- 1 root root   44757 Apr 17 15:13 501225.yaml\n",
            "-rw-rw-r-- 1 root root   52679 Apr 17 15:13 501226.yaml\n",
            "-rw-rw-r-- 1 root root   53725 Apr 17 15:13 501227.yaml\n",
            "-rw-rw-r-- 1 root root   52354 Apr 17 15:13 501228.yaml\n",
            "-rw-rw-r-- 1 root root   49952 Apr 17 15:13 501229.yaml\n",
            "-rw-rw-r-- 1 root root   53849 Apr 17 15:13 501230.yaml\n",
            "-rw-rw-r-- 1 root root   49541 Apr 17 15:13 501231.yaml\n",
            "-rw-rw-r-- 1 root root   52058 Apr 17 15:13 501232.yaml\n",
            "-rw-rw-r-- 1 root root   51867 Apr 17 15:13 501233.yaml\n",
            "-rw-rw-r-- 1 root root   49456 Apr 17 15:13 501234.yaml\n",
            "-rw-rw-r-- 1 root root   51283 Apr 17 15:13 501235.yaml\n",
            "-rw-rw-r-- 1 root root   52288 Apr 17 15:13 501236.yaml\n",
            "-rw-rw-r-- 1 root root   51950 Apr 17 15:13 501237.yaml\n",
            "-rw-rw-r-- 1 root root   48898 Apr 17 15:13 501238.yaml\n",
            "-rw-rw-r-- 1 root root   52386 Apr 17 15:13 501239.yaml\n",
            "-rw-rw-r-- 1 root root   49775 Apr 17 15:13 501240.yaml\n",
            "-rw-rw-r-- 1 root root   53791 Apr 17 15:13 501241.yaml\n",
            "-rw-rw-r-- 1 root root   53214 Apr 17 15:13 501242.yaml\n",
            "-rw-rw-r-- 1 root root   52893 Apr 17 15:13 501243.yaml\n",
            "-rw-rw-r-- 1 root root   52033 Apr 17 15:13 501244.yaml\n",
            "-rw-rw-r-- 1 root root   39419 Apr 17 15:13 501245.yaml\n",
            "-rw-rw-r-- 1 root root   54133 Apr 17 15:13 501246.yaml\n",
            "-rw-rw-r-- 1 root root   45130 Apr 17 15:13 501247.yaml\n",
            "-rw-rw-r-- 1 root root   49408 Apr 17 15:13 501248.yaml\n",
            "-rw-rw-r-- 1 root root   51752 Apr 17 15:13 501249.yaml\n",
            "-rw-rw-r-- 1 root root   49544 Apr 17 15:13 501250.yaml\n",
            "-rw-rw-r-- 1 root root   45271 Apr 17 15:13 501251.yaml\n",
            "-rw-rw-r-- 1 root root   47881 Apr 17 15:13 501252.yaml\n",
            "-rw-rw-r-- 1 root root   52187 Apr 17 15:13 501253.yaml\n",
            "-rw-rw-r-- 1 root root   53894 Apr 17 15:13 501254.yaml\n",
            "-rw-rw-r-- 1 root root   34666 Apr 17 15:13 501255.yaml\n",
            "-rw-rw-r-- 1 root root   53972 Apr 17 15:13 501256.yaml\n",
            "-rw-rw-r-- 1 root root   53962 Apr 17 15:13 501257.yaml\n",
            "-rw-rw-r-- 1 root root   34839 Apr 17 15:13 501258.yaml\n",
            "-rw-rw-r-- 1 root root   51525 Apr 17 15:13 501259.yaml\n",
            "-rw-rw-r-- 1 root root   50869 Apr 17 15:13 501260.yaml\n",
            "-rw-rw-r-- 1 root root   52968 Apr 17 15:13 501261.yaml\n",
            "-rw-rw-r-- 1 root root   48317 Apr 17 15:13 501262.yaml\n",
            "-rw-rw-r-- 1 root root   42607 Apr 17 15:13 501263.yaml\n",
            "-rw-rw-r-- 1 root root   51173 Apr 17 15:13 501264.yaml\n",
            "-rw-rw-r-- 1 root root   13577 Apr 17 15:13 501265.yaml\n",
            "-rw-rw-r-- 1 root root   50821 Apr 17 15:13 501266.yaml\n",
            "-rw-rw-r-- 1 root root   53872 Apr 17 15:13 501267.yaml\n",
            "-rw-rw-r-- 1 root root   52336 Apr 17 15:13 501268.yaml\n",
            "-rw-rw-r-- 1 root root   52756 Apr 17 15:13 501269.yaml\n",
            "-rw-rw-r-- 1 root root   53964 Apr 17 15:13 501270.yaml\n",
            "-rw-rw-r-- 1 root root   51574 Apr 17 15:13 501271.yaml\n",
            "-rw-rw-r-- 1 root root   49633 Apr 17 15:13 548306.yaml\n",
            "-rw-rw-r-- 1 root root   30756 Apr 17 15:13 548307.yaml\n",
            "-rw-rw-r-- 1 root root   53585 Apr 17 15:13 548308.yaml\n",
            "-rw-rw-r-- 1 root root   53496 Apr 17 15:13 548309.yaml\n",
            "-rw-rw-r-- 1 root root   53116 Apr 17 15:13 548310.yaml\n",
            "-rw-rw-r-- 1 root root   50310 Apr 17 15:13 548311.yaml\n",
            "-rw-rw-r-- 1 root root   52391 Apr 17 15:13 548312.yaml\n",
            "-rw-rw-r-- 1 root root   53960 Apr 17 15:13 548313.yaml\n",
            "-rw-rw-r-- 1 root root   52079 Apr 17 15:13 548314.yaml\n",
            "-rw-rw-r-- 1 root root   54077 Apr 17 15:13 548315.yaml\n",
            "-rw-rw-r-- 1 root root   43993 Apr 17 15:13 548316.yaml\n",
            "-rw-rw-r-- 1 root root   51440 Apr 17 15:13 548317.yaml\n",
            "-rw-rw-r-- 1 root root   54296 Apr 17 15:13 548318.yaml\n",
            "-rw-rw-r-- 1 root root   48076 Apr 17 15:13 548319.yaml\n",
            "-rw-rw-r-- 1 root root   51965 Apr 17 15:13 548320.yaml\n",
            "-rw-rw-r-- 1 root root   52775 Apr 17 15:13 548321.yaml\n",
            "-rw-rw-r-- 1 root root   51013 Apr 17 15:13 548322.yaml\n",
            "-rw-rw-r-- 1 root root   52704 Apr 17 15:13 548323.yaml\n",
            "-rw-rw-r-- 1 root root   50711 Apr 17 15:13 548324.yaml\n",
            "-rw-rw-r-- 1 root root   46484 Apr 17 15:13 548325.yaml\n",
            "-rw-rw-r-- 1 root root   52554 Apr 17 15:13 548326.yaml\n",
            "-rw-rw-r-- 1 root root   52356 Apr 17 15:13 548327.yaml\n",
            "-rw-rw-r-- 1 root root   47322 Apr 17 15:13 548328.yaml\n",
            "-rw-rw-r-- 1 root root   46660 Apr 17 15:13 548329.yaml\n",
            "-rw-rw-r-- 1 root root   52592 Apr 17 15:13 548330.yaml\n",
            "-rw-rw-r-- 1 root root   53299 Apr 17 15:13 548331.yaml\n",
            "-rw-rw-r-- 1 root root   51323 Apr 17 15:13 548332.yaml\n",
            "-rw-rw-r-- 1 root root   53318 Apr 17 15:13 548333.yaml\n",
            "-rw-rw-r-- 1 root root   52763 Apr 17 15:13 548334.yaml\n",
            "-rw-rw-r-- 1 root root   51297 Apr 17 15:13 548335.yaml\n",
            "-rw-rw-r-- 1 root root   53365 Apr 17 15:13 548336.yaml\n",
            "-rw-rw-r-- 1 root root   45423 Apr 17 15:13 548337.yaml\n",
            "-rw-rw-r-- 1 root root   53090 Apr 17 15:13 548339.yaml\n",
            "-rw-rw-r-- 1 root root   52587 Apr 17 15:13 548341.yaml\n",
            "-rw-rw-r-- 1 root root   54025 Apr 17 15:13 548342.yaml\n",
            "-rw-rw-r-- 1 root root   53657 Apr 17 15:13 548343.yaml\n",
            "-rw-rw-r-- 1 root root   51951 Apr 17 15:13 548344.yaml\n",
            "-rw-rw-r-- 1 root root   51823 Apr 17 15:13 548345.yaml\n",
            "-rw-rw-r-- 1 root root   50526 Apr 17 15:13 548346.yaml\n",
            "-rw-rw-r-- 1 root root   52967 Apr 17 15:13 548347.yaml\n",
            "-rw-rw-r-- 1 root root   52360 Apr 17 15:13 548348.yaml\n",
            "-rw-rw-r-- 1 root root   45550 Apr 17 15:13 548349.yaml\n",
            "-rw-rw-r-- 1 root root   51565 Apr 17 15:13 548350.yaml\n",
            "-rw-rw-r-- 1 root root   53708 Apr 17 15:13 548351.yaml\n",
            "-rw-rw-r-- 1 root root   52359 Apr 17 15:13 548352.yaml\n",
            "-rw-rw-r-- 1 root root   54670 Apr 17 15:13 548353.yaml\n",
            "-rw-rw-r-- 1 root root   53792 Apr 17 15:13 548354.yaml\n",
            "-rw-rw-r-- 1 root root   53307 Apr 17 15:13 548355.yaml\n",
            "-rw-rw-r-- 1 root root   50887 Apr 17 15:13 548356.yaml\n",
            "-rw-rw-r-- 1 root root   52152 Apr 17 15:13 548357.yaml\n",
            "-rw-rw-r-- 1 root root   46620 Apr 17 15:13 548358.yaml\n",
            "-rw-rw-r-- 1 root root   53132 Apr 17 15:13 548359.yaml\n",
            "-rw-rw-r-- 1 root root   49446 Apr 17 15:13 548360.yaml\n",
            "-rw-rw-r-- 1 root root   51680 Apr 17 15:13 548361.yaml\n",
            "-rw-rw-r-- 1 root root   52476 Apr 17 15:13 548362.yaml\n",
            "-rw-rw-r-- 1 root root   50851 Apr 17 15:13 548363.yaml\n",
            "-rw-rw-r-- 1 root root   45830 Apr 17 15:13 548364.yaml\n",
            "-rw-rw-r-- 1 root root   51414 Apr 17 15:13 548365.yaml\n",
            "-rw-rw-r-- 1 root root   52274 Apr 17 15:13 548366.yaml\n",
            "-rw-rw-r-- 1 root root   55210 Apr 17 15:13 548367.yaml\n",
            "-rw-rw-r-- 1 root root   51028 Apr 17 15:13 548368.yaml\n",
            "-rw-rw-r-- 1 root root   50889 Apr 17 15:13 548369.yaml\n",
            "-rw-rw-r-- 1 root root   53343 Apr 17 15:13 548370.yaml\n",
            "-rw-rw-r-- 1 root root   47620 Apr 17 15:13 548371.yaml\n",
            "-rw-rw-r-- 1 root root   52811 Apr 17 15:13 548372.yaml\n",
            "-rw-rw-r-- 1 root root   51399 Apr 17 15:13 548373.yaml\n",
            "-rw-rw-r-- 1 root root   51101 Apr 17 15:13 548374.yaml\n",
            "-rw-rw-r-- 1 root root   52899 Apr 17 15:13 548375.yaml\n",
            "-rw-rw-r-- 1 root root   53545 Apr 17 15:13 548376.yaml\n",
            "-rw-rw-r-- 1 root root   53055 Apr 17 15:13 548377.yaml\n",
            "-rw-rw-r-- 1 root root   53315 Apr 17 15:13 548378.yaml\n",
            "-rw-rw-r-- 1 root root   54024 Apr 17 15:13 548379.yaml\n",
            "-rw-rw-r-- 1 root root   49680 Apr 17 15:13 548380.yaml\n",
            "-rw-rw-r-- 1 root root   52132 Apr 17 15:13 548381.yaml\n",
            "-rw-rw-r-- 1 root root   51435 Apr 17 15:13 597998.yaml\n",
            "-rw-rw-r-- 1 root root   53228 Apr 17 15:13 597999.yaml\n",
            "-rw-rw-r-- 1 root root   50678 Apr 17 15:13 598000.yaml\n",
            "-rw-rw-r-- 1 root root   52829 Apr 17 15:13 598001.yaml\n",
            "-rw-rw-r-- 1 root root   54292 Apr 17 15:13 598002.yaml\n",
            "-rw-rw-r-- 1 root root   42095 Apr 17 15:13 598003.yaml\n",
            "-rw-rw-r-- 1 root root   56625 Apr 17 15:13 598004.yaml\n",
            "-rw-rw-r-- 1 root root   52043 Apr 17 15:13 598005.yaml\n",
            "-rw-rw-r-- 1 root root   53279 Apr 17 15:13 598006.yaml\n",
            "-rw-rw-r-- 1 root root   48459 Apr 17 15:13 598007.yaml\n",
            "-rw-rw-r-- 1 root root   50706 Apr 17 15:13 598008.yaml\n",
            "-rw-rw-r-- 1 root root   50624 Apr 17 15:13 598009.yaml\n",
            "-rw-rw-r-- 1 root root   52073 Apr 17 15:13 598010.yaml\n",
            "-rw-rw-r-- 1 root root   52491 Apr 17 15:13 598011.yaml\n",
            "-rw-rw-r-- 1 root root   54366 Apr 17 15:13 598012.yaml\n",
            "-rw-rw-r-- 1 root root   52791 Apr 17 15:13 598013.yaml\n",
            "-rw-rw-r-- 1 root root   50650 Apr 17 15:13 598014.yaml\n",
            "-rw-rw-r-- 1 root root   51669 Apr 17 15:13 598015.yaml\n",
            "-rw-rw-r-- 1 root root   53586 Apr 17 15:13 598016.yaml\n",
            "-rw-rw-r-- 1 root root   55845 Apr 17 15:13 598017.yaml\n",
            "-rw-rw-r-- 1 root root   51262 Apr 17 15:13 598018.yaml\n",
            "-rw-rw-r-- 1 root root   51862 Apr 17 15:13 598019.yaml\n",
            "-rw-rw-r-- 1 root root   50032 Apr 17 15:13 598020.yaml\n",
            "-rw-rw-r-- 1 root root   50988 Apr 17 15:13 598021.yaml\n",
            "-rw-rw-r-- 1 root root   50788 Apr 17 15:13 598022.yaml\n",
            "-rw-rw-r-- 1 root root   49428 Apr 17 15:13 598023.yaml\n",
            "-rw-rw-r-- 1 root root   48620 Apr 17 15:13 598024.yaml\n",
            "-rw-rw-r-- 1 root root   51568 Apr 17 15:13 598025.yaml\n",
            "-rw-rw-r-- 1 root root   52202 Apr 17 15:13 598026.yaml\n",
            "-rw-rw-r-- 1 root root   53598 Apr 17 15:13 598027.yaml\n",
            "-rw-rw-r-- 1 root root   52442 Apr 17 15:13 598028.yaml\n",
            "-rw-rw-r-- 1 root root   51122 Apr 17 15:13 598029.yaml\n",
            "-rw-rw-r-- 1 root root   52397 Apr 17 15:13 598030.yaml\n",
            "-rw-rw-r-- 1 root root   49946 Apr 17 15:13 598031.yaml\n",
            "-rw-rw-r-- 1 root root   50375 Apr 17 15:13 598032.yaml\n",
            "-rw-rw-r-- 1 root root   53829 Apr 17 15:13 598033.yaml\n",
            "-rw-rw-r-- 1 root root   52161 Apr 17 15:13 598034.yaml\n",
            "-rw-rw-r-- 1 root root   53260 Apr 17 15:13 598035.yaml\n",
            "-rw-rw-r-- 1 root root   52617 Apr 17 15:13 598036.yaml\n",
            "-rw-rw-r-- 1 root root   53827 Apr 17 15:13 598037.yaml\n",
            "-rw-rw-r-- 1 root root   51828 Apr 17 15:13 598038.yaml\n",
            "-rw-rw-r-- 1 root root   49575 Apr 17 15:13 598039.yaml\n",
            "-rw-rw-r-- 1 root root   48900 Apr 17 15:13 598040.yaml\n",
            "-rw-rw-r-- 1 root root   50725 Apr 17 15:13 598041.yaml\n",
            "-rw-rw-r-- 1 root root   52838 Apr 17 15:13 598042.yaml\n",
            "-rw-rw-r-- 1 root root   49333 Apr 17 15:13 598043.yaml\n",
            "-rw-rw-r-- 1 root root   43490 Apr 17 15:13 598044.yaml\n",
            "-rw-rw-r-- 1 root root   50950 Apr 17 15:13 598045.yaml\n",
            "-rw-rw-r-- 1 root root   47375 Apr 17 15:13 598046.yaml\n",
            "-rw-rw-r-- 1 root root   52401 Apr 17 15:13 598047.yaml\n",
            "-rw-rw-r-- 1 root root   50063 Apr 17 15:13 598048.yaml\n",
            "-rw-rw-r-- 1 root root   49835 Apr 17 15:13 598049.yaml\n",
            "-rw-rw-r-- 1 root root   51076 Apr 17 15:13 598050.yaml\n",
            "-rw-rw-r-- 1 root root   53318 Apr 17 15:13 598051.yaml\n",
            "-rw-rw-r-- 1 root root   50401 Apr 17 15:13 598052.yaml\n",
            "-rw-rw-r-- 1 root root   52768 Apr 17 15:13 598053.yaml\n",
            "-rw-rw-r-- 1 root root   52720 Apr 17 15:13 598054.yaml\n",
            "-rw-rw-r-- 1 root root   51017 Apr 17 15:13 598055.yaml\n",
            "-rw-rw-r-- 1 root root   52389 Apr 17 15:13 598056.yaml\n",
            "-rw-rw-r-- 1 root root   51731 Apr 17 15:13 598057.yaml\n",
            "-rw-rw-r-- 1 root root   47551 Apr 17 15:13 598058.yaml\n",
            "-rw-rw-r-- 1 root root   48330 Apr 17 15:13 598059.yaml\n",
            "-rw-rw-r-- 1 root root   52301 Apr 17 15:13 598060.yaml\n",
            "-rw-rw-r-- 1 root root   52099 Apr 17 15:13 598061.yaml\n",
            "-rw-rw-r-- 1 root root   52575 Apr 17 15:13 598062.yaml\n",
            "-rw-rw-r-- 1 root root   53479 Apr 17 15:13 598063.yaml\n",
            "-rw-rw-r-- 1 root root   50482 Apr 17 15:13 598064.yaml\n",
            "-rw-rw-r-- 1 root root   53260 Apr 17 15:13 598065.yaml\n",
            "-rw-rw-r-- 1 root root   52904 Apr 17 15:13 598066.yaml\n",
            "-rw-rw-r-- 1 root root   53417 Apr 17 15:13 598067.yaml\n",
            "-rw-rw-r-- 1 root root   21892 Apr 17 15:13 598068.yaml\n",
            "-rw-rw-r-- 1 root root   51158 Apr 17 15:13 598069.yaml\n",
            "-rw-rw-r-- 1 root root   49582 Apr 17 15:13 598070.yaml\n",
            "-rw-rw-r-- 1 root root   51207 Apr 17 15:13 598071.yaml\n",
            "-rw-rw-r-- 1 root root   52668 Apr 17 15:13 598072.yaml\n",
            "-rw-rw-r-- 1 root root   53702 Apr 17 15:13 598073.yaml\n",
            "-rw-rw-r-- 1 root root   51897 Apr 17 15:13 729279.yaml\n",
            "-rw-rw-r-- 1 root root   48249 Apr 17 15:13 729281.yaml\n",
            "-rw-rw-r-- 1 root root   51594 Apr 17 15:13 729283.yaml\n",
            "-rw-rw-r-- 1 root root   51990 Apr 17 15:13 729285.yaml\n",
            "-rw-rw-r-- 1 root root   49362 Apr 17 15:13 729287.yaml\n",
            "-rw-rw-r-- 1 root root   53960 Apr 17 15:13 729289.yaml\n",
            "-rw-rw-r-- 1 root root   50412 Apr 17 15:13 729291.yaml\n",
            "-rw-rw-r-- 1 root root   47455 Apr 17 15:13 729293.yaml\n",
            "-rw-rw-r-- 1 root root   52553 Apr 17 15:13 729295.yaml\n",
            "-rw-rw-r-- 1 root root   53268 Apr 17 15:13 729297.yaml\n",
            "-rw-rw-r-- 1 root root   52657 Apr 17 15:13 729299.yaml\n",
            "-rw-rw-r-- 1 root root   51046 Apr 17 15:13 729301.yaml\n",
            "-rw-rw-r-- 1 root root   50528 Apr 17 15:13 729303.yaml\n",
            "-rw-rw-r-- 1 root root   36909 Apr 17 15:13 729305.yaml\n",
            "-rw-rw-r-- 1 root root   50903 Apr 17 15:13 729307.yaml\n",
            "-rw-rw-r-- 1 root root   50786 Apr 17 15:13 729309.yaml\n",
            "-rw-rw-r-- 1 root root   50638 Apr 17 15:13 729311.yaml\n",
            "-rw-rw-r-- 1 root root   51214 Apr 17 15:13 729313.yaml\n",
            "-rw-rw-r-- 1 root root   56610 Apr 17 15:13 729315.yaml\n",
            "-rw-rw-r-- 1 root root   53351 Apr 17 15:13 729317.yaml\n",
            "-rw-rw-r-- 1 root root   44398 Apr 17 15:13 733971.yaml\n",
            "-rw-rw-r-- 1 root root   51676 Apr 17 15:13 733973.yaml\n",
            "-rw-rw-r-- 1 root root   49324 Apr 17 15:13 733975.yaml\n",
            "-rw-rw-r-- 1 root root   53257 Apr 17 15:13 733977.yaml\n",
            "-rw-rw-r-- 1 root root   53530 Apr 17 15:13 733979.yaml\n",
            "-rw-rw-r-- 1 root root   51359 Apr 17 15:13 733981.yaml\n",
            "-rw-rw-r-- 1 root root   53968 Apr 17 15:13 733983.yaml\n",
            "-rw-rw-r-- 1 root root   49200 Apr 17 15:13 733985.yaml\n",
            "-rw-rw-r-- 1 root root   52917 Apr 17 15:13 733987.yaml\n",
            "-rw-rw-r-- 1 root root   53119 Apr 17 15:13 733989.yaml\n",
            "-rw-rw-r-- 1 root root   55331 Apr 17 15:13 733991.yaml\n",
            "-rw-rw-r-- 1 root root   32734 Apr 17 15:13 733993.yaml\n",
            "-rw-rw-r-- 1 root root   52606 Apr 17 15:13 733995.yaml\n",
            "-rw-rw-r-- 1 root root   48997 Apr 17 15:13 733997.yaml\n",
            "-rw-rw-r-- 1 root root   51763 Apr 17 15:13 733999.yaml\n",
            "-rw-rw-r-- 1 root root   49977 Apr 17 15:13 734001.yaml\n",
            "-rw-rw-r-- 1 root root   52583 Apr 17 15:13 734003.yaml\n",
            "-rw-rw-r-- 1 root root   53294 Apr 17 15:13 734005.yaml\n",
            "-rw-rw-r-- 1 root root   50890 Apr 17 15:13 734007.yaml\n",
            "-rw-rw-r-- 1 root root   51219 Apr 17 15:13 734009.yaml\n",
            "-rw-rw-r-- 1 root root   53903 Apr 17 15:13 734011.yaml\n",
            "-rw-rw-r-- 1 root root   51592 Apr 17 15:13 734013.yaml\n",
            "-rw-rw-r-- 1 root root   51685 Apr 17 15:13 734015.yaml\n",
            "-rw-rw-r-- 1 root root   53520 Apr 17 15:13 734017.yaml\n",
            "-rw-rw-r-- 1 root root   54523 Apr 17 15:13 734019.yaml\n",
            "-rw-rw-r-- 1 root root   51693 Apr 17 15:13 734021.yaml\n",
            "-rw-rw-r-- 1 root root   49000 Apr 17 15:13 734023.yaml\n",
            "-rw-rw-r-- 1 root root   51497 Apr 17 15:13 734025.yaml\n",
            "-rw-rw-r-- 1 root root   53049 Apr 17 15:13 734027.yaml\n",
            "-rw-rw-r-- 1 root root   50304 Apr 17 15:13 734029.yaml\n",
            "-rw-rw-r-- 1 root root   52301 Apr 17 15:13 734031.yaml\n",
            "-rw-rw-r-- 1 root root   52507 Apr 17 15:13 734033.yaml\n",
            "-rw-rw-r-- 1 root root   48496 Apr 17 15:13 734035.yaml\n",
            "-rw-rw-r-- 1 root root   46661 Apr 17 15:13 734037.yaml\n",
            "-rw-rw-r-- 1 root root   43404 Apr 17 15:13 734039.yaml\n",
            "-rw-rw-r-- 1 root root   45922 Apr 17 15:13 734041.yaml\n",
            "-rw-rw-r-- 1 root root   52927 Apr 17 15:13 734043.yaml\n",
            "-rw-rw-r-- 1 root root   50848 Apr 17 15:13 734045.yaml\n",
            "-rw-rw-r-- 1 root root   54936 Apr 17 15:13 734047.yaml\n",
            "-rw-rw-r-- 1 root root   51819 Apr 17 15:13 734049.yaml\n",
            "-rw-rw-r-- 1 root root   49564 Apr 17 15:13 829705.yaml\n",
            "-rw-rw-r-- 1 root root   53447 Apr 17 15:13 829707.yaml\n",
            "-rw-rw-r-- 1 root root   55128 Apr 17 15:13 829709.yaml\n",
            "-rw-rw-r-- 1 root root   53496 Apr 17 15:13 829711.yaml\n",
            "-rw-rw-r-- 1 root root   50850 Apr 17 15:13 829713.yaml\n",
            "-rw-rw-r-- 1 root root   53447 Apr 17 15:13 829715.yaml\n",
            "-rw-rw-r-- 1 root root   53214 Apr 17 15:13 829717.yaml\n",
            "-rw-rw-r-- 1 root root   50455 Apr 17 15:13 829719.yaml\n",
            "-rw-rw-r-- 1 root root   50654 Apr 17 15:13 829721.yaml\n",
            "-rw-rw-r-- 1 root root   52279 Apr 17 15:13 829723.yaml\n",
            "-rw-rw-r-- 1 root root   54351 Apr 17 15:13 829725.yaml\n",
            "-rw-rw-r-- 1 root root   52313 Apr 17 15:13 829727.yaml\n",
            "-rw-rw-r-- 1 root root   50538 Apr 17 15:13 829729.yaml\n",
            "-rw-rw-r-- 1 root root   52455 Apr 17 15:13 829731.yaml\n",
            "-rw-rw-r-- 1 root root   49926 Apr 17 15:13 829733.yaml\n",
            "-rw-rw-r-- 1 root root   48507 Apr 17 15:13 829735.yaml\n",
            "-rw-rw-r-- 1 root root   56824 Apr 17 15:13 829737.yaml\n",
            "-rw-rw-r-- 1 root root   50975 Apr 17 15:13 829739.yaml\n",
            "-rw-rw-r-- 1 root root   55422 Apr 17 15:13 829741.yaml\n",
            "-rw-rw-r-- 1 root root   41173 Apr 17 15:13 829743.yaml\n",
            "-rw-rw-r-- 1 root root   52075 Apr 17 15:13 829745.yaml\n",
            "-rw-rw-r-- 1 root root   55055 Apr 17 15:13 829747.yaml\n",
            "-rw-rw-r-- 1 root root   46665 Apr 17 15:13 829749.yaml\n",
            "-rw-rw-r-- 1 root root   54348 Apr 17 15:13 829751.yaml\n",
            "-rw-rw-r-- 1 root root   52984 Apr 17 15:13 829753.yaml\n",
            "-rw-rw-r-- 1 root root   38794 Apr 17 15:13 829757.yaml\n",
            "-rw-rw-r-- 1 root root   52214 Apr 17 15:13 829759.yaml\n",
            "-rw-rw-r-- 1 root root   53102 Apr 17 15:13 829761.yaml\n",
            "-rw-rw-r-- 1 root root   28439 Apr 17 15:13 829763.yaml\n",
            "-rw-rw-r-- 1 root root   53876 Apr 17 15:13 829765.yaml\n",
            "-rw-rw-r-- 1 root root   45086 Apr 17 15:13 829767.yaml\n",
            "-rw-rw-r-- 1 root root   54494 Apr 17 15:13 829769.yaml\n",
            "-rw-rw-r-- 1 root root   27714 Apr 17 15:13 829771.yaml\n",
            "-rw-rw-r-- 1 root root   52544 Apr 17 15:13 829773.yaml\n",
            "-rw-rw-r-- 1 root root   52708 Apr 17 15:13 829775.yaml\n",
            "-rw-rw-r-- 1 root root   54178 Apr 17 15:13 829777.yaml\n",
            "-rw-rw-r-- 1 root root   52274 Apr 17 15:13 829779.yaml\n",
            "-rw-rw-r-- 1 root root   52670 Apr 17 15:13 829781.yaml\n",
            "-rw-rw-r-- 1 root root   52279 Apr 17 15:13 829783.yaml\n",
            "-rw-rw-r-- 1 root root   45457 Apr 17 15:13 829785.yaml\n",
            "-rw-rw-r-- 1 root root   52285 Apr 17 15:13 829787.yaml\n",
            "-rw-rw-r-- 1 root root   50402 Apr 17 15:13 829789.yaml\n",
            "-rw-rw-r-- 1 root root   52540 Apr 17 15:13 829791.yaml\n",
            "-rw-rw-r-- 1 root root   51494 Apr 17 15:13 829793.yaml\n",
            "-rw-rw-r-- 1 root root   52817 Apr 17 15:13 829795.yaml\n",
            "-rw-rw-r-- 1 root root   52990 Apr 17 15:13 829797.yaml\n",
            "-rw-rw-r-- 1 root root   53124 Apr 17 15:13 829799.yaml\n",
            "-rw-rw-r-- 1 root root   46167 Apr 17 15:13 829801.yaml\n",
            "-rw-rw-r-- 1 root root   28134 Apr 17 15:13 829803.yaml\n",
            "-rw-rw-r-- 1 root root   55213 Apr 17 15:13 829805.yaml\n",
            "-rw-rw-r-- 1 root root   23268 Apr 17 15:13 829807.yaml\n",
            "-rw-rw-r-- 1 root root   48697 Apr 17 15:13 829809.yaml\n",
            "-rw-rw-r-- 1 root root   56476 Apr 17 15:13 829811.yaml\n",
            "-rw-rw-r-- 1 root root   27513 Apr 17 15:13 829813.yaml\n",
            "-rw-rw-r-- 1 root root   45887 Apr 17 15:13 829815.yaml\n",
            "-rw-rw-r-- 1 root root   53854 Apr 17 15:13 829817.yaml\n",
            "-rw-rw-r-- 1 root root   52378 Apr 17 15:13 829819.yaml\n",
            "-rw-rw-r-- 1 root root   52500 Apr 17 15:13 829821.yaml\n",
            "-rw-rw-r-- 1 root root   52495 Apr 17 15:13 829823.yaml\n",
            "-rw-rw-r-- 1 root root   46911 Apr 17 15:13 980901.yaml\n",
            "-rw-rw-r-- 1 root root   42873 Apr 17 15:13 980903.yaml\n",
            "-rw-rw-r-- 1 root root   49175 Apr 17 15:13 980905.yaml\n",
            "-rw-rw-r-- 1 root root   53771 Apr 17 15:13 980907.yaml\n",
            "-rw-rw-r-- 1 root root   52565 Apr 17 15:13 980909.yaml\n",
            "-rw-rw-r-- 1 root root   49362 Apr 17 15:13 980911.yaml\n",
            "-rw-rw-r-- 1 root root   43731 Apr 17 15:13 980913.yaml\n",
            "-rw-rw-r-- 1 root root   51123 Apr 17 15:13 980915.yaml\n",
            "-rw-rw-r-- 1 root root   54113 Apr 17 15:13 980917.yaml\n",
            "-rw-rw-r-- 1 root root   50365 Apr 17 15:13 980919.yaml\n",
            "-rw-rw-r-- 1 root root   51257 Apr 17 15:13 980921.yaml\n",
            "-rw-rw-r-- 1 root root   50184 Apr 17 15:13 980923.yaml\n",
            "-rw-rw-r-- 1 root root   49243 Apr 17 15:13 980925.yaml\n",
            "-rw-rw-r-- 1 root root   50790 Apr 17 15:13 980927.yaml\n",
            "-rw-rw-r-- 1 root root   45716 Apr 17 15:13 980929.yaml\n",
            "-rw-rw-r-- 1 root root   54476 Apr 17 15:13 980931.yaml\n",
            "-rw-rw-r-- 1 root root   53380 Apr 17 15:13 980933.yaml\n",
            "-rw-rw-r-- 1 root root   49691 Apr 17 15:13 980935.yaml\n",
            "-rw-rw-r-- 1 root root   51645 Apr 17 15:13 980937.yaml\n",
            "-rw-rw-r-- 1 root root   51853 Apr 17 15:13 980939.yaml\n",
            "-rw-rw-r-- 1 root root   52538 Apr 17 15:13 980941.yaml\n",
            "-rw-rw-r-- 1 root root   42124 Apr 17 15:13 980943.yaml\n",
            "-rw-rw-r-- 1 root root   50836 Apr 17 15:13 980945.yaml\n",
            "-rw-rw-r-- 1 root root   49400 Apr 17 15:13 980947.yaml\n",
            "-rw-rw-r-- 1 root root   53083 Apr 17 15:13 980949.yaml\n",
            "-rw-rw-r-- 1 root root   52005 Apr 17 15:13 980951.yaml\n",
            "-rw-rw-r-- 1 root root   53036 Apr 17 15:13 980953.yaml\n",
            "-rw-rw-r-- 1 root root   52849 Apr 17 15:13 980955.yaml\n",
            "-rw-rw-r-- 1 root root   50843 Apr 17 15:13 980957.yaml\n",
            "-rw-rw-r-- 1 root root   52525 Apr 17 15:13 980959.yaml\n",
            "-rw-rw-r-- 1 root root   48133 Apr 17 15:13 980961.yaml\n",
            "-rw-rw-r-- 1 root root   53100 Apr 17 15:13 980963.yaml\n",
            "-rw-rw-r-- 1 root root   52636 Apr 17 15:13 980965.yaml\n",
            "-rw-rw-r-- 1 root root   51443 Apr 17 15:13 980967.yaml\n",
            "-rw-rw-r-- 1 root root   51202 Apr 17 15:13 980969.yaml\n",
            "-rw-rw-r-- 1 root root   51977 Apr 17 15:13 980971.yaml\n",
            "-rw-rw-r-- 1 root root   49150 Apr 17 15:13 980973.yaml\n",
            "-rw-rw-r-- 1 root root   49376 Apr 17 15:13 980975.yaml\n",
            "-rw-rw-r-- 1 root root   52211 Apr 17 15:13 980977.yaml\n",
            "-rw-rw-r-- 1 root root   52652 Apr 17 15:13 980979.yaml\n",
            "-rw-rw-r-- 1 root root   52050 Apr 17 15:13 980981.yaml\n",
            "-rw-rw-r-- 1 root root   50410 Apr 17 15:13 980983.yaml\n",
            "-rw-rw-r-- 1 root root   48621 Apr 17 15:13 980985.yaml\n",
            "-rw-rw-r-- 1 root root   51571 Apr 17 15:13 980987.yaml\n",
            "-rw-rw-r-- 1 root root   30811 Apr 17 15:13 980989.yaml\n",
            "-rw-rw-r-- 1 root root   51411 Apr 17 15:13 980991.yaml\n",
            "-rw-rw-r-- 1 root root   50640 Apr 17 15:13 980993.yaml\n",
            "-rw-rw-r-- 1 root root   50758 Apr 17 15:13 980995.yaml\n",
            "-rw-rw-r-- 1 root root   40622 Apr 17 15:13 980997.yaml\n",
            "-rw-rw-r-- 1 root root   40227 Apr 17 15:13 980999.yaml\n",
            "-rw-rw-r-- 1 root root   45841 Apr 17 15:13 981001.yaml\n",
            "-rw-rw-r-- 1 root root   52399 Apr 17 15:13 981003.yaml\n",
            "-rw-rw-r-- 1 root root   53395 Apr 17 15:13 981005.yaml\n",
            "-rw-rw-r-- 1 root root   50437 Apr 17 15:13 981007.yaml\n",
            "-rw-rw-r-- 1 root root   53307 Apr 17 15:13 981009.yaml\n",
            "-rw-rw-r-- 1 root root   49692 Apr 17 15:13 981011.yaml\n",
            "-rw-rw-r-- 1 root root   52396 Apr 17 15:13 981013.yaml\n",
            "-rw-rw-r-- 1 root root   52647 Apr 17 15:13 981015.yaml\n",
            "-rw-rw-r-- 1 root root   51453 Apr 17 15:13 981017.yaml\n",
            "-rw-rw-r-- 1 root root   53966 Apr 17 15:13 981019.yaml\n",
            "-rw-r--r-- 1 root root 2060580 Jun  8 23:50 ipl-2008-to-2019.zip\n",
            "-rw-r--r-- 1 root root   35632 Jun  9 00:19 output.json\n",
            "-rw-rw-rw- 1 root root   64011 May 12 23:22 README.txt\n"
          ],
          "name": "stdout"
        }
      ]
    },
    {
      "cell_type": "code",
      "metadata": {
        "id": "znJQ6PreKXW3",
        "colab_type": "code",
        "colab": {}
      },
      "source": [
        "overs = {'0.1': '1','0.2': '1', '0.3': '1', '0.4': '1', '0.5': '1', '0.6': '1', '0.7': '1', '0.8': '1', '0.9': '1',\\\n",
        "         '1.1': '2','1.2': '2', '1.3': '2', '1.4': '2', '1.5': '2', '1.6': '2', '1.7': '2', '1.8': '2', '1.9': '2',\\\n",
        "         '2.1': '3','2.2': '3', '2.3': '3', '2.4': '3', '2.5': '3', '2.6': '3', '2.7': '3', '2.8': '3', '2.9': '3',\\\n",
        "         '3.1': '4','3.2': '4', '3.3': '4', '3.4': '4', '3.5': '4', '3.6': '4', '3.7': '4', '3.8': '4', '3.9': '4',\\\n",
        "         '4.1': '5','4.2': '5', '4.3': '5', '4.4': '5', '4.5': '5', '4.6': '5', '4.7': '5', '4.8': '5', '4.9': '5',\\\n",
        "         '5.1': '6','5.2': '6', '5.3': '6', '5.4': '6', '5.5': '6', '5.6': '6', '5.7': '6', '5.8': '6', '5.9': '6',\\\n",
        "         '6.1': '7','6.2': '7', '6.3': '7', '6.4': '7', '6.5': '7', '6.6': '7', '6.7': '7', '6.8': '7', '6.9': '7',\\\n",
        "         '7.1': '8','7.2': '8', '7.3': '8', '7.4': '8', '7.5': '8', '7.6': '8', '7.7': '8', '7.8': '8', '7.9': '8',\\\n",
        "         '8.1': '9','8.2': '9', '8.3': '9', '8.4': '9', '8.5': '9', '8.6': '9', '8.7': '9', '8.8': '9', '8.9': '9',\\\n",
        "         '9.1': '10','9.2': '10', '9.3': '10', '9.4': '10', '9.5': '10', '9.6': '10', '9.7': '10', '9.8': '10', '9.9': '10',\\\n",
        "         '10.1': '11','10.2': '11', '10.3': '11', '10.4': '11', '10.5': '11', '10.6': '11', '10.7': '11', '10.8': '11', '10.9': '11',\\\n",
        "         '11.1': '12','11.2': '12', '11.3': '12', '11.4': '12', '11.5': '12', '11.6': '12', '11.7': '12', '11.8': '12', '11.9': '12',\\\n",
        "         '12.1': '13','12.2': '13', '12.3': '13', '12.4': '13', '12.5': '13', '12.6': '13', '12.7': '13', '12.8': '13', '12.9': '13',\\\n",
        "         '13.1': '14','13.2': '14', '13.3': '14', '13.4': '14', '13.5': '14', '13.6': '14', '13.7': '14', '13.8': '14', '13.9': '14',\\\n",
        "         '14.1': '15','14.2': '15', '14.3': '15', '14.4': '15', '14.5': '15', '14.6': '15', '14.7': '15', '14.8': '15', '14.9': '15',\\\n",
        "         '15.1': '16','15.2': '16', '15.3': '16', '15.4': '16', '15.5': '16', '15.6': '16', '15.7': '16', '15.8': '16', '15.9': '16',\\\n",
        "         '16.1': '17','16.2': '17', '16.3': '17', '16.4': '17', '16.5': '17', '16.6': '17', '16.7': '17', '16.8': '17', '16.9': '17',\\\n",
        "         '17.1': '18','17.2': '18', '17.3': '18', '17.4': '18', '17.5': '18', '17.6': '18', '17.7': '18', '17.8': '18', '17.9': '18',\\\n",
        "         '18.1': '19','18.2': '19', '18.3': '19', '18.4': '19', '18.5': '19', '18.6': '19', '18.7': '19', '18.8': '19', '18.9': '19',\\\n",
        "         '19.1': '20','19.2': '20', '19.3': '20', '19.4': '20', '19.5': '20', '19.6': '20', '19.7': '20', '19.8': '20', '19.9': '20',\\\n",
        "        }"
      ],
      "execution_count": 0,
      "outputs": []
    },
    {
      "cell_type": "code",
      "metadata": {
        "id": "rCzTs8L9OuPt",
        "colab_type": "code",
        "colab": {}
      },
      "source": [
        "df_combined['over'] = df_combined['level_1'].map(overs)"
      ],
      "execution_count": 0,
      "outputs": []
    },
    {
      "cell_type": "code",
      "metadata": {
        "id": "TrpMPkoWJ06I",
        "colab_type": "code",
        "colab": {
          "base_uri": "https://localhost:8080/",
          "height": 399
        },
        "outputId": "4f2ee262-e051-46f8-b1a2-fd6e190e15d0"
      },
      "source": [
        "df_combined['level_1'].unique()"
      ],
      "execution_count": 46,
      "outputs": [
        {
          "output_type": "execute_result",
          "data": {
            "text/plain": [
              "array(['0.1', '0.2', '0.3', '0.4', '0.5', '0.6', '1.1', '1.2', '1.3',\n",
              "       '1.4', '1.5', '1.6', '2.1', '2.2', '2.3', '2.4', '2.5', '2.6',\n",
              "       '3.1', '3.2', '3.3', '3.4', '3.5', '3.6', '4.1', '4.2', '4.3',\n",
              "       '4.4', '4.5', '4.6', '5.1', '5.2', '5.3', '5.4', '5.5', '5.6',\n",
              "       '6.1', '6.2', '6.3', '6.4', '6.5', '6.6', '7.1', '7.2', '7.3',\n",
              "       '7.4', '7.5', '7.6', '8.1', '8.2', '8.3', '8.4', '8.5', '8.6',\n",
              "       '9.1', '9.2', '9.3', '9.4', '9.5', '9.6', '10.1', '10.2', '10.3',\n",
              "       '10.4', '10.5', '10.6', '11.1', '11.2', '11.3', '11.4', '11.5',\n",
              "       '11.6', '11.7', '12.1', '12.2', '12.3', '12.4', '12.5', '12.6',\n",
              "       '13.1', '13.2', '13.3', '13.4', '13.5', '13.6', '14.1', '14.2',\n",
              "       '14.3', '14.4', '14.5', '14.6', '15.1', '15.2', '15.3', '15.4',\n",
              "       '15.5', '15.6', '16.1', '16.2', '16.3', '16.4', '16.5', '16.6',\n",
              "       '16.7', '17.1', '17.2', '17.3', '17.4', '17.5', '17.6', '17.7',\n",
              "       '18.1', '18.2', '18.3', '18.4', '18.5', '18.6', '18.7', '19.1',\n",
              "       '19.2', '19.3', '19.4', '19.5', '19.6', '19.7', '0.7', '0.8',\n",
              "       '14.7', '1.7', '1.8', '5.7', '5.8', '6.7', '6.8', '8.7', '2.7',\n",
              "       '7.7', '9.7', '11.8', '11.9', '15.7', '0.9', '12.7', '4.7', '10.7',\n",
              "       '13.7', '18.8', '3.7', '7.8', '17.8', '19.8', '10.8', '16.8',\n",
              "       '2.8', '9.8', '15.8', '9.9', '12.8', '2.9', '1.9', '3.8', '3.9',\n",
              "       '13.8', '16.9', '8.8', '8.9', '4.8', '12.9', '14.8', '18.9',\n",
              "       '19.9', '10.9', '14.9', '13.9', '7.9', '17.9', '6.9', '4.9', '5.9',\n",
              "       '15.9'], dtype=object)"
            ]
          },
          "metadata": {
            "tags": []
          },
          "execution_count": 46
        }
      ]
    },
    {
      "cell_type": "code",
      "metadata": {
        "id": "vDCKXKpayMhj",
        "colab_type": "code",
        "colab": {
          "base_uri": "https://localhost:8080/",
          "height": 921
        },
        "outputId": "4cc3e07b-a633-4c21-b1ed-bce18dd8cfdc"
      },
      "source": [
        "df_combined.info()"
      ],
      "execution_count": 47,
      "outputs": [
        {
          "output_type": "stream",
          "text": [
            "<class 'pandas.core.frame.DataFrame'>\n",
            "Int64Index: 176711 entries, 0 to 245\n",
            "Data columns (total 47 columns):\n",
            "0                  0 non-null object\n",
            "0_extras           0 non-null float64\n",
            "batsman            176702 non-null object\n",
            "batsman_runs       176702 non-null float64\n",
            "batting_team       176711 non-null object\n",
            "bowler             176702 non-null object\n",
            "byes               476 non-null float64\n",
            "extras_runs        176061 non-null float64\n",
            "fielders           6245 non-null object\n",
            "kind               8702 non-null object\n",
            "legbyes            2897 non-null float64\n",
            "level_0            176711 non-null object\n",
            "level_1            176711 non-null object\n",
            "match_id           176711 non-null object\n",
            "noballs            702 non-null float64\n",
            "non_striker        176702 non-null object\n",
            "player_out         8702 non-null object\n",
            "total              176702 non-null float64\n",
            "wides              5337 non-null float64\n",
            "0                  0 non-null float64\n",
            "0_wickets          0 non-null float64\n",
            "non_boundary       14 non-null float64\n",
            "extras             641 non-null float64\n",
            "penalty            2 non-null float64\n",
            "by                 176339 non-null object\n",
            "city               173573 non-null object\n",
            "competition        176711 non-null object\n",
            "dates              176711 non-null object\n",
            "decision           176711 non-null object\n",
            "eliminator         0 non-null object\n",
            "gender             176711 non-null object\n",
            "match_type         176711 non-null object\n",
            "method             3208 non-null object\n",
            "neutral_venue      17839 non-null object\n",
            "overs              176711 non-null object\n",
            "player_of_match    176339 non-null object\n",
            "result             372 non-null object\n",
            "teams              176711 non-null object\n",
            "umpires            176463 non-null object\n",
            "venue              176711 non-null object\n",
            "winner             176711 non-null object\n",
            "winner_toss        176339 non-null object\n",
            "runs               81617 non-null float64\n",
            "wickets            94722 non-null float64\n",
            "match_date         176711 non-null datetime64[ns]\n",
            "season             176711 non-null int64\n",
            "over               176711 non-null object\n",
            "dtypes: datetime64[ns](1), float64(15), int64(1), object(30)\n",
            "memory usage: 64.7+ MB\n"
          ],
          "name": "stdout"
        }
      ]
    },
    {
      "cell_type": "code",
      "metadata": {
        "id": "I2tXsTpq7aEu",
        "colab_type": "code",
        "colab": {}
      },
      "source": [
        "df_ipl_summary.to_csv('ipl_summary.csv')"
      ],
      "execution_count": 0,
      "outputs": []
    },
    {
      "cell_type": "code",
      "metadata": {
        "id": "4_ESidglICLE",
        "colab_type": "code",
        "colab": {}
      },
      "source": [
        "df_combined.to_csv('ball_by_ball_details.csv')"
      ],
      "execution_count": 0,
      "outputs": []
    },
    {
      "cell_type": "code",
      "metadata": {
        "id": "tbKCM2NKrWB6",
        "colab_type": "code",
        "colab": {
          "base_uri": "https://localhost:8080/",
          "height": 69
        },
        "outputId": "219ecf00-1f33-4e3e-8456-d2e71b48999e"
      },
      "source": [
        "!kaggle datasets download -d ravijee/ipl-2008-to-2019"
      ],
      "execution_count": 50,
      "outputs": [
        {
          "output_type": "stream",
          "text": [
            "Downloading ipl-2008-to-2019.zip to /content/ipl\n",
            "\r  0% 0.00/4.14M [00:00<?, ?B/s]\n",
            "\r100% 4.14M/4.14M [00:00<00:00, 67.9MB/s]\n"
          ],
          "name": "stdout"
        }
      ]
    },
    {
      "cell_type": "code",
      "metadata": {
        "id": "vu2gYchIrhz0",
        "colab_type": "code",
        "colab": {
          "base_uri": "https://localhost:8080/",
          "height": 921
        },
        "outputId": "9bba4854-035e-4bea-c435-1ef470d10639"
      },
      "source": [
        "df_combined.info()"
      ],
      "execution_count": 51,
      "outputs": [
        {
          "output_type": "stream",
          "text": [
            "<class 'pandas.core.frame.DataFrame'>\n",
            "Int64Index: 176711 entries, 0 to 245\n",
            "Data columns (total 47 columns):\n",
            "0                  0 non-null object\n",
            "0_extras           0 non-null float64\n",
            "batsman            176702 non-null object\n",
            "batsman_runs       176702 non-null float64\n",
            "batting_team       176711 non-null object\n",
            "bowler             176702 non-null object\n",
            "byes               476 non-null float64\n",
            "extras_runs        176061 non-null float64\n",
            "fielders           6245 non-null object\n",
            "kind               8702 non-null object\n",
            "legbyes            2897 non-null float64\n",
            "level_0            176711 non-null object\n",
            "level_1            176711 non-null object\n",
            "match_id           176711 non-null object\n",
            "noballs            702 non-null float64\n",
            "non_striker        176702 non-null object\n",
            "player_out         8702 non-null object\n",
            "total              176702 non-null float64\n",
            "wides              5337 non-null float64\n",
            "0                  0 non-null float64\n",
            "0_wickets          0 non-null float64\n",
            "non_boundary       14 non-null float64\n",
            "extras             641 non-null float64\n",
            "penalty            2 non-null float64\n",
            "by                 176339 non-null object\n",
            "city               173573 non-null object\n",
            "competition        176711 non-null object\n",
            "dates              176711 non-null object\n",
            "decision           176711 non-null object\n",
            "eliminator         0 non-null object\n",
            "gender             176711 non-null object\n",
            "match_type         176711 non-null object\n",
            "method             3208 non-null object\n",
            "neutral_venue      17839 non-null object\n",
            "overs              176711 non-null object\n",
            "player_of_match    176339 non-null object\n",
            "result             372 non-null object\n",
            "teams              176711 non-null object\n",
            "umpires            176463 non-null object\n",
            "venue              176711 non-null object\n",
            "winner             176711 non-null object\n",
            "winner_toss        176339 non-null object\n",
            "runs               81617 non-null float64\n",
            "wickets            94722 non-null float64\n",
            "match_date         176711 non-null datetime64[ns]\n",
            "season             176711 non-null int64\n",
            "over               176711 non-null object\n",
            "dtypes: datetime64[ns](1), float64(15), int64(1), object(30)\n",
            "memory usage: 64.7+ MB\n"
          ],
          "name": "stdout"
        }
      ]
    },
    {
      "cell_type": "code",
      "metadata": {
        "id": "x9MbVhlqVfpy",
        "colab_type": "code",
        "colab": {}
      },
      "source": [
        "df_fielders = pd.DataFrame(df_combined['fielders'].apply(pd.Series))\n",
        "fielder_cols = ['fielder_1','fielder_2','fielder_3']\n",
        "df_fielders.columns = fielder_cols\n",
        "df_combined = df_combined.join(df_fielders)\n",
        "df_combined.info()"
      ],
      "execution_count": 0,
      "outputs": []
    },
    {
      "cell_type": "code",
      "metadata": {
        "id": "GYh5j8v7P97x",
        "colab_type": "code",
        "colab": {}
      },
      "source": [
        "df_combined['over'].unique()"
      ],
      "execution_count": 0,
      "outputs": []
    },
    {
      "cell_type": "code",
      "metadata": {
        "id": "nmK-GDyFPQPg",
        "colab_type": "code",
        "colab": {}
      },
      "source": [
        "df_combined.groupby(['season','level_0'])['total'].sum()"
      ],
      "execution_count": 0,
      "outputs": []
    },
    {
      "cell_type": "markdown",
      "metadata": {
        "id": "nNeF7AACU3SI",
        "colab_type": "text"
      },
      "source": [
        "## Runs being scored by season"
      ]
    },
    {
      "cell_type": "code",
      "metadata": {
        "id": "BNfHiS2g46Xi",
        "colab_type": "code",
        "colab": {}
      },
      "source": [
        "#plt.plot(df_combined.groupby(['season'])['total'].sum())"
      ],
      "execution_count": 0,
      "outputs": []
    },
    {
      "cell_type": "markdown",
      "metadata": {
        "id": "rlcRXwFTVESE",
        "colab_type": "text"
      },
      "source": [
        "## Runs by innings by season"
      ]
    },
    {
      "cell_type": "code",
      "metadata": {
        "id": "hVdn2CVGzqoz",
        "colab_type": "code",
        "colab": {}
      },
      "source": [
        "plt.plot(df_combined.query('level_0 == \"inning_1\"').groupby(['season'])['total'].mean(),color='green')\n",
        "plt.plot(df_combined.query('level_0 == \"inning_2\"').groupby(['season'])['total'].mean(),color='blue')\n",
        "plt.show()\n"
      ],
      "execution_count": 0,
      "outputs": []
    },
    {
      "cell_type": "markdown",
      "metadata": {
        "id": "YQsf-9g1VcOA",
        "colab_type": "text"
      },
      "source": [
        "## Highest run scorer"
      ]
    },
    {
      "cell_type": "code",
      "metadata": {
        "id": "AqRRTmRhVfgg",
        "colab_type": "code",
        "colab": {}
      },
      "source": [
        ""
      ],
      "execution_count": 0,
      "outputs": []
    },
    {
      "cell_type": "code",
      "metadata": {
        "id": "rq6ADyJO6d9B",
        "colab_type": "code",
        "colab": {}
      },
      "source": [
        "df_combined.groupby(['season','batsman'])['batsman_runs'].sum().nlargest(3)"
      ],
      "execution_count": 0,
      "outputs": []
    },
    {
      "cell_type": "code",
      "metadata": {
        "id": "AzkR-PEAbvVa",
        "colab_type": "code",
        "colab": {}
      },
      "source": [
        "pd.DataFrame(df_combined[['season','batsman','batsman_runs']].groupby(['season','batsman'])['batsman_runs'].sum()).sort_values(by = ['season','batsman_runs'], ascending = [True, False])"
      ],
      "execution_count": 0,
      "outputs": []
    },
    {
      "cell_type": "code",
      "metadata": {
        "id": "BlPSSCUxWvcp",
        "colab_type": "code",
        "colab": {}
      },
      "source": [
        "df_combined.head()"
      ],
      "execution_count": 0,
      "outputs": []
    },
    {
      "cell_type": "code",
      "metadata": {
        "id": "MH72LNkW_Y50",
        "colab_type": "code",
        "colab": {}
      },
      "source": [
        "df_combined['kind'].value_counts()"
      ],
      "execution_count": 0,
      "outputs": []
    },
    {
      "cell_type": "code",
      "metadata": {
        "id": "KR_mcqtCFfuv",
        "colab_type": "code",
        "colab": {}
      },
      "source": [
        "df_combined.query('kind == \"caught\"')"
      ],
      "execution_count": 0,
      "outputs": []
    },
    {
      "cell_type": "code",
      "metadata": {
        "id": "ywXDhOoa_aJA",
        "colab_type": "code",
        "colab": {}
      },
      "source": [
        "#df_combined['catch_attributed_to'] = np.where(df_combined.kind.eq('caught'),df_combined.fielders, np.where(df_combined.kind.eq('caught and bowled'),df_combined.bowler,'na'))"
      ],
      "execution_count": 0,
      "outputs": []
    },
    {
      "cell_type": "code",
      "metadata": {
        "id": "Xky3SxVoHGTT",
        "colab_type": "code",
        "colab": {}
      },
      "source": [
        "df_fielders = pd.DataFrame(df_combined['fielders'].apply(pd.Series))\n",
        "fielder_cols = ['fielder_1','fielder_2','fielder_3']\n",
        "df_fielders.columns = fielder_cols"
      ],
      "execution_count": 0,
      "outputs": []
    },
    {
      "cell_type": "code",
      "metadata": {
        "id": "CpE8RwXPRKa-",
        "colab_type": "code",
        "colab": {}
      },
      "source": [
        "\n",
        "df_fielders.info()\n"
      ],
      "execution_count": 0,
      "outputs": []
    },
    {
      "cell_type": "code",
      "metadata": {
        "id": "J27uLoEDTQ6v",
        "colab_type": "code",
        "colab": {}
      },
      "source": [
        "df_fielders[df_fielders.fielder_2.notnull()]\n"
      ],
      "execution_count": 0,
      "outputs": []
    },
    {
      "cell_type": "code",
      "metadata": {
        "id": "srjlr536HUgK",
        "colab_type": "code",
        "colab": {}
      },
      "source": [
        "#df_combined[df_combined['catch_attributed_to' != 'na']]"
      ],
      "execution_count": 0,
      "outputs": []
    },
    {
      "cell_type": "code",
      "metadata": {
        "id": "-_aLGOsi0xS_",
        "colab_type": "code",
        "colab": {}
      },
      "source": [
        "#df_combined[['season','batsman','batsman_runs']].groupby(['season','batsman']).apply(lambda x: (x.groupby('batsman').sum().sort_values('batsman_runs', ascending=False)).head(3))"
      ],
      "execution_count": 0,
      "outputs": []
    }
  ]
}